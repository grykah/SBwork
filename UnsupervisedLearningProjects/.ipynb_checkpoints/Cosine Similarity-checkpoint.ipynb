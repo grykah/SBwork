{
 "cells": [
  {
   "cell_type": "markdown",
   "metadata": {},
   "source": [
    "## Cosine Similarity"
   ]
  },
  {
   "cell_type": "markdown",
   "metadata": {},
   "source": [
    "* Text for Comparision\n",
    "* Find the Frequency of Words\n",
    "* Compute Cosine Similarity"
   ]
  },
  {
   "cell_type": "markdown",
   "metadata": {},
   "source": [
    "### Text for Comparison"
   ]
  },
  {
   "cell_type": "code",
   "execution_count": 3,
   "metadata": {},
   "outputs": [],
   "source": [
    "# Define the documents\n",
    "env_sci_wiki = \"Environmental science is an interdisciplinary academic field that integrates physical, biological and information sciences (including ecology, biology, physics, chemistry, plant science, zoology, mineralogy, oceanography, limnology, soil science, geology and physical geography, and atmospheric science) to the study of the environment, and the solution of environmental problems. Environmental science emerged from the fields of natural history and medicine during the Enlightenment.[1] Today it provides an integrated, quantitative, and interdisciplinary approach to the study of environmental systems.[2] Environmental studies incorporates more of the social sciences for understanding human relationships, perceptions and policies towards the environment. Environmental engineering focuses on design and technology for improving environmental quality in every aspect. Environmental scientists study subjects like the understanding of earth processes, evaluating alternative energy systems, pollution control and mitigation, natural resource management, and the effects of global climate change. Environmental issues almost always include an interaction of physical, chemical, and biological processes. Environmental scientists bring a systems approach to the analysis of environmental problems. Key elements of an effective environmental scientist include the ability to relate space, and time relationships as well as quantitative analysis. Environmental science came alive as a substantive, active field of scientific investigation in the 1960s and 1970s driven by (a) the need for a multi-disciplinary approach to analyze complex environmental problems, (b) the arrival of substantive environmental laws requiring specific environmental protocols of investigation and (c) the growing public awareness of a need for action in addressing environmental problems. Events that spurred this development included the publication of Rachel Carson's landmark environmental book Silent Spring[3] along with major environmental issues becoming very public, such as the 1969 Santa Barbara oil spill, and the Cuyahoga River of Cleveland, Ohio, 'catching fire' (also in 1969), and helped increase the visibility of environmental issues and create this new field of study.\"\n",
    "env_sci_org = \"Environmental Scientists are those who work in a variety of fields related to the Earth and its resources. They may work in a variety of roles from Environmental Lawyer, Coral Reef Sanctuary Manager, Antarctic Researcher, Laboratory Technician, Wastewater Technician, or Solar Panel Engineer. They have gone through school in a variety of ways to obtain their current positions. Environmental science, studies, policy, and management degree programs are offered at many colleges and universities throughout the world, including quite a few in the United States and Canada. Many students may have begun in a different major, and gone on to graduate school for an Environmental degree. It is one of the fastest growing fields in employment in the United States according the US Labor Bureau. Environmental Scientists work with the Earth's Resources. That is a very broad definition, but considering an Environmental Scientist could be doing anything from helping increase palm wood production in the forests of Samoa to sampling frozen lakes in Siberia or arguing legal cases before the Supreme Court, Environmental Scientists do a lot! Most communities employ at least a few at their local sanitation station, in their building/roads department, and in their public health departments. That would be considered a minimum for a very small community. Cities hire entire environmental legal teams, employ water and transportation teams, infrastructure specialists, local environmental specialists, parks and recreation, etc. The US government is a huge employer; the United States Environmental Protection Agency, the National Park Service, the National Oceanographic and Atmospheric Administration, the United States Geological Survey, and the Department of Energy are just a few of the major employers at the federal level. The private sector also hires a lot of Environmental Science professionals. They may work in as college professors, in R&D, as lobbyists, as remediation specialists, journalists, etc.\"\n",
    "env_sci_brit = \"Environmental science, interdisciplinary academic field that draws on ecology, geology, meteorology, biology, chemistry, engineering, and physics to study environmental problems and human impacts on the environment. Environmental science is a quantitative discipline with both applied and theoretical aspects and has been influential in informing the policies of governments around the world. Environmental science is considered separate from environmental studies, which emphasizes the human relationship with the environment and the social and political dimensions thereof. For example, whereas a researcher in environmental studies might focus on the economic and political dimensions of international climate-change protocols, an environmental scientist would seek to understand climate change by quantifying its effects with models and evaluating means of mitigation. Though the study of the environment is as old as any human endeavour, the modern field of environmental science developed from the growing public awareness and concern about environmental problems in the 1960s and ’70s. The publication of books such as Rachel Carson’s Silent Spring (1962) and Paul R. Ehrlich’s The Population Bomb (1968), together with nuclear proliferation and growing concerns over the anthropogenic release of toxins and chemicals, raised awareness about the need to study the effects of human actions on the environment. The burgeoning field of environmental science took on the task of quantifying the effects of disasters such as the 1979 Three Mile Island accident or the impact of atmospheric sulfur dioxide and other emissions on acid rain. Environmental scientists analyze a wide variety of environmental problems and potential solutions, including alternative energy systems, pollution control, and natural resource management, and may be employed by government, industry, universities, or nonprofit organizations.\"\n",
    "\n",
    "documents = [env_sci_wiki, env_sci_org, env_sci_brit]"
   ]
  },
  {
   "cell_type": "markdown",
   "metadata": {},
   "source": [
    "### Find the Frequency of Words"
   ]
  },
  {
   "cell_type": "markdown",
   "metadata": {},
   "source": [
    "In order to find the cosine similarity, we will start by finding the word count in each text.  We can compute this with scikit learn packages `Count Vectorizer` and `TfidfVectorizer` to create a `sparse_matrix`.  "
   ]
  },
  {
   "cell_type": "code",
   "execution_count": 5,
   "metadata": {},
   "outputs": [
    {
     "data": {
      "text/html": [
       "<div>\n",
       "<style scoped>\n",
       "    .dataframe tbody tr th:only-of-type {\n",
       "        vertical-align: middle;\n",
       "    }\n",
       "\n",
       "    .dataframe tbody tr th {\n",
       "        vertical-align: top;\n",
       "    }\n",
       "\n",
       "    .dataframe thead th {\n",
       "        text-align: right;\n",
       "    }\n",
       "</style>\n",
       "<table border=\"1\" class=\"dataframe\">\n",
       "  <thead>\n",
       "    <tr style=\"text-align: right;\">\n",
       "      <th></th>\n",
       "      <th>1960s</th>\n",
       "      <th>1962</th>\n",
       "      <th>1968</th>\n",
       "      <th>1969</th>\n",
       "      <th>1970s</th>\n",
       "      <th>1979</th>\n",
       "      <th>70s</th>\n",
       "      <th>ability</th>\n",
       "      <th>about</th>\n",
       "      <th>academic</th>\n",
       "      <th>...</th>\n",
       "      <th>whereas</th>\n",
       "      <th>which</th>\n",
       "      <th>who</th>\n",
       "      <th>wide</th>\n",
       "      <th>with</th>\n",
       "      <th>wood</th>\n",
       "      <th>work</th>\n",
       "      <th>world</th>\n",
       "      <th>would</th>\n",
       "      <th>zoology</th>\n",
       "    </tr>\n",
       "  </thead>\n",
       "  <tbody>\n",
       "    <tr>\n",
       "      <th>env_sci_wiki</th>\n",
       "      <td>1</td>\n",
       "      <td>0</td>\n",
       "      <td>0</td>\n",
       "      <td>2</td>\n",
       "      <td>1</td>\n",
       "      <td>0</td>\n",
       "      <td>0</td>\n",
       "      <td>1</td>\n",
       "      <td>0</td>\n",
       "      <td>1</td>\n",
       "      <td>...</td>\n",
       "      <td>0</td>\n",
       "      <td>0</td>\n",
       "      <td>0</td>\n",
       "      <td>0</td>\n",
       "      <td>1</td>\n",
       "      <td>0</td>\n",
       "      <td>0</td>\n",
       "      <td>0</td>\n",
       "      <td>0</td>\n",
       "      <td>1</td>\n",
       "    </tr>\n",
       "    <tr>\n",
       "      <th>env_sci_org</th>\n",
       "      <td>0</td>\n",
       "      <td>0</td>\n",
       "      <td>0</td>\n",
       "      <td>0</td>\n",
       "      <td>0</td>\n",
       "      <td>0</td>\n",
       "      <td>0</td>\n",
       "      <td>0</td>\n",
       "      <td>0</td>\n",
       "      <td>0</td>\n",
       "      <td>...</td>\n",
       "      <td>0</td>\n",
       "      <td>0</td>\n",
       "      <td>1</td>\n",
       "      <td>0</td>\n",
       "      <td>1</td>\n",
       "      <td>1</td>\n",
       "      <td>4</td>\n",
       "      <td>1</td>\n",
       "      <td>1</td>\n",
       "      <td>0</td>\n",
       "    </tr>\n",
       "    <tr>\n",
       "      <th>env_sci_brit</th>\n",
       "      <td>1</td>\n",
       "      <td>1</td>\n",
       "      <td>1</td>\n",
       "      <td>0</td>\n",
       "      <td>0</td>\n",
       "      <td>1</td>\n",
       "      <td>1</td>\n",
       "      <td>0</td>\n",
       "      <td>2</td>\n",
       "      <td>1</td>\n",
       "      <td>...</td>\n",
       "      <td>1</td>\n",
       "      <td>1</td>\n",
       "      <td>0</td>\n",
       "      <td>1</td>\n",
       "      <td>4</td>\n",
       "      <td>0</td>\n",
       "      <td>0</td>\n",
       "      <td>1</td>\n",
       "      <td>1</td>\n",
       "      <td>0</td>\n",
       "    </tr>\n",
       "  </tbody>\n",
       "</table>\n",
       "<p>3 rows × 387 columns</p>\n",
       "</div>"
      ],
      "text/plain": [
       "              1960s  1962  1968  1969  1970s  1979  70s  ability  about  \\\n",
       "env_sci_wiki      1     0     0     2      1     0    0        1      0   \n",
       "env_sci_org       0     0     0     0      0     0    0        0      0   \n",
       "env_sci_brit      1     1     1     0      0     1    1        0      2   \n",
       "\n",
       "              academic  ...  whereas  which  who  wide  with  wood  work  \\\n",
       "env_sci_wiki         1  ...        0      0    0     0     1     0     0   \n",
       "env_sci_org          0  ...        0      0    1     0     1     1     4   \n",
       "env_sci_brit         1  ...        1      1    0     1     4     0     0   \n",
       "\n",
       "              world  would  zoology  \n",
       "env_sci_wiki      0      0        1  \n",
       "env_sci_org       1      1        0  \n",
       "env_sci_brit      1      1        0  \n",
       "\n",
       "[3 rows x 387 columns]"
      ]
     },
     "execution_count": 5,
     "metadata": {},
     "output_type": "execute_result"
    }
   ],
   "source": [
    "# Scikit Learn\n",
    "from sklearn.feature_extraction.text import CountVectorizer\n",
    "import pandas as pd\n",
    "\n",
    "# Create the Document Term Matrix\n",
    "count_vectorizer = CountVectorizer(stop_words='english')\n",
    "count_vectorizer = CountVectorizer()\n",
    "sparse_matrix = count_vectorizer.fit_transform(documents)\n",
    "\n",
    "# OPTIONAL: Convert Sparse Matrix to Pandas Dataframe if you want to see the word frequencies.\n",
    "doc_term_matrix = sparse_matrix.todense()\n",
    "df = pd.DataFrame(doc_term_matrix, \n",
    "                  columns=count_vectorizer.get_feature_names(), \n",
    "                  index=['env_sci_wiki', 'env_sci_org', 'env_sci_brit'])\n",
    "df"
   ]
  },
  {
   "cell_type": "markdown",
   "metadata": {},
   "source": [
    "### Compute the Cosine Similarity"
   ]
  },
  {
   "cell_type": "markdown",
   "metadata": {},
   "source": [
    "Finally, the use `cosine_similarity()` function.  This will take the document term matri as a pandas dataframe or as a sparce matrix.  "
   ]
  },
  {
   "cell_type": "code",
   "execution_count": 6,
   "metadata": {},
   "outputs": [
    {
     "name": "stdout",
     "output_type": "stream",
     "text": [
      "[[1.         0.70971991 0.86368157]\n",
      " [0.70971991 1.         0.7159705 ]\n",
      " [0.86368157 0.7159705  1.        ]]\n"
     ]
    }
   ],
   "source": [
    "# Compute Cosine Similarity\n",
    "from sklearn.metrics.pairwise import cosine_similarity\n",
    "print(cosine_similarity(df, df))"
   ]
  },
  {
   "cell_type": "markdown",
   "metadata": {},
   "source": [
    "Thus, we can see that the text from wikipedia and the britannica are more similar than the wikipedia and org text.  "
   ]
  },
  {
   "cell_type": "code",
   "execution_count": null,
   "metadata": {},
   "outputs": [],
   "source": []
  }
 ],
 "metadata": {
  "kernelspec": {
   "display_name": "Python 3",
   "language": "python",
   "name": "python3"
  },
  "language_info": {
   "codemirror_mode": {
    "name": "ipython",
    "version": 3
   },
   "file_extension": ".py",
   "mimetype": "text/x-python",
   "name": "python",
   "nbconvert_exporter": "python",
   "pygments_lexer": "ipython3",
   "version": "3.7.7"
  }
 },
 "nbformat": 4,
 "nbformat_minor": 4
}
