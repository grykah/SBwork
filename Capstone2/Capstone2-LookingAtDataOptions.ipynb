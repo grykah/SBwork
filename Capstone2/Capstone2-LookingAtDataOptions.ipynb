{
 "cells": [
  {
   "cell_type": "markdown",
   "metadata": {},
   "source": [
    "# Importing and viewing data"
   ]
  },
  {
   "cell_type": "code",
   "execution_count": 1,
   "metadata": {},
   "outputs": [],
   "source": [
    "#Load packages for use \n",
    "\n",
    "import pandas as pd"
   ]
  },
  {
   "cell_type": "markdown",
   "metadata": {},
   "source": [
    "### Datasets for Capstone Proposal 1\n",
    "#### Predict Cardiovascular health based on age, sex, blood pressure, heart rate, and cholesterol."
   ]
  },
  {
   "cell_type": "code",
   "execution_count": 6,
   "metadata": {},
   "outputs": [
    {
     "name": "stdout",
     "output_type": "stream",
     "text": [
      "Index(['age', 'sex', 'cp', 'trestbps', 'chol', 'fbs', 'restecg', 'thalach',\n",
      "       'exang', 'oldpeak', 'slope', 'ca', 'thal', 'target'],\n",
      "      dtype='object')\n",
      "   age  sex  cp  trestbps  chol  fbs  restecg  thalach  exang  oldpeak  slope  \\\n",
      "0   63    1   3       145   233    1        0      150      0      2.3      0   \n",
      "1   37    1   2       130   250    0        1      187      0      3.5      0   \n",
      "2   41    0   1       130   204    0        0      172      0      1.4      2   \n",
      "3   56    1   1       120   236    0        1      178      0      0.8      2   \n",
      "4   57    0   0       120   354    0        1      163      1      0.6      2   \n",
      "\n",
      "   ca  thal  target  \n",
      "0   0     1       1  \n",
      "1   0     2       1  \n",
      "2   0     2       1  \n",
      "3   0     2       1  \n",
      "4   0     2       1  \n"
     ]
    }
   ],
   "source": [
    "#Example dataset for Cap1 -- types of hospitalizations that occur seasonally\n",
    "cap1_path = 'C:\\\\Users\\\\Hailey\\\\Documents\\\\GitHub\\\\SBwork\\\\Capstone2\\\\Project1Data\\\\datasets_33180_43520_heart.csv'\n",
    "df1 = pd.read_csv (cap1_path)\n",
    "\n",
    "print(df1.keys())\n",
    "print(df1.head())"
   ]
  },
  {
   "cell_type": "markdown",
   "metadata": {},
   "source": [
    "### Datasets for Capstone Proposal 2\n",
    "##### Predict potential for Alzheimer's given Location and Nutrition/Physical Activity/Obesity rating. "
   ]
  },
  {
   "cell_type": "code",
   "execution_count": 3,
   "metadata": {},
   "outputs": [
    {
     "name": "stdout",
     "output_type": "stream",
     "text": [
      "Index(['YearStart', 'YearEnd', 'LocationAbbr', 'LocationDesc', 'Datasource',\n",
      "       'Class', 'Topic', 'Question', 'Response', 'Data_Value_Unit',\n",
      "       'DataValueTypeID', 'Data_Value_Type', 'Data_Value', 'Data_Value_Alt',\n",
      "       'Data_Value_Footnote_Symbol', 'Data_Value_Footnote',\n",
      "       'Low_Confidence_Limit', 'High_Confidence_Limit', 'Sample_Size',\n",
      "       'StratificationCategory1', 'Stratification1', 'StratificationCategory2',\n",
      "       'Stratification2', 'StratificationCategory3', 'Stratification3',\n",
      "       'GeoLocation', 'ClassID', 'TopicID', 'QuestionID', 'ResponseID',\n",
      "       'LocationID', 'StratificationCategoryID1', 'StratificationID1',\n",
      "       'StratificationCategoryID2', 'StratificationID2',\n",
      "       'StratificationCategoryID3', 'StratificationID3', 'Report'],\n",
      "      dtype='object')\n",
      "   YearStart  YearEnd LocationAbbr LocationDesc Datasource  \\\n",
      "0       2017     2017           ID        Idaho      BRFSS   \n",
      "1       2017     2017           WA   Washington      BRFSS   \n",
      "2       2017     2017           HI       Hawaii      BRFSS   \n",
      "3       2017     2017           VT      Vermont      BRFSS   \n",
      "4       2015     2015           OH         Ohio      BRFSS   \n",
      "\n",
      "                                 Class                          Topic  \\\n",
      "0  Nutrition/Physical Activity/Obesity  Eating 2 or more fruits daily   \n",
      "1  Nutrition/Physical Activity/Obesity  Eating 2 or more fruits daily   \n",
      "2  Nutrition/Physical Activity/Obesity  Eating 2 or more fruits daily   \n",
      "3  Nutrition/Physical Activity/Obesity  Eating 2 or more fruits daily   \n",
      "4  Nutrition/Physical Activity/Obesity  Eating 2 or more fruits daily   \n",
      "\n",
      "                                            Question  Response  \\\n",
      "0  Percentage of older adults who are eating 2 or...       NaN   \n",
      "1  Percentage of older adults who are eating 2 or...       NaN   \n",
      "2  Percentage of older adults who are eating 2 or...       NaN   \n",
      "3  Percentage of older adults who are eating 2 or...       NaN   \n",
      "4  Percentage of older adults who are eating 2 or...       NaN   \n",
      "\n",
      "  Data_Value_Unit  ... QuestionID ResponseID  LocationID  \\\n",
      "0               %  ...        Q01        NaN          16   \n",
      "1               %  ...        Q01        NaN          53   \n",
      "2               %  ...        Q01        NaN          15   \n",
      "3               %  ...        Q01        NaN          50   \n",
      "4               %  ...        Q01        NaN          39   \n",
      "\n",
      "   StratificationCategoryID1 StratificationID1 StratificationCategoryID2  \\\n",
      "0                        AGE              5064                      RACE   \n",
      "1                        AGE              5064                      RACE   \n",
      "2                        AGE            65PLUS                      RACE   \n",
      "3                        AGE            65PLUS                      RACE   \n",
      "4                        AGE       AGE_OVERALL                      RACE   \n",
      "\n",
      "   StratificationID2  StratificationCategoryID3  StratificationID3 Report  \n",
      "0                ASN                        NaN                NaN    NaN  \n",
      "1                ASN                        NaN                NaN    NaN  \n",
      "2                ASN                        NaN                NaN    NaN  \n",
      "3                ASN                        NaN                NaN    NaN  \n",
      "4                HIS                        NaN                NaN    NaN  \n",
      "\n",
      "[5 rows x 38 columns]\n"
     ]
    }
   ],
   "source": [
    "cap2_path = 'C:\\\\Users\\\\Hailey\\\\Documents\\\\GitHub\\\\SBwork\\\\Capstone2\\\\Project2Data\\\\Alzheimer_s_Disease_and_Healthy_Aging_Data.csv'\n",
    "df2 = pd.read_csv (cap2_path)\n",
    "\n",
    "print(df2.keys())\n",
    "print(df2.head())"
   ]
  },
  {
   "cell_type": "markdown",
   "metadata": {},
   "source": [
    "### Datasets for Capstone Proposal 3\n",
    "##### Predict Hazardous Days given the location, Good Days, and Moderate Days"
   ]
  },
  {
   "cell_type": "code",
   "execution_count": 4,
   "metadata": {},
   "outputs": [
    {
     "name": "stdout",
     "output_type": "stream",
     "text": [
      "Index(['State', 'County', 'Year', 'Days with AQI', 'Good Days',\n",
      "       'Moderate Days', 'Unhealthy for Sensitive Groups Days',\n",
      "       'Unhealthy Days', 'Very Unhealthy Days', 'Hazardous Days', 'Max AQI',\n",
      "       '90th Percentile AQI', 'Median AQI', 'Days CO', 'Days NO2',\n",
      "       'Days Ozone', 'Days SO2', 'Days PM2.5', 'Days PM10'],\n",
      "      dtype='object')\n",
      "     State    County  Year  Days with AQI  Good Days  Moderate Days  \\\n",
      "0  Alabama      Clay  1999            273        117             97   \n",
      "1  Alabama   Colbert  1999            359        276             71   \n",
      "2  Alabama    DeKalb  1999            332        134            119   \n",
      "3  Alabama    Elmore  1999            241        157             71   \n",
      "4  Alabama  Escambia  1999             58         57              1   \n",
      "\n",
      "   Unhealthy for Sensitive Groups Days  Unhealthy Days  Very Unhealthy Days  \\\n",
      "0                                   49              10                    0   \n",
      "1                                   11               1                    0   \n",
      "2                                   60              19                    0   \n",
      "3                                   12               1                    0   \n",
      "4                                    0               0                    0   \n",
      "\n",
      "   Hazardous Days  Max AQI  90th Percentile AQI  Median AQI  Days CO  \\\n",
      "0               0      182                  122          58        0   \n",
      "1               0      166                   73          11        0   \n",
      "2               0      195                  133          59        0   \n",
      "3               0      151                   87          45        0   \n",
      "4               0       52                   35          20        0   \n",
      "\n",
      "   Days NO2  Days Ozone  Days SO2  Days PM2.5  Days PM10  \n",
      "0         0         211         0          62          0  \n",
      "1         0           0       284          75          0  \n",
      "2         0         270         0          62          0  \n",
      "3         0         241         0           0          0  \n",
      "4         0           0         0           0         58  \n"
     ]
    }
   ],
   "source": [
    "#Example dataset for Cap3 (also shown in Cap1) -- seasonal air quality given the location\n",
    "cap3_path = 'C:\\\\Users\\\\Hailey\\\\Documents\\\\GitHub\\\\SBwork\\\\Capstone2\\\\Project3Data\\\\annual_aqi_by_county_1999.csv'\n",
    "df3 = pd.read_csv(cap3_path)\n",
    "\n",
    "print(df3.keys())\n",
    "print(df3.head())"
   ]
  },
  {
   "cell_type": "code",
   "execution_count": null,
   "metadata": {},
   "outputs": [],
   "source": []
  }
 ],
 "metadata": {
  "kernelspec": {
   "display_name": "Python 3",
   "language": "python",
   "name": "python3"
  },
  "language_info": {
   "codemirror_mode": {
    "name": "ipython",
    "version": 3
   },
   "file_extension": ".py",
   "mimetype": "text/x-python",
   "name": "python",
   "nbconvert_exporter": "python",
   "pygments_lexer": "ipython3",
   "version": "3.7.7"
  }
 },
 "nbformat": 4,
 "nbformat_minor": 4
}
