{
 "cells": [
  {
   "cell_type": "markdown",
   "metadata": {},
   "source": [
    "# 4 Preprocessing and Training Data<a id='4_Preprocessing_and_Training_Data'></a>"
   ]
  },
  {
   "cell_type": "markdown",
   "metadata": {},
   "source": [
    "## 4.1 Contents<a id='4.1_Contents'></a>\n",
    "* [4 Preprocessing and Training Data](#4_Preprocessing_and_Training_Data)\n",
    "  * [4.1 Contents](#4.1_Contents)\n",
    "  * [4.2 Introduction](#4.2_Introduction)\n",
    "  * [4.3 Imports](#4.3_Imports)\n",
    "  * [4.4 Load The Data](#4.4_Load_The_Data)  \n",
    "    * [4.4.1 Data](#4.4.1_data)\n",
    "  * [4.5 Preprocess The Data](#4.5_Preprocess_The_Data)\n",
    "    * [4.5.1 Scaling](#4.5.1_Scaling)\n",
    "    * [4.5.2 Null Values and Outliers](#4.5.2_Null_Values_and_Outliers)\n",
    "    * [4.5.3 Predicted Variable Categorize](#4.5.3_Predicted_Variable_Categorize)\n",
    "  * [4.6 Data Training](#4.6_Data_Training) \n",
    "     * [4.6.1 Split Data and Initialize Model](#4.6.1_Split_Model)\n",
    "     * [4.6.2 Fit Model](#4.6.2_Fit_Model)\n",
    "     * [4.6.3 Look at Preliminary Model](#4.6.3_Look_at_Preliminary_Model)\n",
    "  * [4.7 Summary](#3.7_Summary)\n"
   ]
  },
  {
   "cell_type": "markdown",
   "metadata": {},
   "source": [
    "## 4.2 Introduction<a id='4.2_Introduction'></a>"
   ]
  },
  {
   "cell_type": "markdown",
   "metadata": {},
   "source": [
    "Herein, we will complete any preprocessing required and then split/train the data.  "
   ]
  },
  {
   "cell_type": "markdown",
   "metadata": {},
   "source": [
    "## 4.3 Imports<a id='4.3_Imports'></a>"
   ]
  },
  {
   "cell_type": "code",
   "execution_count": 170,
   "metadata": {},
   "outputs": [],
   "source": [
    "import pandas as pd\n",
    "import numpy as np\n",
    "import os\n",
    "import matplotlib.pyplot as plt\n",
    "import seaborn as sns\n",
    "\n",
    "from sklearn.preprocessing import MinMaxScaler\n",
    "\n",
    "from sklearn.model_selection import train_test_split\n",
    "from imblearn.over_sampling import SMOTE\n",
    "from sklearn.feature_selection import RFE\n",
    "from sklearn.linear_model import LogisticRegression\n",
    "from sklearn.metrics import accuracy_score"
   ]
  },
  {
   "cell_type": "markdown",
   "metadata": {},
   "source": [
    "## 4.4 Load the Data<a id='4.4_Load_The_Data'></a>"
   ]
  },
  {
   "cell_type": "markdown",
   "metadata": {},
   "source": [
    "### 4.4.1 Data<a id='4.4.1_data'></a>"
   ]
  },
  {
   "cell_type": "code",
   "execution_count": 218,
   "metadata": {},
   "outputs": [
    {
     "data": {
      "text/html": [
       "<div>\n",
       "<style scoped>\n",
       "    .dataframe tbody tr th:only-of-type {\n",
       "        vertical-align: middle;\n",
       "    }\n",
       "\n",
       "    .dataframe tbody tr th {\n",
       "        vertical-align: top;\n",
       "    }\n",
       "\n",
       "    .dataframe thead th {\n",
       "        text-align: right;\n",
       "    }\n",
       "</style>\n",
       "<table border=\"1\" class=\"dataframe\">\n",
       "  <thead>\n",
       "    <tr style=\"text-align: right;\">\n",
       "      <th></th>\n",
       "      <th>country</th>\n",
       "      <th>adult_anemia_2016</th>\n",
       "      <th>adult_blood_pressure_2015</th>\n",
       "      <th>adult_sodium_2017</th>\n",
       "      <th>basic_sanitation_2017</th>\n",
       "      <th>basic_water_2017</th>\n",
       "      <th>fruit_veg_availability_2013</th>\n",
       "      <th>government_revenue_2020</th>\n",
       "      <th>limited_sanitation_2017</th>\n",
       "      <th>limited_water_2017</th>\n",
       "      <th>...</th>\n",
       "      <th>unimproved_sanitation_2017</th>\n",
       "      <th>unimproved_water_2017</th>\n",
       "      <th>workplaces_percent_change_from_baseline</th>\n",
       "      <th>parkinson_disease_deaths</th>\n",
       "      <th>dementia_deaths</th>\n",
       "      <th>cancers_deaths</th>\n",
       "      <th>economic_rating</th>\n",
       "      <th>macroeconomic_rating</th>\n",
       "      <th>cases_per_cap</th>\n",
       "      <th>day_number</th>\n",
       "    </tr>\n",
       "  </thead>\n",
       "  <tbody>\n",
       "    <tr>\n",
       "      <th>0</th>\n",
       "      <td>S. Korea</td>\n",
       "      <td>23.700000</td>\n",
       "      <td>10.980</td>\n",
       "      <td>5.203333</td>\n",
       "      <td>0.10</td>\n",
       "      <td>1.57</td>\n",
       "      <td>747.25</td>\n",
       "      <td>38.14</td>\n",
       "      <td>0.00</td>\n",
       "      <td>0.0</td>\n",
       "      <td>...</td>\n",
       "      <td>0.00</td>\n",
       "      <td>0.21</td>\n",
       "      <td>-6.486413</td>\n",
       "      <td>3224.604757</td>\n",
       "      <td>29798.685258</td>\n",
       "      <td>89670.950054</td>\n",
       "      <td>3.166667</td>\n",
       "      <td>3.5</td>\n",
       "      <td>35.620943</td>\n",
       "      <td>82</td>\n",
       "    </tr>\n",
       "    <tr>\n",
       "      <th>1</th>\n",
       "      <td>Japan</td>\n",
       "      <td>25.600000</td>\n",
       "      <td>17.550</td>\n",
       "      <td>5.766667</td>\n",
       "      <td>1.13</td>\n",
       "      <td>0.56</td>\n",
       "      <td>425.05</td>\n",
       "      <td>38.14</td>\n",
       "      <td>0.00</td>\n",
       "      <td>0.0</td>\n",
       "      <td>...</td>\n",
       "      <td>0.11</td>\n",
       "      <td>0.99</td>\n",
       "      <td>-13.006793</td>\n",
       "      <td>15161.514382</td>\n",
       "      <td>190560.882432</td>\n",
       "      <td>408392.273177</td>\n",
       "      <td>3.166667</td>\n",
       "      <td>3.5</td>\n",
       "      <td>49.931240</td>\n",
       "      <td>84</td>\n",
       "    </tr>\n",
       "    <tr>\n",
       "      <th>2</th>\n",
       "      <td>Italy</td>\n",
       "      <td>19.666667</td>\n",
       "      <td>21.170</td>\n",
       "      <td>4.050000</td>\n",
       "      <td>2.56</td>\n",
       "      <td>4.40</td>\n",
       "      <td>736.07</td>\n",
       "      <td>38.14</td>\n",
       "      <td>0.10</td>\n",
       "      <td>0.0</td>\n",
       "      <td>...</td>\n",
       "      <td>1.13</td>\n",
       "      <td>0.56</td>\n",
       "      <td>-32.841150</td>\n",
       "      <td>7608.794566</td>\n",
       "      <td>72574.526515</td>\n",
       "      <td>182277.862996</td>\n",
       "      <td>3.166667</td>\n",
       "      <td>3.5</td>\n",
       "      <td>432.064137</td>\n",
       "      <td>86</td>\n",
       "    </tr>\n",
       "    <tr>\n",
       "      <th>3</th>\n",
       "      <td>Germany</td>\n",
       "      <td>18.566667</td>\n",
       "      <td>19.875</td>\n",
       "      <td>3.810000</td>\n",
       "      <td>1.99</td>\n",
       "      <td>0.20</td>\n",
       "      <td>496.91</td>\n",
       "      <td>38.14</td>\n",
       "      <td>0.77</td>\n",
       "      <td>0.0</td>\n",
       "      <td>...</td>\n",
       "      <td>0.00</td>\n",
       "      <td>0.00</td>\n",
       "      <td>-21.465793</td>\n",
       "      <td>12619.472416</td>\n",
       "      <td>83603.200360</td>\n",
       "      <td>250892.527601</td>\n",
       "      <td>3.166667</td>\n",
       "      <td>3.5</td>\n",
       "      <td>283.413813</td>\n",
       "      <td>91</td>\n",
       "    </tr>\n",
       "    <tr>\n",
       "      <th>4</th>\n",
       "      <td>France</td>\n",
       "      <td>20.333333</td>\n",
       "      <td>22.050</td>\n",
       "      <td>3.813333</td>\n",
       "      <td>10.28</td>\n",
       "      <td>2.15</td>\n",
       "      <td>579.88</td>\n",
       "      <td>38.14</td>\n",
       "      <td>1.35</td>\n",
       "      <td>0.0</td>\n",
       "      <td>...</td>\n",
       "      <td>0.00</td>\n",
       "      <td>0.00</td>\n",
       "      <td>-32.442342</td>\n",
       "      <td>7622.824664</td>\n",
       "      <td>68727.644036</td>\n",
       "      <td>180571.724245</td>\n",
       "      <td>3.166667</td>\n",
       "      <td>3.5</td>\n",
       "      <td>380.052114</td>\n",
       "      <td>91</td>\n",
       "    </tr>\n",
       "  </tbody>\n",
       "</table>\n",
       "<p>5 rows × 27 columns</p>\n",
       "</div>"
      ],
      "text/plain": [
       "    country  adult_anemia_2016  adult_blood_pressure_2015  adult_sodium_2017  \\\n",
       "0  S. Korea          23.700000                     10.980           5.203333   \n",
       "1     Japan          25.600000                     17.550           5.766667   \n",
       "2     Italy          19.666667                     21.170           4.050000   \n",
       "3   Germany          18.566667                     19.875           3.810000   \n",
       "4    France          20.333333                     22.050           3.813333   \n",
       "\n",
       "   basic_sanitation_2017  basic_water_2017  fruit_veg_availability_2013  \\\n",
       "0                   0.10              1.57                       747.25   \n",
       "1                   1.13              0.56                       425.05   \n",
       "2                   2.56              4.40                       736.07   \n",
       "3                   1.99              0.20                       496.91   \n",
       "4                  10.28              2.15                       579.88   \n",
       "\n",
       "   government_revenue_2020  limited_sanitation_2017  limited_water_2017  ...  \\\n",
       "0                    38.14                     0.00                 0.0  ...   \n",
       "1                    38.14                     0.00                 0.0  ...   \n",
       "2                    38.14                     0.10                 0.0  ...   \n",
       "3                    38.14                     0.77                 0.0  ...   \n",
       "4                    38.14                     1.35                 0.0  ...   \n",
       "\n",
       "   unimproved_sanitation_2017  unimproved_water_2017  \\\n",
       "0                        0.00                   0.21   \n",
       "1                        0.11                   0.99   \n",
       "2                        1.13                   0.56   \n",
       "3                        0.00                   0.00   \n",
       "4                        0.00                   0.00   \n",
       "\n",
       "   workplaces_percent_change_from_baseline  parkinson_disease_deaths  \\\n",
       "0                                -6.486413               3224.604757   \n",
       "1                               -13.006793              15161.514382   \n",
       "2                               -32.841150               7608.794566   \n",
       "3                               -21.465793              12619.472416   \n",
       "4                               -32.442342               7622.824664   \n",
       "\n",
       "   dementia_deaths  cancers_deaths  economic_rating  macroeconomic_rating  \\\n",
       "0     29798.685258    89670.950054         3.166667                   3.5   \n",
       "1    190560.882432   408392.273177         3.166667                   3.5   \n",
       "2     72574.526515   182277.862996         3.166667                   3.5   \n",
       "3     83603.200360   250892.527601         3.166667                   3.5   \n",
       "4     68727.644036   180571.724245         3.166667                   3.5   \n",
       "\n",
       "   cases_per_cap  day_number  \n",
       "0      35.620943          82  \n",
       "1      49.931240          84  \n",
       "2     432.064137          86  \n",
       "3     283.413813          91  \n",
       "4     380.052114          91  \n",
       "\n",
       "[5 rows x 27 columns]"
      ]
     },
     "execution_count": 218,
     "metadata": {},
     "output_type": "execute_result"
    }
   ],
   "source": [
    "df = pd.read_csv('/Users/gryka/Documents/GitHub/SBwork/Capstone2/Data/data_EDA.csv')\n",
    "df.head()"
   ]
  },
  {
   "cell_type": "code",
   "execution_count": 219,
   "metadata": {},
   "outputs": [
    {
     "name": "stdout",
     "output_type": "stream",
     "text": [
      "<class 'pandas.core.frame.DataFrame'>\n",
      "RangeIndex: 121 entries, 0 to 120\n",
      "Data columns (total 27 columns):\n",
      " #   Column                                   Non-Null Count  Dtype  \n",
      "---  ------                                   --------------  -----  \n",
      " 0   country                                  121 non-null    object \n",
      " 1   adult_anemia_2016                        121 non-null    float64\n",
      " 2   adult_blood_pressure_2015                121 non-null    float64\n",
      " 3   adult_sodium_2017                        121 non-null    float64\n",
      " 4   basic_sanitation_2017                    121 non-null    float64\n",
      " 5   basic_water_2017                         121 non-null    float64\n",
      " 6   fruit_veg_availability_2013              121 non-null    float64\n",
      " 7   government_revenue_2020                  121 non-null    float64\n",
      " 8   limited_sanitation_2017                  121 non-null    float64\n",
      " 9   limited_water_2017                       121 non-null    float64\n",
      " 10  nurses_and_midwives_2016                 121 non-null    float64\n",
      " 11  open_defecation_2017                     121 non-null    float64\n",
      " 12  physicians_2016                          121 non-null    float64\n",
      " 13  safely_managed_sanitation_2017           121 non-null    float64\n",
      " 14  safely_managed_water_2017                121 non-null    float64\n",
      " 15  surface_water_2017                       121 non-null    float64\n",
      " 16  undernourishment_prev_2017               121 non-null    float64\n",
      " 17  unimproved_sanitation_2017               121 non-null    float64\n",
      " 18  unimproved_water_2017                    121 non-null    float64\n",
      " 19  workplaces_percent_change_from_baseline  121 non-null    float64\n",
      " 20  parkinson_disease_deaths                 121 non-null    float64\n",
      " 21  dementia_deaths                          121 non-null    float64\n",
      " 22  cancers_deaths                           121 non-null    float64\n",
      " 23  economic_rating                          121 non-null    float64\n",
      " 24  macroeconomic_rating                     121 non-null    float64\n",
      " 25  cases_per_cap                            121 non-null    float64\n",
      " 26  day_number                               121 non-null    int64  \n",
      "dtypes: float64(25), int64(1), object(1)\n",
      "memory usage: 25.6+ KB\n"
     ]
    }
   ],
   "source": [
    "df.info()"
   ]
  },
  {
   "cell_type": "markdown",
   "metadata": {},
   "source": [
    "## 4.5 Preprocess The Data<a id='4.5_Preprocess_The_Data'></a>"
   ]
  },
  {
   "cell_type": "markdown",
   "metadata": {},
   "source": [
    "### 4.5.1 Scaling<a id='4.5.1_Scaling'></a>\n",
    "\n",
    "In the previous workbook, we performed scaling in order to complete PCA analysis.  Due to the number of outliers in some of the data, we may want to revist this and consider removing outliers prior to re-scaling. "
   ]
  },
  {
   "cell_type": "code",
   "execution_count": 220,
   "metadata": {},
   "outputs": [
    {
     "data": {
      "text/plain": [
       "4    59\n",
       "5    38\n",
       "6    11\n",
       "7     7\n",
       "9     3\n",
       "8     2\n",
       "3     1\n",
       "2     0\n",
       "1     0\n",
       "Name: week_cat, dtype: int64"
      ]
     },
     "execution_count": 220,
     "metadata": {},
     "output_type": "execute_result"
    }
   ],
   "source": [
    "# based on initial results, go back and bin days into weeks.\n",
    "# 82-250\n",
    "bins = np.linspace(0, 250, 10)\n",
    "names = [1,2,3,4,5,6,7,8,9]\n",
    "\n",
    "df['week_cat'] = pd.cut(df.day_number, bins, labels=names)\n",
    "\n",
    "df.week_cat.value_counts()\n"
   ]
  },
  {
   "cell_type": "code",
   "execution_count": 221,
   "metadata": {},
   "outputs": [
    {
     "data": {
      "image/png": "[encoded data removed]",
      "text/plain": [
       "<Figure size 432x288 with 1 Axes>"
      ]
     },
     "metadata": {
      "needs_background": "light"
     },
     "output_type": "display_data"
    }
   ],
   "source": [
    "cols = list(df.columns.drop(['country', 'week_cat']))\n",
    "df.boxplot(column=cols, grid = False, rot=45, fontsize=8)\n",
    "plt.show()"
   ]
  },
  {
   "cell_type": "markdown",
   "metadata": {},
   "source": [
    " Above, we can see that the majority of the columns similar scaling, however, dementia_deaths and cancers_deaths have some extreme outliers.  We would also keep an eye on parkinson_disease_deaths as this column also appears to have outliers.  "
   ]
  },
  {
   "cell_type": "code",
   "execution_count": 222,
   "metadata": {},
   "outputs": [
    {
     "data": {
      "image/png": "[encoded data removed]",
      "text/plain": [
       "<Figure size 432x288 with 1 Axes>"
      ]
     },
     "metadata": {
      "needs_background": "light"
     },
     "output_type": "display_data"
    }
   ],
   "source": [
    "df.boxplot(column=['dementia_deaths', 'cancers_deaths', 'parkinson_disease_deaths'], grid=False, rot=45, fontsize=8)\n",
    "plt.show()"
   ]
  },
  {
   "cell_type": "code",
   "execution_count": 223,
   "metadata": {},
   "outputs": [
    {
     "data": {
      "image/png": "[encoded data removed]",
      "text/plain": [
       "<Figure size 432x288 with 1 Axes>"
      ]
     },
     "metadata": {
      "needs_background": "light"
     },
     "output_type": "display_data"
    }
   ],
   "source": [
    "df.boxplot(column=['adult_anemia_2016', 'surface_water_2017', 'cases_per_cap'], grid=False, rot=45, fontsize=8)\n",
    "plt.show()"
   ]
  },
  {
   "cell_type": "markdown",
   "metadata": {},
   "source": [
    "Above are some subplots of different data from which we can more definatevely see that there are still some scaling issues throughout the data despite the previoius scaling.  Thus, we should work to rescale.  \n",
    "\n",
    "The data herein is all important and a range is expected, so we do not want to remove outliers.  Thus, a min-max scaling approach may be utilized."
   ]
  },
  {
   "cell_type": "code",
   "execution_count": 224,
   "metadata": {},
   "outputs": [],
   "source": [
    "# scale the data by initializing min-max scaler and apply it to each column\n",
    "df = df.set_index('country')\n",
    "scaler = MinMaxScaler()\n",
    "cols = list(df.columns)\n",
    "\n",
    "for col in cols:\n",
    "    scaler.fit(df[[col]])\n",
    "    df[col] = scaler.transform(df[[col]])"
   ]
  },
  {
   "cell_type": "markdown",
   "metadata": {},
   "source": [
    "### 4.5.2 Null Values and Outliers<a id='4.5.2_Null_Values_and_Outliers'></a>"
   ]
  },
  {
   "cell_type": "code",
   "execution_count": 225,
   "metadata": {
    "scrolled": true
   },
   "outputs": [
    {
     "data": {
      "text/html": [
       "<div>\n",
       "<style scoped>\n",
       "    .dataframe tbody tr th:only-of-type {\n",
       "        vertical-align: middle;\n",
       "    }\n",
       "\n",
       "    .dataframe tbody tr th {\n",
       "        vertical-align: top;\n",
       "    }\n",
       "\n",
       "    .dataframe thead th {\n",
       "        text-align: right;\n",
       "    }\n",
       "</style>\n",
       "<table border=\"1\" class=\"dataframe\">\n",
       "  <thead>\n",
       "    <tr style=\"text-align: right;\">\n",
       "      <th></th>\n",
       "      <th>adult_anemia_2016</th>\n",
       "      <th>adult_blood_pressure_2015</th>\n",
       "      <th>adult_sodium_2017</th>\n",
       "      <th>basic_sanitation_2017</th>\n",
       "      <th>basic_water_2017</th>\n",
       "      <th>fruit_veg_availability_2013</th>\n",
       "      <th>government_revenue_2020</th>\n",
       "      <th>limited_sanitation_2017</th>\n",
       "      <th>limited_water_2017</th>\n",
       "      <th>nurses_and_midwives_2016</th>\n",
       "      <th>...</th>\n",
       "      <th>unimproved_water_2017</th>\n",
       "      <th>workplaces_percent_change_from_baseline</th>\n",
       "      <th>parkinson_disease_deaths</th>\n",
       "      <th>dementia_deaths</th>\n",
       "      <th>cancers_deaths</th>\n",
       "      <th>economic_rating</th>\n",
       "      <th>macroeconomic_rating</th>\n",
       "      <th>cases_per_cap</th>\n",
       "      <th>day_number</th>\n",
       "      <th>week_cat</th>\n",
       "    </tr>\n",
       "  </thead>\n",
       "  <tbody>\n",
       "    <tr>\n",
       "      <th>count</th>\n",
       "      <td>121.000000</td>\n",
       "      <td>121.000000</td>\n",
       "      <td>121.000000</td>\n",
       "      <td>121.000000</td>\n",
       "      <td>121.000000</td>\n",
       "      <td>121.000000</td>\n",
       "      <td>121.000000</td>\n",
       "      <td>121.000000</td>\n",
       "      <td>121.000000</td>\n",
       "      <td>121.000000</td>\n",
       "      <td>...</td>\n",
       "      <td>121.000000</td>\n",
       "      <td>121.000000</td>\n",
       "      <td>121.000000</td>\n",
       "      <td>121.000000</td>\n",
       "      <td>121.000000</td>\n",
       "      <td>121.000000</td>\n",
       "      <td>121.000000</td>\n",
       "      <td>121.000000</td>\n",
       "      <td>121.000000</td>\n",
       "      <td>121.000000</td>\n",
       "    </tr>\n",
       "    <tr>\n",
       "      <th>mean</th>\n",
       "      <td>0.315478</td>\n",
       "      <td>0.572780</td>\n",
       "      <td>0.357374</td>\n",
       "      <td>0.380317</td>\n",
       "      <td>0.397113</td>\n",
       "      <td>0.403723</td>\n",
       "      <td>0.222987</td>\n",
       "      <td>0.133672</td>\n",
       "      <td>0.100935</td>\n",
       "      <td>0.359352</td>\n",
       "      <td>...</td>\n",
       "      <td>0.139998</td>\n",
       "      <td>0.465955</td>\n",
       "      <td>0.050640</td>\n",
       "      <td>0.059061</td>\n",
       "      <td>0.056953</td>\n",
       "      <td>0.620937</td>\n",
       "      <td>0.666942</td>\n",
       "      <td>0.103210</td>\n",
       "      <td>0.237849</td>\n",
       "      <td>0.308540</td>\n",
       "    </tr>\n",
       "    <tr>\n",
       "      <th>std</th>\n",
       "      <td>0.206015</td>\n",
       "      <td>0.212846</td>\n",
       "      <td>0.182535</td>\n",
       "      <td>0.327737</td>\n",
       "      <td>0.375518</td>\n",
       "      <td>0.210219</td>\n",
       "      <td>0.204086</td>\n",
       "      <td>0.173870</td>\n",
       "      <td>0.186151</td>\n",
       "      <td>0.290270</td>\n",
       "      <td>...</td>\n",
       "      <td>0.221392</td>\n",
       "      <td>0.167530</td>\n",
       "      <td>0.126035</td>\n",
       "      <td>0.139777</td>\n",
       "      <td>0.130303</td>\n",
       "      <td>0.159932</td>\n",
       "      <td>0.175429</td>\n",
       "      <td>0.150530</td>\n",
       "      <td>0.185759</td>\n",
       "      <td>0.195625</td>\n",
       "    </tr>\n",
       "    <tr>\n",
       "      <th>min</th>\n",
       "      <td>0.000000</td>\n",
       "      <td>0.000000</td>\n",
       "      <td>0.000000</td>\n",
       "      <td>0.000000</td>\n",
       "      <td>0.000000</td>\n",
       "      <td>0.000000</td>\n",
       "      <td>0.000000</td>\n",
       "      <td>0.000000</td>\n",
       "      <td>0.000000</td>\n",
       "      <td>0.000000</td>\n",
       "      <td>...</td>\n",
       "      <td>0.000000</td>\n",
       "      <td>0.000000</td>\n",
       "      <td>0.000000</td>\n",
       "      <td>0.000000</td>\n",
       "      <td>0.000000</td>\n",
       "      <td>0.000000</td>\n",
       "      <td>0.000000</td>\n",
       "      <td>0.000000</td>\n",
       "      <td>0.000000</td>\n",
       "      <td>0.000000</td>\n",
       "    </tr>\n",
       "    <tr>\n",
       "      <th>25%</th>\n",
       "      <td>0.157263</td>\n",
       "      <td>0.426894</td>\n",
       "      <td>0.235726</td>\n",
       "      <td>0.085900</td>\n",
       "      <td>0.021500</td>\n",
       "      <td>0.248742</td>\n",
       "      <td>0.026325</td>\n",
       "      <td>0.010954</td>\n",
       "      <td>0.000000</td>\n",
       "      <td>0.121576</td>\n",
       "      <td>...</td>\n",
       "      <td>0.001609</td>\n",
       "      <td>0.357657</td>\n",
       "      <td>0.004321</td>\n",
       "      <td>0.004643</td>\n",
       "      <td>0.005799</td>\n",
       "      <td>0.533334</td>\n",
       "      <td>0.600000</td>\n",
       "      <td>0.013768</td>\n",
       "      <td>0.136905</td>\n",
       "      <td>0.166667</td>\n",
       "    </tr>\n",
       "    <tr>\n",
       "      <th>50%</th>\n",
       "      <td>0.256303</td>\n",
       "      <td>0.580860</td>\n",
       "      <td>0.372757</td>\n",
       "      <td>0.290500</td>\n",
       "      <td>0.357200</td>\n",
       "      <td>0.410279</td>\n",
       "      <td>0.165730</td>\n",
       "      <td>0.046604</td>\n",
       "      <td>0.012295</td>\n",
       "      <td>0.281274</td>\n",
       "      <td>...</td>\n",
       "      <td>0.028645</td>\n",
       "      <td>0.444695</td>\n",
       "      <td>0.011122</td>\n",
       "      <td>0.011168</td>\n",
       "      <td>0.013965</td>\n",
       "      <td>0.575000</td>\n",
       "      <td>0.600000</td>\n",
       "      <td>0.045833</td>\n",
       "      <td>0.178571</td>\n",
       "      <td>0.333333</td>\n",
       "    </tr>\n",
       "    <tr>\n",
       "      <th>75%</th>\n",
       "      <td>0.404562</td>\n",
       "      <td>0.736376</td>\n",
       "      <td>0.494290</td>\n",
       "      <td>0.665700</td>\n",
       "      <td>0.666300</td>\n",
       "      <td>0.512155</td>\n",
       "      <td>0.429499</td>\n",
       "      <td>0.216491</td>\n",
       "      <td>0.104981</td>\n",
       "      <td>0.572594</td>\n",
       "      <td>...</td>\n",
       "      <td>0.169939</td>\n",
       "      <td>0.588531</td>\n",
       "      <td>0.032109</td>\n",
       "      <td>0.040765</td>\n",
       "      <td>0.036967</td>\n",
       "      <td>0.733334</td>\n",
       "      <td>0.800000</td>\n",
       "      <td>0.133437</td>\n",
       "      <td>0.261905</td>\n",
       "      <td>0.333333</td>\n",
       "    </tr>\n",
       "    <tr>\n",
       "      <th>max</th>\n",
       "      <td>1.000000</td>\n",
       "      <td>1.000000</td>\n",
       "      <td>1.000000</td>\n",
       "      <td>1.000000</td>\n",
       "      <td>1.000000</td>\n",
       "      <td>1.000000</td>\n",
       "      <td>1.000000</td>\n",
       "      <td>1.000000</td>\n",
       "      <td>1.000000</td>\n",
       "      <td>1.000000</td>\n",
       "      <td>...</td>\n",
       "      <td>1.000000</td>\n",
       "      <td>1.000000</td>\n",
       "      <td>1.000000</td>\n",
       "      <td>1.000000</td>\n",
       "      <td>1.000000</td>\n",
       "      <td>1.000000</td>\n",
       "      <td>1.000000</td>\n",
       "      <td>1.000000</td>\n",
       "      <td>1.000000</td>\n",
       "      <td>1.000000</td>\n",
       "    </tr>\n",
       "  </tbody>\n",
       "</table>\n",
       "<p>8 rows × 27 columns</p>\n",
       "</div>"
      ],
      "text/plain": [
       "       adult_anemia_2016  adult_blood_pressure_2015  adult_sodium_2017  \\\n",
       "count         121.000000                 121.000000         121.000000   \n",
       "mean            0.315478                   0.572780           0.357374   \n",
       "std             0.206015                   0.212846           0.182535   \n",
       "min             0.000000                   0.000000           0.000000   \n",
       "25%             0.157263                   0.426894           0.235726   \n",
       "50%             0.256303                   0.580860           0.372757   \n",
       "75%             0.404562                   0.736376           0.494290   \n",
       "max             1.000000                   1.000000           1.000000   \n",
       "\n",
       "       basic_sanitation_2017  basic_water_2017  fruit_veg_availability_2013  \\\n",
       "count             121.000000        121.000000                   121.000000   \n",
       "mean                0.380317          0.397113                     0.403723   \n",
       "std                 0.327737          0.375518                     0.210219   \n",
       "min                 0.000000          0.000000                     0.000000   \n",
       "25%                 0.085900          0.021500                     0.248742   \n",
       "50%                 0.290500          0.357200                     0.410279   \n",
       "75%                 0.665700          0.666300                     0.512155   \n",
       "max                 1.000000          1.000000                     1.000000   \n",
       "\n",
       "       government_revenue_2020  limited_sanitation_2017  limited_water_2017  \\\n",
       "count               121.000000               121.000000          121.000000   \n",
       "mean                  0.222987                 0.133672            0.100935   \n",
       "std                   0.204086                 0.173870            0.186151   \n",
       "min                   0.000000                 0.000000            0.000000   \n",
       "25%                   0.026325                 0.010954            0.000000   \n",
       "50%                   0.165730                 0.046604            0.012295   \n",
       "75%                   0.429499                 0.216491            0.104981   \n",
       "max                   1.000000                 1.000000            1.000000   \n",
       "\n",
       "       nurses_and_midwives_2016  ...  unimproved_water_2017  \\\n",
       "count                121.000000  ...             121.000000   \n",
       "mean                   0.359352  ...               0.139998   \n",
       "std                    0.290270  ...               0.221392   \n",
       "min                    0.000000  ...               0.000000   \n",
       "25%                    0.121576  ...               0.001609   \n",
       "50%                    0.281274  ...               0.028645   \n",
       "75%                    0.572594  ...               0.169939   \n",
       "max                    1.000000  ...               1.000000   \n",
       "\n",
       "       workplaces_percent_change_from_baseline  parkinson_disease_deaths  \\\n",
       "count                               121.000000                121.000000   \n",
       "mean                                  0.465955                  0.050640   \n",
       "std                                   0.167530                  0.126035   \n",
       "min                                   0.000000                  0.000000   \n",
       "25%                                   0.357657                  0.004321   \n",
       "50%                                   0.444695                  0.011122   \n",
       "75%                                   0.588531                  0.032109   \n",
       "max                                   1.000000                  1.000000   \n",
       "\n",
       "       dementia_deaths  cancers_deaths  economic_rating  macroeconomic_rating  \\\n",
       "count       121.000000      121.000000       121.000000            121.000000   \n",
       "mean          0.059061        0.056953         0.620937              0.666942   \n",
       "std           0.139777        0.130303         0.159932              0.175429   \n",
       "min           0.000000        0.000000         0.000000              0.000000   \n",
       "25%           0.004643        0.005799         0.533334              0.600000   \n",
       "50%           0.011168        0.013965         0.575000              0.600000   \n",
       "75%           0.040765        0.036967         0.733334              0.800000   \n",
       "max           1.000000        1.000000         1.000000              1.000000   \n",
       "\n",
       "       cases_per_cap  day_number    week_cat  \n",
       "count     121.000000  121.000000  121.000000  \n",
       "mean        0.103210    0.237849    0.308540  \n",
       "std         0.150530    0.185759    0.195625  \n",
       "min         0.000000    0.000000    0.000000  \n",
       "25%         0.013768    0.136905    0.166667  \n",
       "50%         0.045833    0.178571    0.333333  \n",
       "75%         0.133437    0.261905    0.333333  \n",
       "max         1.000000    1.000000    1.000000  \n",
       "\n",
       "[8 rows x 27 columns]"
      ]
     },
     "execution_count": 225,
     "metadata": {},
     "output_type": "execute_result"
    }
   ],
   "source": [
    "df.describe()"
   ]
  },
  {
   "cell_type": "markdown",
   "metadata": {},
   "source": [
    "Beyond seeing the scaling that we preformed earlier, `describe()` also lets us see that our counts are all 121 and thus there are no null values.  "
   ]
  },
  {
   "cell_type": "code",
   "execution_count": 227,
   "metadata": {},
   "outputs": [
    {
     "data": {
      "image/png": "[encoded data removed]",
      "text/plain": [
       "<Figure size 432x288 with 1 Axes>"
      ]
     },
     "metadata": {
      "needs_background": "light"
     },
     "output_type": "display_data"
    }
   ],
   "source": [
    "#cols = list(df.columns.drop('country'))\n",
    "df.boxplot(column=cols, grid = False, rot=45, fontsize=8)\n",
    "plt.show()"
   ]
  },
  {
   "cell_type": "markdown",
   "metadata": {},
   "source": [
    "Above we see we do indeed have outliers, but we have previously confirmed that the outliers are each important so we want to keep them."
   ]
  },
  {
   "cell_type": "code",
   "execution_count": 237,
   "metadata": {},
   "outputs": [
    {
     "data": {
      "text/plain": [
       "adult_anemia_2016                          0\n",
       "adult_blood_pressure_2015                  0\n",
       "adult_sodium_2017                          0\n",
       "basic_sanitation_2017                      0\n",
       "basic_water_2017                           0\n",
       "fruit_veg_availability_2013                0\n",
       "government_revenue_2020                    0\n",
       "limited_sanitation_2017                    0\n",
       "limited_water_2017                         0\n",
       "nurses_and_midwives_2016                   0\n",
       "open_defecation_2017                       0\n",
       "physicians_2016                            0\n",
       "safely_managed_sanitation_2017             0\n",
       "safely_managed_water_2017                  0\n",
       "surface_water_2017                         0\n",
       "undernourishment_prev_2017                 0\n",
       "unimproved_sanitation_2017                 0\n",
       "unimproved_water_2017                      0\n",
       "workplaces_percent_change_from_baseline    0\n",
       "parkinson_disease_deaths                   0\n",
       "dementia_deaths                            0\n",
       "cancers_deaths                             0\n",
       "economic_rating                            0\n",
       "macroeconomic_rating                       0\n",
       "cases_per_cap                              0\n",
       "day_number                                 0\n",
       "week_cat                                   0\n",
       "dtype: int64"
      ]
     },
     "execution_count": 237,
     "metadata": {},
     "output_type": "execute_result"
    }
   ],
   "source": [
    "df.isna().sum()\n",
    "#df[df.day_number.isna()]\n",
    "#df[df.week_cat.isna()]"
   ]
  },
  {
   "cell_type": "markdown",
   "metadata": {},
   "source": [
    "No null values are observed after scaling."
   ]
  },
  {
   "cell_type": "markdown",
   "metadata": {},
   "source": [
    "### 4.5.3 Predicted Variable Categorize<a id='4.5.3_Predicted_Variable_Categorize'></a>"
   ]
  },
  {
   "cell_type": "code",
   "execution_count": 232,
   "metadata": {},
   "outputs": [
    {
     "data": {
      "text/html": [
       "<div>\n",
       "<style scoped>\n",
       "    .dataframe tbody tr th:only-of-type {\n",
       "        vertical-align: middle;\n",
       "    }\n",
       "\n",
       "    .dataframe tbody tr th {\n",
       "        vertical-align: top;\n",
       "    }\n",
       "\n",
       "    .dataframe thead th {\n",
       "        text-align: right;\n",
       "    }\n",
       "</style>\n",
       "<table border=\"1\" class=\"dataframe\">\n",
       "  <thead>\n",
       "    <tr style=\"text-align: right;\">\n",
       "      <th></th>\n",
       "      <th>adult_anemia_2016</th>\n",
       "      <th>adult_blood_pressure_2015</th>\n",
       "      <th>adult_sodium_2017</th>\n",
       "      <th>basic_sanitation_2017</th>\n",
       "      <th>basic_water_2017</th>\n",
       "      <th>fruit_veg_availability_2013</th>\n",
       "      <th>government_revenue_2020</th>\n",
       "      <th>limited_sanitation_2017</th>\n",
       "      <th>limited_water_2017</th>\n",
       "      <th>nurses_and_midwives_2016</th>\n",
       "      <th>...</th>\n",
       "      <th>unimproved_water_2017</th>\n",
       "      <th>workplaces_percent_change_from_baseline</th>\n",
       "      <th>parkinson_disease_deaths</th>\n",
       "      <th>dementia_deaths</th>\n",
       "      <th>cancers_deaths</th>\n",
       "      <th>economic_rating</th>\n",
       "      <th>macroeconomic_rating</th>\n",
       "      <th>cases_per_cap</th>\n",
       "      <th>day_number</th>\n",
       "      <th>week_cat</th>\n",
       "    </tr>\n",
       "    <tr>\n",
       "      <th>country</th>\n",
       "      <th></th>\n",
       "      <th></th>\n",
       "      <th></th>\n",
       "      <th></th>\n",
       "      <th></th>\n",
       "      <th></th>\n",
       "      <th></th>\n",
       "      <th></th>\n",
       "      <th></th>\n",
       "      <th></th>\n",
       "      <th></th>\n",
       "      <th></th>\n",
       "      <th></th>\n",
       "      <th></th>\n",
       "      <th></th>\n",
       "      <th></th>\n",
       "      <th></th>\n",
       "      <th></th>\n",
       "      <th></th>\n",
       "      <th></th>\n",
       "      <th></th>\n",
       "    </tr>\n",
       "  </thead>\n",
       "  <tbody>\n",
       "    <tr>\n",
       "      <th>S. Korea</th>\n",
       "      <td>0.209484</td>\n",
       "      <td>0.000000</td>\n",
       "      <td>0.690049</td>\n",
       "      <td>0.0010</td>\n",
       "      <td>0.0157</td>\n",
       "      <td>0.651632</td>\n",
       "      <td>0.429499</td>\n",
       "      <td>0.000000</td>\n",
       "      <td>0.0</td>\n",
       "      <td>0.537520</td>\n",
       "      <td>...</td>\n",
       "      <td>0.006759</td>\n",
       "      <td>0.712248</td>\n",
       "      <td>0.082594</td>\n",
       "      <td>0.116989</td>\n",
       "      <td>0.099883</td>\n",
       "      <td>0.533334</td>\n",
       "      <td>0.6</td>\n",
       "      <td>0.008311</td>\n",
       "      <td>0.000000</td>\n",
       "      <td>0.000000</td>\n",
       "    </tr>\n",
       "    <tr>\n",
       "      <th>Japan</th>\n",
       "      <td>0.243697</td>\n",
       "      <td>0.291094</td>\n",
       "      <td>0.827896</td>\n",
       "      <td>0.0113</td>\n",
       "      <td>0.0056</td>\n",
       "      <td>0.344459</td>\n",
       "      <td>0.429499</td>\n",
       "      <td>0.000000</td>\n",
       "      <td>0.0</td>\n",
       "      <td>0.489396</td>\n",
       "      <td>...</td>\n",
       "      <td>0.031864</td>\n",
       "      <td>0.610094</td>\n",
       "      <td>0.389350</td>\n",
       "      <td>0.749451</td>\n",
       "      <td>0.455954</td>\n",
       "      <td>0.533334</td>\n",
       "      <td>0.6</td>\n",
       "      <td>0.011731</td>\n",
       "      <td>0.011905</td>\n",
       "      <td>0.166667</td>\n",
       "    </tr>\n",
       "    <tr>\n",
       "      <th>Italy</th>\n",
       "      <td>0.136855</td>\n",
       "      <td>0.451484</td>\n",
       "      <td>0.407830</td>\n",
       "      <td>0.0256</td>\n",
       "      <td>0.0440</td>\n",
       "      <td>0.640974</td>\n",
       "      <td>0.429499</td>\n",
       "      <td>0.001992</td>\n",
       "      <td>0.0</td>\n",
       "      <td>0.441272</td>\n",
       "      <td>...</td>\n",
       "      <td>0.018024</td>\n",
       "      <td>0.299351</td>\n",
       "      <td>0.195260</td>\n",
       "      <td>0.285276</td>\n",
       "      <td>0.203342</td>\n",
       "      <td>0.533334</td>\n",
       "      <td>0.6</td>\n",
       "      <td>0.103067</td>\n",
       "      <td>0.023810</td>\n",
       "      <td>0.166667</td>\n",
       "    </tr>\n",
       "    <tr>\n",
       "      <th>Germany</th>\n",
       "      <td>0.117047</td>\n",
       "      <td>0.394107</td>\n",
       "      <td>0.349103</td>\n",
       "      <td>0.0199</td>\n",
       "      <td>0.0020</td>\n",
       "      <td>0.412968</td>\n",
       "      <td>0.429499</td>\n",
       "      <td>0.015336</td>\n",
       "      <td>0.0</td>\n",
       "      <td>0.479337</td>\n",
       "      <td>...</td>\n",
       "      <td>0.000000</td>\n",
       "      <td>0.477568</td>\n",
       "      <td>0.324024</td>\n",
       "      <td>0.328664</td>\n",
       "      <td>0.279998</td>\n",
       "      <td>0.533334</td>\n",
       "      <td>0.6</td>\n",
       "      <td>0.067537</td>\n",
       "      <td>0.053571</td>\n",
       "      <td>0.166667</td>\n",
       "    </tr>\n",
       "    <tr>\n",
       "      <th>France</th>\n",
       "      <td>0.148860</td>\n",
       "      <td>0.490474</td>\n",
       "      <td>0.349918</td>\n",
       "      <td>0.1028</td>\n",
       "      <td>0.0215</td>\n",
       "      <td>0.492068</td>\n",
       "      <td>0.429499</td>\n",
       "      <td>0.026887</td>\n",
       "      <td>0.0</td>\n",
       "      <td>0.517401</td>\n",
       "      <td>...</td>\n",
       "      <td>0.000000</td>\n",
       "      <td>0.305599</td>\n",
       "      <td>0.195620</td>\n",
       "      <td>0.270141</td>\n",
       "      <td>0.201436</td>\n",
       "      <td>0.533334</td>\n",
       "      <td>0.6</td>\n",
       "      <td>0.090635</td>\n",
       "      <td>0.053571</td>\n",
       "      <td>0.166667</td>\n",
       "    </tr>\n",
       "  </tbody>\n",
       "</table>\n",
       "<p>5 rows × 27 columns</p>\n",
       "</div>"
      ],
      "text/plain": [
       "          adult_anemia_2016  adult_blood_pressure_2015  adult_sodium_2017  \\\n",
       "country                                                                     \n",
       "S. Korea           0.209484                   0.000000           0.690049   \n",
       "Japan              0.243697                   0.291094           0.827896   \n",
       "Italy              0.136855                   0.451484           0.407830   \n",
       "Germany            0.117047                   0.394107           0.349103   \n",
       "France             0.148860                   0.490474           0.349918   \n",
       "\n",
       "          basic_sanitation_2017  basic_water_2017  \\\n",
       "country                                             \n",
       "S. Korea                 0.0010            0.0157   \n",
       "Japan                    0.0113            0.0056   \n",
       "Italy                    0.0256            0.0440   \n",
       "Germany                  0.0199            0.0020   \n",
       "France                   0.1028            0.0215   \n",
       "\n",
       "          fruit_veg_availability_2013  government_revenue_2020  \\\n",
       "country                                                          \n",
       "S. Korea                     0.651632                 0.429499   \n",
       "Japan                        0.344459                 0.429499   \n",
       "Italy                        0.640974                 0.429499   \n",
       "Germany                      0.412968                 0.429499   \n",
       "France                       0.492068                 0.429499   \n",
       "\n",
       "          limited_sanitation_2017  limited_water_2017  \\\n",
       "country                                                 \n",
       "S. Korea                 0.000000                 0.0   \n",
       "Japan                    0.000000                 0.0   \n",
       "Italy                    0.001992                 0.0   \n",
       "Germany                  0.015336                 0.0   \n",
       "France                   0.026887                 0.0   \n",
       "\n",
       "          nurses_and_midwives_2016  ...  unimproved_water_2017  \\\n",
       "country                             ...                          \n",
       "S. Korea                  0.537520  ...               0.006759   \n",
       "Japan                     0.489396  ...               0.031864   \n",
       "Italy                     0.441272  ...               0.018024   \n",
       "Germany                   0.479337  ...               0.000000   \n",
       "France                    0.517401  ...               0.000000   \n",
       "\n",
       "          workplaces_percent_change_from_baseline  parkinson_disease_deaths  \\\n",
       "country                                                                       \n",
       "S. Korea                                 0.712248                  0.082594   \n",
       "Japan                                    0.610094                  0.389350   \n",
       "Italy                                    0.299351                  0.195260   \n",
       "Germany                                  0.477568                  0.324024   \n",
       "France                                   0.305599                  0.195620   \n",
       "\n",
       "          dementia_deaths  cancers_deaths  economic_rating  \\\n",
       "country                                                      \n",
       "S. Korea         0.116989        0.099883         0.533334   \n",
       "Japan            0.749451        0.455954         0.533334   \n",
       "Italy            0.285276        0.203342         0.533334   \n",
       "Germany          0.328664        0.279998         0.533334   \n",
       "France           0.270141        0.201436         0.533334   \n",
       "\n",
       "          macroeconomic_rating  cases_per_cap  day_number  week_cat  \n",
       "country                                                              \n",
       "S. Korea                   0.6       0.008311    0.000000  0.000000  \n",
       "Japan                      0.6       0.011731    0.011905  0.166667  \n",
       "Italy                      0.6       0.103067    0.023810  0.166667  \n",
       "Germany                    0.6       0.067537    0.053571  0.166667  \n",
       "France                     0.6       0.090635    0.053571  0.166667  \n",
       "\n",
       "[5 rows x 27 columns]"
      ]
     },
     "execution_count": 232,
     "metadata": {},
     "output_type": "execute_result"
    }
   ],
   "source": [
    "df.drop('day_number', axis=1)\n",
    "df.head()"
   ]
  },
  {
   "cell_type": "code",
   "execution_count": 246,
   "metadata": {},
   "outputs": [
    {
     "name": "stdout",
     "output_type": "stream",
     "text": [
      "multiclass\n"
     ]
    }
   ],
   "source": [
    "lab_enc = preprocessing.LabelEncoder()\n",
    "df.week_cat = lab_enc.fit_transform(df.week_cat)\n",
    "print(utils.multiclass.type_of_target(df.week_cat))"
   ]
  },
  {
   "cell_type": "markdown",
   "metadata": {},
   "source": [
    "## 4.6 Data Training<a id='4.6_Data_Training'></a>"
   ]
  },
  {
   "cell_type": "markdown",
   "metadata": {},
   "source": [
    "### 4.6.1 Split Data and Initialize Model<a id='4.6.1_Split_Model'></a>\n",
    "\n",
    "This set of data does not have categorical features, so we will not require dummy variables, however, this is generally an important step to consider."
   ]
  },
  {
   "cell_type": "code",
   "execution_count": 247,
   "metadata": {},
   "outputs": [],
   "source": [
    "#reset the index to get countries out of the way.  \n",
    "#df = df.set_index('country')\n",
    "X_cols = list(df.columns.drop('day_number'))\n",
    "y_cols = list('day_number')"
   ]
  },
  {
   "cell_type": "code",
   "execution_count": 250,
   "metadata": {},
   "outputs": [
    {
     "data": {
      "text/plain": [
       "LogisticRegression(random_state=0)"
      ]
     },
     "execution_count": 250,
     "metadata": {},
     "output_type": "execute_result"
    }
   ],
   "source": [
    "# remove target variable column from the dataframe, so only the predictor variables remain\n",
    "X = df.drop(['day_number'], axis = 1)\n",
    "y = df.week_cat\n",
    "X_train, X_test, y_train, y_test = train_test_split(X, y, test_size=0.2, random_state = 0)\n",
    "\n",
    "# initialize the model\n",
    "model = LogisticRegression(random_state = 0)\n",
    "model"
   ]
  },
  {
   "cell_type": "markdown",
   "metadata": {},
   "source": [
    "### 4.6.2 Fit Model<a id='4.6.2_Fit_Model'></a>"
   ]
  },
  {
   "cell_type": "code",
   "execution_count": 251,
   "metadata": {},
   "outputs": [
    {
     "name": "stderr",
     "output_type": "stream",
     "text": [
      "C:\\Users\\gryka\\Anaconda3\\lib\\site-packages\\sklearn\\linear_model\\_logistic.py:762: ConvergenceWarning: lbfgs failed to converge (status=1):\n",
      "STOP: TOTAL NO. of ITERATIONS REACHED LIMIT.\n",
      "\n",
      "Increase the number of iterations (max_iter) or scale the data as shown in:\n",
      "    https://scikit-learn.org/stable/modules/preprocessing.html\n",
      "Please also refer to the documentation for alternative solver options:\n",
      "    https://scikit-learn.org/stable/modules/linear_model.html#logistic-regression\n",
      "  n_iter_i = _check_optimize_result(\n"
     ]
    },
    {
     "data": {
      "text/plain": [
       "LogisticRegression(random_state=0)"
      ]
     },
     "execution_count": 251,
     "metadata": {},
     "output_type": "execute_result"
    }
   ],
   "source": [
    "# fit linear model\n",
    "model.fit(X_train, y_train)"
   ]
  },
  {
   "cell_type": "code",
   "execution_count": 252,
   "metadata": {},
   "outputs": [
    {
     "name": "stdout",
     "output_type": "stream",
     "text": [
      "Estimated intercept coefficient: [ 2.29232583  7.80880816  2.36953117 -0.49426026 -1.82859838 -4.33935739\n",
      " -5.80844913]\n",
      "Number of coefficients: 7\n"
     ]
    }
   ],
   "source": [
    "print('Estimated intercept coefficient: {}'.format(model.intercept_))\n",
    "print('Number of coefficients: {}'.format(len(model.coef_)))"
   ]
  },
  {
   "cell_type": "markdown",
   "metadata": {},
   "source": [
    "### 4.6.3 Look at Preliminary Model<a id='4.6.3_Look_at_Preliminary_Model'></a>"
   ]
  },
  {
   "cell_type": "code",
   "execution_count": 258,
   "metadata": {
    "scrolled": true
   },
   "outputs": [
    {
     "data": {
      "image/png": "[encoded data removed]",
      "text/plain": [
       "<Figure size 1080x360 with 2 Axes>"
      ]
     },
     "metadata": {
      "needs_background": "light"
     },
     "output_type": "display_data"
    }
   ],
   "source": [
    "# Making subplots\n",
    "fig, (ax1,ax2) = plt.subplots(1,2,figsize=(15,5));\n",
    "\n",
    "# Plotting histograms of all the predicted days\n",
    "ax1.hist(model.predict(X));\n",
    "\n",
    "# Labelling axis and title\n",
    "ax1.set_xlabel('Predicted Weeks')\n",
    "ax1.set_ylabel('Frequency')\n",
    "ax1.set_title('Histogram of Predicted Weeks')\n",
    "\n",
    "# Plotting predicted days vs true days\n",
    "ax2.scatter(x = df.week_cat, y = model.predict(X));\n",
    "\n",
    "# Labelling axis and title\n",
    "ax2.set_ylabel('Predicted Weeks')\n",
    "ax2.set_xlabel('True Weeks')\n",
    "ax2.set_title('Predicted Weeks vs True Weeks');"
   ]
  },
  {
   "cell_type": "code",
   "execution_count": 255,
   "metadata": {},
   "outputs": [
    {
     "name": "stdout",
     "output_type": "stream",
     "text": [
      "Accuracy Score:  0.9166666666666666\n"
     ]
    }
   ],
   "source": [
    "#Find the accuracy from the training data.\n",
    "acc_scr = accuracy_score(model.predict(X_train), y_train) \n",
    "print('Accuracy Score: ', str(acc_scr))"
   ]
  },
  {
   "cell_type": "markdown",
   "metadata": {},
   "source": [
    "## 4.7 Summary<a id='4.7_Summary'></a>"
   ]
  },
  {
   "cell_type": "markdown",
   "metadata": {},
   "source": [
    "Herein, we preprocessed the data, split the data, and created an initial model.  \n",
    "\n",
    "The initial accuracy score for categorizing day number was very low (only ~34%), but there wasa general trend during visualization of predicted vs true days.  It seems that the predicted days are predicted about 10 days too soon.  There is also a grouping of true days from around 50-60 that are predicted between 10-20 so these are being mis-predicted.  \n",
    "\n",
    "After categorizing days into week categories, we get much better results, including a better trend and accuracy score.\n",
    "\n",
    "Moving forward, we will improve the model to achieve better predictions.  In order to give ourselves a baseline for improvement of prediction, let's look at a dummy classification result.  "
   ]
  },
  {
   "cell_type": "code",
   "execution_count": 256,
   "metadata": {},
   "outputs": [
    {
     "name": "stdout",
     "output_type": "stream",
     "text": [
      "Accuracy Score:  0.46875\n"
     ]
    }
   ],
   "source": [
    "from sklearn.dummy import DummyClassifier\n",
    "\n",
    "dummy = DummyClassifier(strategy='most_frequent', random_state=0)\n",
    "dummy.fit(X_train, y_train)\n",
    "acc_scr = accuracy_score(dummy.predict(X_train), y_train)\n",
    "print('Accuracy Score: ', str(acc_scr))"
   ]
  },
  {
   "cell_type": "markdown",
   "metadata": {},
   "source": [
    "Based on the dummy score for day_number (~1%), we see that this model had a lot of work to do to classify accurately. After categorizing day number into week categories, the dummy score is up to 47%.  There is a good deal that a modeling can improve frome here.   \n",
    "\n",
    "Below we will look at a confusion matrix to give us an idea of how to imporve our model in our next steps:"
   ]
  },
  {
   "cell_type": "code",
   "execution_count": 257,
   "metadata": {},
   "outputs": [
    {
     "data": {
      "text/plain": [
       "array([[14,  0,  0,  0,  0],\n",
       "       [ 0,  8,  0,  0,  0],\n",
       "       [ 0,  0,  0,  2,  0],\n",
       "       [ 0,  0,  0,  0,  0],\n",
       "       [ 0,  0,  0,  0,  1]], dtype=int64)"
      ]
     },
     "execution_count": 257,
     "metadata": {},
     "output_type": "execute_result"
    }
   ],
   "source": [
    "from sklearn.metrics import confusion_matrix\n",
    "\n",
    "confusion_matrix(model.predict(X_test), y_test)"
   ]
  },
  {
   "cell_type": "markdown",
   "metadata": {},
   "source": [
    "Initially, the confusion matrix results were not interpretable, so we re-categorized day_number into week_cat and get much better results.  "
   ]
  },
  {
   "cell_type": "code",
   "execution_count": null,
   "metadata": {},
   "outputs": [],
   "source": []
  }
 ],
 "metadata": {
  "kernelspec": {
   "display_name": "Python 3",
   "language": "python",
   "name": "python3"
  },
  "language_info": {
   "codemirror_mode": {
    "name": "ipython",
    "version": 3
   },
   "file_extension": ".py",
   "mimetype": "text/x-python",
   "name": "python",
   "nbconvert_exporter": "python",
   "pygments_lexer": "ipython3",
   "version": "3.8.3"
  }
 },
 "nbformat": 4,
 "nbformat_minor": 4
}
