{
 "cells": [
  {
   "cell_type": "markdown",
   "metadata": {},
   "source": [
    "# Modeling"
   ]
  },
  {
   "cell_type": "markdown",
   "metadata": {},
   "source": [
    "* Problem Status\n",
    "* Packages and Data\n",
    "* Fit Model with a Training Dataset\n",
    "    * Iterate over additional models\n",
    "* Review Modeling Outcomes \n",
    "* Final Model & Summary"
   ]
  },
  {
   "cell_type": "markdown",
   "metadata": {},
   "source": [
    "## Problem Status"
   ]
  },
  {
   "cell_type": "markdown",
   "metadata": {},
   "source": [
    "Thus far, we have completed data wrangling, exploratory data analysis, and preprocessing and spliting the data.  We have also taken a quick initial look at modeling options (logistic vs linear regression), proving to ourselves that logisitic regression is a bad option (even on a feature that has been created as a categorical) and that linear regression can give us good results.  "
   ]
  },
  {
   "cell_type": "markdown",
   "metadata": {},
   "source": [
    "## Packages and Data"
   ]
  },
  {
   "cell_type": "code",
   "execution_count": 1,
   "metadata": {},
   "outputs": [],
   "source": [
    "import pandas as pd\n",
    "import numpy as np\n",
    "import os\n",
    "import matplotlib.pyplot as plt\n",
    "import seaborn as sns\n",
    "\n",
    "from sklearn import preprocessing\n",
    "from sklearn.preprocessing import MinMaxScaler\n",
    "from sklearn import utils\n",
    "\n",
    "from sklearn.model_selection import train_test_split\n",
    "from sklearn.linear_model import LinearRegression\n",
    "from sklearn.ensemble import GradientBoostingClassifier\n",
    "from sklearn.tree import DecisionTreeRegressor\n",
    "from sklearn.ensemble import RandomForestClassifier\n",
    "\n",
    "from sklearn.metrics import explained_variance_score, mean_absolute_error, f1_score, confusion_matrix, accuracy_score"
   ]
  },
  {
   "cell_type": "code",
   "execution_count": 4,
   "metadata": {},
   "outputs": [
    {
     "data": {
      "text/html": [
       "<div>\n",
       "<style scoped>\n",
       "    .dataframe tbody tr th:only-of-type {\n",
       "        vertical-align: middle;\n",
       "    }\n",
       "\n",
       "    .dataframe tbody tr th {\n",
       "        vertical-align: top;\n",
       "    }\n",
       "\n",
       "    .dataframe thead th {\n",
       "        text-align: right;\n",
       "    }\n",
       "</style>\n",
       "<table border=\"1\" class=\"dataframe\">\n",
       "  <thead>\n",
       "    <tr style=\"text-align: right;\">\n",
       "      <th></th>\n",
       "      <th>adult_anemia_2016</th>\n",
       "      <th>adult_blood_pressure_2015</th>\n",
       "      <th>adult_sodium_2017</th>\n",
       "      <th>basic_sanitation_2017</th>\n",
       "      <th>basic_water_2017</th>\n",
       "      <th>fruit_veg_availability_2013</th>\n",
       "      <th>government_revenue_2020</th>\n",
       "      <th>limited_sanitation_2017</th>\n",
       "      <th>limited_water_2017</th>\n",
       "      <th>nurses_and_midwives_2016</th>\n",
       "      <th>...</th>\n",
       "      <th>unimproved_water_2017</th>\n",
       "      <th>workplaces_percent_change_from_baseline</th>\n",
       "      <th>parkinson_disease_deaths</th>\n",
       "      <th>dementia_deaths</th>\n",
       "      <th>cancers_deaths</th>\n",
       "      <th>economic_rating</th>\n",
       "      <th>macroeconomic_rating</th>\n",
       "      <th>cases_per_cap</th>\n",
       "      <th>day_number</th>\n",
       "      <th>week_cat</th>\n",
       "    </tr>\n",
       "    <tr>\n",
       "      <th>country</th>\n",
       "      <th></th>\n",
       "      <th></th>\n",
       "      <th></th>\n",
       "      <th></th>\n",
       "      <th></th>\n",
       "      <th></th>\n",
       "      <th></th>\n",
       "      <th></th>\n",
       "      <th></th>\n",
       "      <th></th>\n",
       "      <th></th>\n",
       "      <th></th>\n",
       "      <th></th>\n",
       "      <th></th>\n",
       "      <th></th>\n",
       "      <th></th>\n",
       "      <th></th>\n",
       "      <th></th>\n",
       "      <th></th>\n",
       "      <th></th>\n",
       "      <th></th>\n",
       "    </tr>\n",
       "  </thead>\n",
       "  <tbody>\n",
       "    <tr>\n",
       "      <th>S. Korea</th>\n",
       "      <td>23.700000</td>\n",
       "      <td>10.980</td>\n",
       "      <td>5.203333</td>\n",
       "      <td>0.10</td>\n",
       "      <td>1.57</td>\n",
       "      <td>747.25</td>\n",
       "      <td>38.14</td>\n",
       "      <td>0.00</td>\n",
       "      <td>0.0</td>\n",
       "      <td>6.900000</td>\n",
       "      <td>...</td>\n",
       "      <td>0.21</td>\n",
       "      <td>-6.486413</td>\n",
       "      <td>3224.604757</td>\n",
       "      <td>29798.685258</td>\n",
       "      <td>89670.950054</td>\n",
       "      <td>3.166667</td>\n",
       "      <td>3.5</td>\n",
       "      <td>35.620943</td>\n",
       "      <td>82</td>\n",
       "      <td>3</td>\n",
       "    </tr>\n",
       "    <tr>\n",
       "      <th>Japan</th>\n",
       "      <td>25.600000</td>\n",
       "      <td>17.550</td>\n",
       "      <td>5.766667</td>\n",
       "      <td>1.13</td>\n",
       "      <td>0.56</td>\n",
       "      <td>425.05</td>\n",
       "      <td>38.14</td>\n",
       "      <td>0.00</td>\n",
       "      <td>0.0</td>\n",
       "      <td>6.310000</td>\n",
       "      <td>...</td>\n",
       "      <td>0.99</td>\n",
       "      <td>-13.006793</td>\n",
       "      <td>15161.514382</td>\n",
       "      <td>190560.882432</td>\n",
       "      <td>408392.273177</td>\n",
       "      <td>3.166667</td>\n",
       "      <td>3.5</td>\n",
       "      <td>49.931240</td>\n",
       "      <td>84</td>\n",
       "      <td>4</td>\n",
       "    </tr>\n",
       "    <tr>\n",
       "      <th>Italy</th>\n",
       "      <td>19.666667</td>\n",
       "      <td>21.170</td>\n",
       "      <td>4.050000</td>\n",
       "      <td>2.56</td>\n",
       "      <td>4.40</td>\n",
       "      <td>736.07</td>\n",
       "      <td>38.14</td>\n",
       "      <td>0.10</td>\n",
       "      <td>0.0</td>\n",
       "      <td>5.720000</td>\n",
       "      <td>...</td>\n",
       "      <td>0.56</td>\n",
       "      <td>-32.841150</td>\n",
       "      <td>7608.794566</td>\n",
       "      <td>72574.526515</td>\n",
       "      <td>182277.862996</td>\n",
       "      <td>3.166667</td>\n",
       "      <td>3.5</td>\n",
       "      <td>432.064137</td>\n",
       "      <td>86</td>\n",
       "      <td>4</td>\n",
       "    </tr>\n",
       "    <tr>\n",
       "      <th>Germany</th>\n",
       "      <td>18.566667</td>\n",
       "      <td>19.875</td>\n",
       "      <td>3.810000</td>\n",
       "      <td>1.99</td>\n",
       "      <td>0.20</td>\n",
       "      <td>496.91</td>\n",
       "      <td>38.14</td>\n",
       "      <td>0.77</td>\n",
       "      <td>0.0</td>\n",
       "      <td>6.186667</td>\n",
       "      <td>...</td>\n",
       "      <td>0.00</td>\n",
       "      <td>-21.465793</td>\n",
       "      <td>12619.472416</td>\n",
       "      <td>83603.200360</td>\n",
       "      <td>250892.527601</td>\n",
       "      <td>3.166667</td>\n",
       "      <td>3.5</td>\n",
       "      <td>283.413813</td>\n",
       "      <td>91</td>\n",
       "      <td>4</td>\n",
       "    </tr>\n",
       "    <tr>\n",
       "      <th>France</th>\n",
       "      <td>20.333333</td>\n",
       "      <td>22.050</td>\n",
       "      <td>3.813333</td>\n",
       "      <td>10.28</td>\n",
       "      <td>2.15</td>\n",
       "      <td>579.88</td>\n",
       "      <td>38.14</td>\n",
       "      <td>1.35</td>\n",
       "      <td>0.0</td>\n",
       "      <td>6.653333</td>\n",
       "      <td>...</td>\n",
       "      <td>0.00</td>\n",
       "      <td>-32.442342</td>\n",
       "      <td>7622.824664</td>\n",
       "      <td>68727.644036</td>\n",
       "      <td>180571.724245</td>\n",
       "      <td>3.166667</td>\n",
       "      <td>3.5</td>\n",
       "      <td>380.052114</td>\n",
       "      <td>91</td>\n",
       "      <td>4</td>\n",
       "    </tr>\n",
       "  </tbody>\n",
       "</table>\n",
       "<p>5 rows × 27 columns</p>\n",
       "</div>"
      ],
      "text/plain": [
       "          adult_anemia_2016  adult_blood_pressure_2015  adult_sodium_2017  \\\n",
       "country                                                                     \n",
       "S. Korea          23.700000                     10.980           5.203333   \n",
       "Japan             25.600000                     17.550           5.766667   \n",
       "Italy             19.666667                     21.170           4.050000   \n",
       "Germany           18.566667                     19.875           3.810000   \n",
       "France            20.333333                     22.050           3.813333   \n",
       "\n",
       "          basic_sanitation_2017  basic_water_2017  \\\n",
       "country                                             \n",
       "S. Korea                   0.10              1.57   \n",
       "Japan                      1.13              0.56   \n",
       "Italy                      2.56              4.40   \n",
       "Germany                    1.99              0.20   \n",
       "France                    10.28              2.15   \n",
       "\n",
       "          fruit_veg_availability_2013  government_revenue_2020  \\\n",
       "country                                                          \n",
       "S. Korea                       747.25                    38.14   \n",
       "Japan                          425.05                    38.14   \n",
       "Italy                          736.07                    38.14   \n",
       "Germany                        496.91                    38.14   \n",
       "France                         579.88                    38.14   \n",
       "\n",
       "          limited_sanitation_2017  limited_water_2017  \\\n",
       "country                                                 \n",
       "S. Korea                     0.00                 0.0   \n",
       "Japan                        0.00                 0.0   \n",
       "Italy                        0.10                 0.0   \n",
       "Germany                      0.77                 0.0   \n",
       "France                       1.35                 0.0   \n",
       "\n",
       "          nurses_and_midwives_2016  ...  unimproved_water_2017  \\\n",
       "country                             ...                          \n",
       "S. Korea                  6.900000  ...                   0.21   \n",
       "Japan                     6.310000  ...                   0.99   \n",
       "Italy                     5.720000  ...                   0.56   \n",
       "Germany                   6.186667  ...                   0.00   \n",
       "France                    6.653333  ...                   0.00   \n",
       "\n",
       "          workplaces_percent_change_from_baseline  parkinson_disease_deaths  \\\n",
       "country                                                                       \n",
       "S. Korea                                -6.486413               3224.604757   \n",
       "Japan                                  -13.006793              15161.514382   \n",
       "Italy                                  -32.841150               7608.794566   \n",
       "Germany                                -21.465793              12619.472416   \n",
       "France                                 -32.442342               7622.824664   \n",
       "\n",
       "          dementia_deaths  cancers_deaths  economic_rating  \\\n",
       "country                                                      \n",
       "S. Korea     29798.685258    89670.950054         3.166667   \n",
       "Japan       190560.882432   408392.273177         3.166667   \n",
       "Italy        72574.526515   182277.862996         3.166667   \n",
       "Germany      83603.200360   250892.527601         3.166667   \n",
       "France       68727.644036   180571.724245         3.166667   \n",
       "\n",
       "          macroeconomic_rating  cases_per_cap  day_number  week_cat  \n",
       "country                                                              \n",
       "S. Korea                   3.5      35.620943          82         3  \n",
       "Japan                      3.5      49.931240          84         4  \n",
       "Italy                      3.5     432.064137          86         4  \n",
       "Germany                    3.5     283.413813          91         4  \n",
       "France                     3.5     380.052114          91         4  \n",
       "\n",
       "[5 rows x 27 columns]"
      ]
     },
     "execution_count": 4,
     "metadata": {},
     "output_type": "execute_result"
    }
   ],
   "source": [
    "#change working directory and check what is in it\n",
    "path = '/Users/gryka/Documents/GitHub/SBwork/Capstone2/Data/data_Processing.csv' #data path\n",
    "\n",
    "#load the data\n",
    "df = pd.read_csv(path)\n",
    "df = df.set_index('country')\n",
    "df.head()"
   ]
  },
  {
   "cell_type": "markdown",
   "metadata": {},
   "source": [
    "## Fit Models with a Training Dataset"
   ]
  },
  {
   "cell_type": "markdown",
   "metadata": {},
   "source": [
    "As seen previously, the linear regression model is given below.  This model will be compared to an optimized model and other models. Our first model shows us that we can successfully use linear regression to find our result and the logistic regression was dependent on the day feature so with the current classification set we will not be able to use this categorical method.  "
   ]
  },
  {
   "cell_type": "code",
   "execution_count": 5,
   "metadata": {},
   "outputs": [],
   "source": [
    "# split and train (completed previously, reiterated here)\n",
    "X_cols = list(df.columns.drop(['day_number', 'week_cat']))\n",
    "y_cols = list('day_number')\n",
    "\n",
    "# remove target variable column from the dataframe, so only the predictor variables remain\n",
    "X = df.drop(['day_number', 'week_cat'], axis = 1)\n",
    "y = df.day_number\n",
    "\n",
    "#split into test/train sets\n",
    "X_train, X_test, y_train, y_test = train_test_split(X, y, test_size=0.2, random_state = 0)\n",
    "expected = y_test"
   ]
  },
  {
   "cell_type": "code",
   "execution_count": 14,
   "metadata": {},
   "outputs": [],
   "source": [
    "# Linear Regression model (no scaling)\n",
    "model1 = LinearRegression()\n",
    "\n",
    "# fit linear model\n",
    "model1.fit(X_train, y_train)\n",
    "\n",
    "#model prediction\n",
    "pred = model1.predict(X_test)"
   ]
  },
  {
   "cell_type": "code",
   "execution_count": 19,
   "metadata": {},
   "outputs": [],
   "source": [
    "# Gradient Boosting model\n",
    "\n",
    "# looping through paramerters to find best options\n",
    "#learning_rates = [0.0001, 0.001, 0.01, 0.05, 0.1, 0.25, 0.5, 0.75, 1]\n",
    "#max_features = [1,5,10,15,25]\n",
    "#max_depths = [1,5,10,15,25]\n",
    "#n_estimators = [1, 5, 10, 20, 25]\n",
    "#for max_feature in max_features:\n",
    "#for n_estimator in n_estimators:\n",
    "#    gb = GradientBoostingClassifier(n_estimators=25, learning_rate = 0.05, max_features=10, max_depth = 25, random_state = 1234)\n",
    "#    gb.fit(X_train, y_train)\n",
    "#    print(\"Learning rate: \", n_estimator)\n",
    "#    print(\"Accuracy score (training): {0:.3f}\".format(gb.score(X_train, y_train)))\n",
    "#    print(\"Accuracy score (validation): {0:.3f}\".format(gb.score(X_test, y_test)))\n",
    "#    print()\n",
    "\n",
    "\n",
    "# best values, optimized \n",
    "gb = GradientBoostingClassifier(n_estimators=20, learning_rate = 0.05, max_features=10, max_depth = 2)\n",
    "gb.fit(X_train, y_train)\n",
    "\n",
    "pred =gb.predict(X_test)"
   ]
  },
  {
   "cell_type": "code",
   "execution_count": 12,
   "metadata": {},
   "outputs": [],
   "source": [
    "# random forest model\n",
    "rfc = RandomForestClassifier(n_estimators=7, random_state = 1,n_jobs=-1)\n",
    "rfc.fit(X_train, y_train)\n",
    "\n",
    "pred = rfc.predict(X_test)"
   ]
  },
  {
   "cell_type": "code",
   "execution_count": null,
   "metadata": {},
   "outputs": [],
   "source": []
  },
  {
   "cell_type": "markdown",
   "metadata": {},
   "source": [
    "## Review Modeling Outcomes"
   ]
  },
  {
   "cell_type": "code",
   "execution_count": 10,
   "metadata": {},
   "outputs": [],
   "source": [
    "def ModelOutcomes(model):\n",
    "    #print('Accuracy of {}: {}'.format(model, accuracy_score(y_test, pred)))\n",
    "    print('Score of {}: {}'.format(model, model.score(X, y)))\n",
    "    print('EVS for {}: {}'.format(model, explained_variance_score(model.predict(X_train), y_train)))\n",
    "    print('MAE for {}: {}'.format(model, mean_absolute_error(model.predict(X_train), y_train) ))\n",
    "    print('RMS for {}: {}'.format(model, np.sqrt(np.mean((pred - expected) ** 2))) )\n"
   ]
  },
  {
   "cell_type": "code",
   "execution_count": 153,
   "metadata": {},
   "outputs": [
    {
     "name": "stdout",
     "output_type": "stream",
     "text": [
      "Score of LinearRegression(): 0.7807420331930144\n",
      "EVS for LinearRegression(): 0.7959342120362678\n",
      "MAE for LinearRegression(): 9.114619149051451\n",
      "RMS for LinearRegression(): 20.595666421615544\n"
     ]
    }
   ],
   "source": [
    "# model1 - linear reg outcomes\n",
    "ModelOutcomes(model1)"
   ]
  },
  {
   "cell_type": "code",
   "execution_count": 20,
   "metadata": {},
   "outputs": [
    {
     "name": "stdout",
     "output_type": "stream",
     "text": [
      "Score of GradientBoostingClassifier(learning_rate=0.05, max_depth=2, max_features=10,\n",
      "                           n_estimators=20): 0.8429752066115702\n",
      "EVS for GradientBoostingClassifier(learning_rate=0.05, max_depth=2, max_features=10,\n",
      "                           n_estimators=20): 1.0\n",
      "MAE for GradientBoostingClassifier(learning_rate=0.05, max_depth=2, max_features=10,\n",
      "                           n_estimators=20): 0.0\n",
      "RMS for GradientBoostingClassifier(learning_rate=0.05, max_depth=2, max_features=10,\n",
      "                           n_estimators=20): 18.685823503394225\n"
     ]
    }
   ],
   "source": [
    "# model2 - gradient boosting outcomes\n",
    "ModelOutcomes(gb)"
   ]
  },
  {
   "cell_type": "code",
   "execution_count": 21,
   "metadata": {},
   "outputs": [
    {
     "name": "stdout",
     "output_type": "stream",
     "text": [
      "Score of RandomForestClassifier(n_estimators=7, n_jobs=-1, random_state=1): 0.8512396694214877\n",
      "EVS for RandomForestClassifier(n_estimators=7, n_jobs=-1, random_state=1): 0.9981265161158123\n",
      "MAE for RandomForestClassifier(n_estimators=7, n_jobs=-1, random_state=1): 0.13541666666666666\n",
      "RMS for RandomForestClassifier(n_estimators=7, n_jobs=-1, random_state=1): 18.685823503394225\n"
     ]
    }
   ],
   "source": [
    "#model 3 - random forest \n",
    "ModelOutcomes(rfc)"
   ]
  },
  {
   "cell_type": "markdown",
   "metadata": {},
   "source": [
    "#### Outcome Summary\n",
    "\n",
    "| Model | Score | Explained Variance Score | Mean Absolute Error | Root Mean Square |\n",
    "| --- | --- | --- | --- | ---|\n",
    "| Linear Regression | 0.78 | 0.80 | 9.11 | 20.60 |\n",
    "| Gradient Boosting | 0.85 | 1.0 | 0.0 | 18.51 |\n",
    "| Random Forest | 0.85 | 0.99 | 0.13 | 30.93|"
   ]
  },
  {
   "cell_type": "markdown",
   "metadata": {},
   "source": [
    "## Final Model & Summary"
   ]
  },
  {
   "cell_type": "markdown",
   "metadata": {},
   "source": [
    "To find our final model, we want explained variance and score that approach 1 and a low MAE.  We also need to ensure that the model is not overfit (i.e. it performs well on new data).  The Root Mean Square  for gradient boosting is higher than any of the other models so it may be appropriate to consider an alternate model.  "
   ]
  },
  {
   "cell_type": "code",
   "execution_count": 22,
   "metadata": {
    "scrolled": true
   },
   "outputs": [
    {
     "data": {
      "image/png": "[encoded data removed]",
      "text/plain": [
       "<Figure size 1080x360 with 2 Axes>"
      ]
     },
     "metadata": {
      "needs_background": "light"
     },
     "output_type": "display_data"
    },
    {
     "data": {
      "image/png": "[encoded data removed]",
      "text/plain": [
       "<Figure size 1080x360 with 2 Axes>"
      ]
     },
     "metadata": {
      "needs_background": "light"
     },
     "output_type": "display_data"
    },
    {
     "data": {
      "image/png": "[encoded data removed]",
      "text/plain": [
       "<Figure size 1080x360 with 2 Axes>"
      ]
     },
     "metadata": {
      "needs_background": "light"
     },
     "output_type": "display_data"
    }
   ],
   "source": [
    "models = [model1, gb, rfc]\n",
    "for model in models: \n",
    "    # Making subplots\n",
    "    fig, (ax1,ax2) = plt.subplots(1,2,figsize=(15,5));\n",
    "\n",
    "    # Plotting histograms of all the predicted days\n",
    "    ax1.hist(model.predict(X));\n",
    "\n",
    "    # Labelling axis and title\n",
    "    ax1.set_xlabel('Predicted Days')\n",
    "    ax1.set_ylabel('Frequency')\n",
    "    ax1.set_title('{} Histogram of Predicted Days'.format(model))\n",
    "\n",
    "    # Plotting predicted days vs true days\n",
    "    ax2.scatter(x = df.day_number, y = model.predict(X));\n",
    "\n",
    "    # Labelling axis and title\n",
    "    ax2.set_ylabel('Predicted Days')\n",
    "    ax2.set_xlabel('True Days')\n",
    "    ax2.set_title('{} Predicted Days vs True Days'.format(model));"
   ]
  },
  {
   "cell_type": "markdown",
   "metadata": {},
   "source": [
    "The plots above clearly show that the gradient boosting and random forest models are overfit.  Meanwhile, the linear regression model will fit to new data better."
   ]
  },
  {
   "cell_type": "code",
   "execution_count": 7,
   "metadata": {},
   "outputs": [
    {
     "data": {
      "image/png": "[encoded data removed]",
      "text/plain": [
       "<Figure size 1080x360 with 2 Axes>"
      ]
     },
     "metadata": {
      "needs_background": "light"
     },
     "output_type": "display_data"
    }
   ],
   "source": [
    "\n",
    "# Making subplots\n",
    "fig, (ax1,ax2) = plt.subplots(1,2,figsize=(15,5));\n",
    "\n",
    "# Plotting histograms of all the predicted days\n",
    "ax1.hist(y);\n",
    "\n",
    "# Labelling axis and title\n",
    "ax1.set_xlabel('True Days')\n",
    "ax1.set_ylabel('Frequency')\n",
    "ax1.set_title('Histogram of True Days')\n",
    "\n",
    "# Plotting  days vs true days\n",
    "ax2.scatter(x = df.day_number, y = y);\n",
    "\n",
    "# Labelling axis and title\n",
    "ax2.set_ylabel('True Days')\n",
    "ax2.set_xlabel('True Days')\n",
    "ax2.set_title('True Days vs True Days');"
   ]
  },
  {
   "cell_type": "code",
   "execution_count": null,
   "metadata": {},
   "outputs": [],
   "source": []
  }
 ],
 "metadata": {
  "kernelspec": {
   "display_name": "Python 3",
   "language": "python",
   "name": "python3"
  },
  "language_info": {
   "codemirror_mode": {
    "name": "ipython",
    "version": 3
   },
   "file_extension": ".py",
   "mimetype": "text/x-python",
   "name": "python",
   "nbconvert_exporter": "python",
   "pygments_lexer": "ipython3",
   "version": "3.8.3"
  }
 },
 "nbformat": 4,
 "nbformat_minor": 4
}
