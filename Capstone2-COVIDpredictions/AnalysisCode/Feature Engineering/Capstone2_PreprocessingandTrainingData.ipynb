{
 "cells": [
  {
   "cell_type": "markdown",
   "metadata": {},
   "source": [
    "# 4 Preprocessing and Training Data<a id='4_Preprocessing_and_Training_Data'></a>"
   ]
  },
  {
   "cell_type": "markdown",
   "metadata": {},
   "source": [
    "## 4.1 Contents<a id='4.1_Contents'></a>\n",
    "* [4 Preprocessing and Training Data](#4_Preprocessing_and_Training_Data)\n",
    "  * [4.1 Contents](#4.1_Contents)\n",
    "  * [4.2 Introduction](#4.2_Introduction)\n",
    "  * [4.3 Imports](#4.3_Imports)\n",
    "  * [4.4 Load The Data](#4.4_Load_The_Data)  \n",
    "    * [4.4.1 Data](#4.4.1_data)\n",
    "  * [4.5 Preprocess The Data](#4.5_Preprocess_The_Data)\n",
    "    * [4.5.1 Scaling](#4.5.1_Scaling)\n",
    "    * [4.5.2 Null Values and Outliers](#4.5.2_Null_Values_and_Outliers)\n",
    "    * [4.5.3 Predicted Variable Categorize](#4.5.3_Predicted_Variable_Categorize)\n",
    "  * [4.6 Data Training](#4.6_Data_Training) \n",
    "     * [4.6.1 Split Data and Initialize Model](#4.6.1_Split_Model)\n",
    "     * [4.6.2 Fit Model](#4.6.2_Fit_Model)\n",
    "     * [4.6.3 Look at Preliminary Model](#4.6.3_Look_at_Preliminary_Model)\n",
    "  * [4.7 Summary](#3.7_Summary)\n"
   ]
  },
  {
   "cell_type": "markdown",
   "metadata": {},
   "source": [
    "## 4.2 Introduction<a id='4.2_Introduction'></a>"
   ]
  },
  {
   "cell_type": "markdown",
   "metadata": {},
   "source": [
    "Herein, we will complete any preprocessing required and then split/train the data.  "
   ]
  },
  {
   "cell_type": "markdown",
   "metadata": {},
   "source": [
    "## 4.3 Imports<a id='4.3_Imports'></a>"
   ]
  },
  {
   "cell_type": "code",
   "execution_count": 2,
   "metadata": {},
   "outputs": [],
   "source": [
    "import pandas as pd\n",
    "import numpy as np\n",
    "import os\n",
    "import matplotlib.pyplot as plt\n",
    "import seaborn as sns\n",
    "\n",
    "from sklearn import preprocessing\n",
    "from sklearn.preprocessing import MinMaxScaler\n",
    "from sklearn import utils\n",
    "#from sklearn.utils.multiclass import type_of_target\n",
    "\n",
    "from sklearn.model_selection import train_test_split\n",
    "#from imblearn.over_sampling import SMOTE\n",
    "#from sklearn.feature_selection import RFE\n",
    "from sklearn.linear_model import LinearRegression\n",
    "from sklearn.linear_model import LogisticRegression\n",
    "from sklearn.metrics import accuracy_score"
   ]
  },
  {
   "cell_type": "markdown",
   "metadata": {},
   "source": [
    "## 4.4 Load the Data<a id='4.4_Load_The_Data'></a>"
   ]
  },
  {
   "cell_type": "markdown",
   "metadata": {},
   "source": [
    "### 4.4.1 Data<a id='4.4.1_data'></a>"
   ]
  },
  {
   "cell_type": "code",
   "execution_count": 4,
   "metadata": {},
   "outputs": [
    {
     "data": {
      "text/html": [
       "<div>\n",
       "<style scoped>\n",
       "    .dataframe tbody tr th:only-of-type {\n",
       "        vertical-align: middle;\n",
       "    }\n",
       "\n",
       "    .dataframe tbody tr th {\n",
       "        vertical-align: top;\n",
       "    }\n",
       "\n",
       "    .dataframe thead th {\n",
       "        text-align: right;\n",
       "    }\n",
       "</style>\n",
       "<table border=\"1\" class=\"dataframe\">\n",
       "  <thead>\n",
       "    <tr style=\"text-align: right;\">\n",
       "      <th></th>\n",
       "      <th>country</th>\n",
       "      <th>adult_anemia_2016</th>\n",
       "      <th>adult_blood_pressure_2015</th>\n",
       "      <th>adult_sodium_2017</th>\n",
       "      <th>basic_sanitation_2017</th>\n",
       "      <th>basic_water_2017</th>\n",
       "      <th>fruit_veg_availability_2013</th>\n",
       "      <th>government_revenue_2020</th>\n",
       "      <th>limited_sanitation_2017</th>\n",
       "      <th>limited_water_2017</th>\n",
       "      <th>...</th>\n",
       "      <th>unimproved_sanitation_2017</th>\n",
       "      <th>unimproved_water_2017</th>\n",
       "      <th>workplaces_percent_change_from_baseline</th>\n",
       "      <th>parkinson_disease_deaths</th>\n",
       "      <th>dementia_deaths</th>\n",
       "      <th>cancers_deaths</th>\n",
       "      <th>economic_rating</th>\n",
       "      <th>macroeconomic_rating</th>\n",
       "      <th>cases_per_cap</th>\n",
       "      <th>day_number</th>\n",
       "    </tr>\n",
       "  </thead>\n",
       "  <tbody>\n",
       "    <tr>\n",
       "      <th>0</th>\n",
       "      <td>S. Korea</td>\n",
       "      <td>23.700000</td>\n",
       "      <td>10.980</td>\n",
       "      <td>5.203333</td>\n",
       "      <td>0.10</td>\n",
       "      <td>1.57</td>\n",
       "      <td>747.25</td>\n",
       "      <td>38.14</td>\n",
       "      <td>0.00</td>\n",
       "      <td>0.0</td>\n",
       "      <td>...</td>\n",
       "      <td>0.00</td>\n",
       "      <td>0.21</td>\n",
       "      <td>-6.486413</td>\n",
       "      <td>3224.604757</td>\n",
       "      <td>29798.685258</td>\n",
       "      <td>89670.950054</td>\n",
       "      <td>3.166667</td>\n",
       "      <td>3.5</td>\n",
       "      <td>35.620943</td>\n",
       "      <td>82</td>\n",
       "    </tr>\n",
       "    <tr>\n",
       "      <th>1</th>\n",
       "      <td>Japan</td>\n",
       "      <td>25.600000</td>\n",
       "      <td>17.550</td>\n",
       "      <td>5.766667</td>\n",
       "      <td>1.13</td>\n",
       "      <td>0.56</td>\n",
       "      <td>425.05</td>\n",
       "      <td>38.14</td>\n",
       "      <td>0.00</td>\n",
       "      <td>0.0</td>\n",
       "      <td>...</td>\n",
       "      <td>0.11</td>\n",
       "      <td>0.99</td>\n",
       "      <td>-13.006793</td>\n",
       "      <td>15161.514382</td>\n",
       "      <td>190560.882432</td>\n",
       "      <td>408392.273177</td>\n",
       "      <td>3.166667</td>\n",
       "      <td>3.5</td>\n",
       "      <td>49.931240</td>\n",
       "      <td>84</td>\n",
       "    </tr>\n",
       "    <tr>\n",
       "      <th>2</th>\n",
       "      <td>Italy</td>\n",
       "      <td>19.666667</td>\n",
       "      <td>21.170</td>\n",
       "      <td>4.050000</td>\n",
       "      <td>2.56</td>\n",
       "      <td>4.40</td>\n",
       "      <td>736.07</td>\n",
       "      <td>38.14</td>\n",
       "      <td>0.10</td>\n",
       "      <td>0.0</td>\n",
       "      <td>...</td>\n",
       "      <td>1.13</td>\n",
       "      <td>0.56</td>\n",
       "      <td>-32.841150</td>\n",
       "      <td>7608.794566</td>\n",
       "      <td>72574.526515</td>\n",
       "      <td>182277.862996</td>\n",
       "      <td>3.166667</td>\n",
       "      <td>3.5</td>\n",
       "      <td>432.064137</td>\n",
       "      <td>86</td>\n",
       "    </tr>\n",
       "    <tr>\n",
       "      <th>3</th>\n",
       "      <td>Germany</td>\n",
       "      <td>18.566667</td>\n",
       "      <td>19.875</td>\n",
       "      <td>3.810000</td>\n",
       "      <td>1.99</td>\n",
       "      <td>0.20</td>\n",
       "      <td>496.91</td>\n",
       "      <td>38.14</td>\n",
       "      <td>0.77</td>\n",
       "      <td>0.0</td>\n",
       "      <td>...</td>\n",
       "      <td>0.00</td>\n",
       "      <td>0.00</td>\n",
       "      <td>-21.465793</td>\n",
       "      <td>12619.472416</td>\n",
       "      <td>83603.200360</td>\n",
       "      <td>250892.527601</td>\n",
       "      <td>3.166667</td>\n",
       "      <td>3.5</td>\n",
       "      <td>283.413813</td>\n",
       "      <td>91</td>\n",
       "    </tr>\n",
       "    <tr>\n",
       "      <th>4</th>\n",
       "      <td>France</td>\n",
       "      <td>20.333333</td>\n",
       "      <td>22.050</td>\n",
       "      <td>3.813333</td>\n",
       "      <td>10.28</td>\n",
       "      <td>2.15</td>\n",
       "      <td>579.88</td>\n",
       "      <td>38.14</td>\n",
       "      <td>1.35</td>\n",
       "      <td>0.0</td>\n",
       "      <td>...</td>\n",
       "      <td>0.00</td>\n",
       "      <td>0.00</td>\n",
       "      <td>-32.442342</td>\n",
       "      <td>7622.824664</td>\n",
       "      <td>68727.644036</td>\n",
       "      <td>180571.724245</td>\n",
       "      <td>3.166667</td>\n",
       "      <td>3.5</td>\n",
       "      <td>380.052114</td>\n",
       "      <td>91</td>\n",
       "    </tr>\n",
       "  </tbody>\n",
       "</table>\n",
       "<p>5 rows × 27 columns</p>\n",
       "</div>"
      ],
      "text/plain": [
       "    country  adult_anemia_2016  adult_blood_pressure_2015  adult_sodium_2017  \\\n",
       "0  S. Korea          23.700000                     10.980           5.203333   \n",
       "1     Japan          25.600000                     17.550           5.766667   \n",
       "2     Italy          19.666667                     21.170           4.050000   \n",
       "3   Germany          18.566667                     19.875           3.810000   \n",
       "4    France          20.333333                     22.050           3.813333   \n",
       "\n",
       "   basic_sanitation_2017  basic_water_2017  fruit_veg_availability_2013  \\\n",
       "0                   0.10              1.57                       747.25   \n",
       "1                   1.13              0.56                       425.05   \n",
       "2                   2.56              4.40                       736.07   \n",
       "3                   1.99              0.20                       496.91   \n",
       "4                  10.28              2.15                       579.88   \n",
       "\n",
       "   government_revenue_2020  limited_sanitation_2017  limited_water_2017  ...  \\\n",
       "0                    38.14                     0.00                 0.0  ...   \n",
       "1                    38.14                     0.00                 0.0  ...   \n",
       "2                    38.14                     0.10                 0.0  ...   \n",
       "3                    38.14                     0.77                 0.0  ...   \n",
       "4                    38.14                     1.35                 0.0  ...   \n",
       "\n",
       "   unimproved_sanitation_2017  unimproved_water_2017  \\\n",
       "0                        0.00                   0.21   \n",
       "1                        0.11                   0.99   \n",
       "2                        1.13                   0.56   \n",
       "3                        0.00                   0.00   \n",
       "4                        0.00                   0.00   \n",
       "\n",
       "   workplaces_percent_change_from_baseline  parkinson_disease_deaths  \\\n",
       "0                                -6.486413               3224.604757   \n",
       "1                               -13.006793              15161.514382   \n",
       "2                               -32.841150               7608.794566   \n",
       "3                               -21.465793              12619.472416   \n",
       "4                               -32.442342               7622.824664   \n",
       "\n",
       "   dementia_deaths  cancers_deaths  economic_rating  macroeconomic_rating  \\\n",
       "0     29798.685258    89670.950054         3.166667                   3.5   \n",
       "1    190560.882432   408392.273177         3.166667                   3.5   \n",
       "2     72574.526515   182277.862996         3.166667                   3.5   \n",
       "3     83603.200360   250892.527601         3.166667                   3.5   \n",
       "4     68727.644036   180571.724245         3.166667                   3.5   \n",
       "\n",
       "   cases_per_cap  day_number  \n",
       "0      35.620943          82  \n",
       "1      49.931240          84  \n",
       "2     432.064137          86  \n",
       "3     283.413813          91  \n",
       "4     380.052114          91  \n",
       "\n",
       "[5 rows x 27 columns]"
      ]
     },
     "execution_count": 4,
     "metadata": {},
     "output_type": "execute_result"
    }
   ],
   "source": [
    "df = pd.read_csv('/Users/Hailey/Documents/GitHub/SBwork/Capstone2/Data/data_EDA.csv')\n",
    "df.head()"
   ]
  },
  {
   "cell_type": "code",
   "execution_count": 5,
   "metadata": {},
   "outputs": [
    {
     "name": "stdout",
     "output_type": "stream",
     "text": [
      "<class 'pandas.core.frame.DataFrame'>\n",
      "RangeIndex: 121 entries, 0 to 120\n",
      "Data columns (total 27 columns):\n",
      " #   Column                                   Non-Null Count  Dtype  \n",
      "---  ------                                   --------------  -----  \n",
      " 0   country                                  121 non-null    object \n",
      " 1   adult_anemia_2016                        121 non-null    float64\n",
      " 2   adult_blood_pressure_2015                121 non-null    float64\n",
      " 3   adult_sodium_2017                        121 non-null    float64\n",
      " 4   basic_sanitation_2017                    121 non-null    float64\n",
      " 5   basic_water_2017                         121 non-null    float64\n",
      " 6   fruit_veg_availability_2013              121 non-null    float64\n",
      " 7   government_revenue_2020                  121 non-null    float64\n",
      " 8   limited_sanitation_2017                  121 non-null    float64\n",
      " 9   limited_water_2017                       121 non-null    float64\n",
      " 10  nurses_and_midwives_2016                 121 non-null    float64\n",
      " 11  open_defecation_2017                     121 non-null    float64\n",
      " 12  physicians_2016                          121 non-null    float64\n",
      " 13  safely_managed_sanitation_2017           121 non-null    float64\n",
      " 14  safely_managed_water_2017                121 non-null    float64\n",
      " 15  surface_water_2017                       121 non-null    float64\n",
      " 16  undernourishment_prev_2017               121 non-null    float64\n",
      " 17  unimproved_sanitation_2017               121 non-null    float64\n",
      " 18  unimproved_water_2017                    121 non-null    float64\n",
      " 19  workplaces_percent_change_from_baseline  121 non-null    float64\n",
      " 20  parkinson_disease_deaths                 121 non-null    float64\n",
      " 21  dementia_deaths                          121 non-null    float64\n",
      " 22  cancers_deaths                           121 non-null    float64\n",
      " 23  economic_rating                          121 non-null    float64\n",
      " 24  macroeconomic_rating                     121 non-null    float64\n",
      " 25  cases_per_cap                            121 non-null    float64\n",
      " 26  day_number                               121 non-null    int64  \n",
      "dtypes: float64(25), int64(1), object(1)\n",
      "memory usage: 25.6+ KB\n"
     ]
    }
   ],
   "source": [
    "df.info()"
   ]
  },
  {
   "cell_type": "markdown",
   "metadata": {},
   "source": [
    "## 4.5 Preprocess The Data<a id='4.5_Preprocess_The_Data'></a>"
   ]
  },
  {
   "cell_type": "markdown",
   "metadata": {},
   "source": [
    "### 4.5.1 Scaling<a id='4.5.1_Scaling'></a>\n",
    "\n",
    "In the previous workbook, we performed scaling in order to complete PCA analysis.  Due to the number of outliers in some of the data, we may want to revist this and consider removing outliers prior to re-scaling. "
   ]
  },
  {
   "cell_type": "code",
   "execution_count": 6,
   "metadata": {},
   "outputs": [
    {
     "data": {
      "text/plain": [
       "4    59\n",
       "5    38\n",
       "6    11\n",
       "7     7\n",
       "9     3\n",
       "8     2\n",
       "3     1\n",
       "2     0\n",
       "1     0\n",
       "Name: week_cat, dtype: int64"
      ]
     },
     "execution_count": 6,
     "metadata": {},
     "output_type": "execute_result"
    }
   ],
   "source": [
    "# based on initial results, go back and bin days into weeks.\n",
    "# 82-250\n",
    "bins = np.linspace(0, 250, 10)\n",
    "names = [1,2,3,4,5,6,7,8,9] #['w1','w2','w3','w4','w5','w6','w7','w8','w9']\n",
    "\n",
    "df['week_cat'] = pd.cut(df.day_number, bins, labels=names)\n",
    "\n",
    "df.week_cat.value_counts()"
   ]
  },
  {
   "cell_type": "code",
   "execution_count": 78,
   "metadata": {},
   "outputs": [
    {
     "data": {
      "image/png": "[encoded data removed]",
      "text/plain": [
       "<Figure size 432x288 with 1 Axes>"
      ]
     },
     "metadata": {
      "needs_background": "light"
     },
     "output_type": "display_data"
    }
   ],
   "source": [
    "cols = list(df.columns.drop(['country', 'week_cat']))\n",
    "df.boxplot(column=cols, grid = False, rot=45, fontsize=8)\n",
    "plt.show()"
   ]
  },
  {
   "cell_type": "markdown",
   "metadata": {},
   "source": [
    " Above, we can see that the majority of the columns similar scaling, however, dementia_deaths and cancers_deaths have some extreme outliers.  We would also keep an eye on parkinson_disease_deaths as this column also appears to have outliers.  "
   ]
  },
  {
   "cell_type": "code",
   "execution_count": 6,
   "metadata": {},
   "outputs": [
    {
     "data": {
      "image/png": "[encoded data removed]",
      "text/plain": [
       "<Figure size 432x288 with 1 Axes>"
      ]
     },
     "metadata": {
      "needs_background": "light"
     },
     "output_type": "display_data"
    }
   ],
   "source": [
    "df.boxplot(column=['dementia_deaths', 'cancers_deaths', 'parkinson_disease_deaths'], grid=False, rot=45, fontsize=8)\n",
    "plt.show()"
   ]
  },
  {
   "cell_type": "code",
   "execution_count": 7,
   "metadata": {},
   "outputs": [
    {
     "data": {
      "image/png": "[encoded data removed]",
      "text/plain": [
       "<Figure size 432x288 with 1 Axes>"
      ]
     },
     "metadata": {
      "needs_background": "light"
     },
     "output_type": "display_data"
    }
   ],
   "source": [
    "df.boxplot(column=['adult_anemia_2016', 'surface_water_2017', 'cases_per_cap'], grid=False, rot=45, fontsize=8)\n",
    "plt.show()"
   ]
  },
  {
   "cell_type": "markdown",
   "metadata": {},
   "source": [
    "Above are some subplots of different data from which we can more definatevely see that there are still some scaling issues throughout the data despite the previoius scaling.  Thus, we should work to rescale.  \n",
    "\n",
    "The data herein is all important and a range is expected, so we do not want to remove outliers.  Thus, a min-max scaling approach may be utilized.  I will prep for this now, but wait to apply the scaling until after the data has been split.  "
   ]
  },
  {
   "cell_type": "code",
   "execution_count": 13,
   "metadata": {},
   "outputs": [],
   "source": [
    "# scale the data by initializing min-max scaler and apply it to each column\n",
    "df = df.set_index('country')\n",
    "scaler = MinMaxScaler((-1,1))\n"
   ]
  },
  {
   "cell_type": "markdown",
   "metadata": {},
   "source": [
    "### 4.5.2 Null Values and Outliers<a id='4.5.2_Null_Values_and_Outliers'></a>"
   ]
  },
  {
   "cell_type": "code",
   "execution_count": 14,
   "metadata": {
    "scrolled": true
   },
   "outputs": [
    {
     "data": {
      "text/html": [
       "<div>\n",
       "<style scoped>\n",
       "    .dataframe tbody tr th:only-of-type {\n",
       "        vertical-align: middle;\n",
       "    }\n",
       "\n",
       "    .dataframe tbody tr th {\n",
       "        vertical-align: top;\n",
       "    }\n",
       "\n",
       "    .dataframe thead th {\n",
       "        text-align: right;\n",
       "    }\n",
       "</style>\n",
       "<table border=\"1\" class=\"dataframe\">\n",
       "  <thead>\n",
       "    <tr style=\"text-align: right;\">\n",
       "      <th></th>\n",
       "      <th>adult_anemia_2016</th>\n",
       "      <th>adult_blood_pressure_2015</th>\n",
       "      <th>adult_sodium_2017</th>\n",
       "      <th>basic_sanitation_2017</th>\n",
       "      <th>basic_water_2017</th>\n",
       "      <th>fruit_veg_availability_2013</th>\n",
       "      <th>government_revenue_2020</th>\n",
       "      <th>limited_sanitation_2017</th>\n",
       "      <th>limited_water_2017</th>\n",
       "      <th>nurses_and_midwives_2016</th>\n",
       "      <th>...</th>\n",
       "      <th>unimproved_sanitation_2017</th>\n",
       "      <th>unimproved_water_2017</th>\n",
       "      <th>workplaces_percent_change_from_baseline</th>\n",
       "      <th>parkinson_disease_deaths</th>\n",
       "      <th>dementia_deaths</th>\n",
       "      <th>cancers_deaths</th>\n",
       "      <th>economic_rating</th>\n",
       "      <th>macroeconomic_rating</th>\n",
       "      <th>cases_per_cap</th>\n",
       "      <th>day_number</th>\n",
       "    </tr>\n",
       "  </thead>\n",
       "  <tbody>\n",
       "    <tr>\n",
       "      <th>count</th>\n",
       "      <td>121.000000</td>\n",
       "      <td>121.000000</td>\n",
       "      <td>121.000000</td>\n",
       "      <td>121.000000</td>\n",
       "      <td>121.000000</td>\n",
       "      <td>121.000000</td>\n",
       "      <td>121.000000</td>\n",
       "      <td>121.000000</td>\n",
       "      <td>121.000000</td>\n",
       "      <td>121.000000</td>\n",
       "      <td>...</td>\n",
       "      <td>121.000000</td>\n",
       "      <td>121.000000</td>\n",
       "      <td>121.000000</td>\n",
       "      <td>121.000000</td>\n",
       "      <td>121.000000</td>\n",
       "      <td>121.000000</td>\n",
       "      <td>121.000000</td>\n",
       "      <td>121.000000</td>\n",
       "      <td>121.000000</td>\n",
       "      <td>121.000000</td>\n",
       "    </tr>\n",
       "    <tr>\n",
       "      <th>mean</th>\n",
       "      <td>29.586226</td>\n",
       "      <td>23.907645</td>\n",
       "      <td>3.843802</td>\n",
       "      <td>38.031736</td>\n",
       "      <td>39.711281</td>\n",
       "      <td>487.213512</td>\n",
       "      <td>19.861570</td>\n",
       "      <td>6.711653</td>\n",
       "      <td>3.201653</td>\n",
       "      <td>4.715661</td>\n",
       "      <td>...</td>\n",
       "      <td>7.299628</td>\n",
       "      <td>4.349752</td>\n",
       "      <td>-22.207021</td>\n",
       "      <td>1981.135125</td>\n",
       "      <td>15074.318072</td>\n",
       "      <td>51244.042766</td>\n",
       "      <td>3.385675</td>\n",
       "      <td>3.667355</td>\n",
       "      <td>432.662545</td>\n",
       "      <td>121.958678</td>\n",
       "    </tr>\n",
       "    <tr>\n",
       "      <th>std</th>\n",
       "      <td>11.440717</td>\n",
       "      <td>4.803936</td>\n",
       "      <td>0.745961</td>\n",
       "      <td>32.773722</td>\n",
       "      <td>37.551751</td>\n",
       "      <td>220.502567</td>\n",
       "      <td>18.063651</td>\n",
       "      <td>8.729993</td>\n",
       "      <td>5.904722</td>\n",
       "      <td>3.558705</td>\n",
       "      <td>...</td>\n",
       "      <td>12.854860</td>\n",
       "      <td>6.878651</td>\n",
       "      <td>10.693224</td>\n",
       "      <td>4904.434775</td>\n",
       "      <td>35529.155460</td>\n",
       "      <td>116635.445531</td>\n",
       "      <td>0.399830</td>\n",
       "      <td>0.438573</td>\n",
       "      <td>629.792930</td>\n",
       "      <td>31.207477</td>\n",
       "    </tr>\n",
       "    <tr>\n",
       "      <th>min</th>\n",
       "      <td>12.066667</td>\n",
       "      <td>10.980000</td>\n",
       "      <td>2.383333</td>\n",
       "      <td>0.000000</td>\n",
       "      <td>0.000000</td>\n",
       "      <td>63.740000</td>\n",
       "      <td>0.125000</td>\n",
       "      <td>0.000000</td>\n",
       "      <td>0.000000</td>\n",
       "      <td>0.310000</td>\n",
       "      <td>...</td>\n",
       "      <td>0.000000</td>\n",
       "      <td>0.000000</td>\n",
       "      <td>-51.948370</td>\n",
       "      <td>10.579920</td>\n",
       "      <td>61.878354</td>\n",
       "      <td>264.840294</td>\n",
       "      <td>1.833333</td>\n",
       "      <td>2.000000</td>\n",
       "      <td>0.848686</td>\n",
       "      <td>82.000000</td>\n",
       "    </tr>\n",
       "    <tr>\n",
       "      <th>25%</th>\n",
       "      <td>20.800000</td>\n",
       "      <td>20.615000</td>\n",
       "      <td>3.346667</td>\n",
       "      <td>8.590000</td>\n",
       "      <td>2.150000</td>\n",
       "      <td>324.650000</td>\n",
       "      <td>2.455000</td>\n",
       "      <td>0.550000</td>\n",
       "      <td>0.000000</td>\n",
       "      <td>1.800526</td>\n",
       "      <td>...</td>\n",
       "      <td>0.030000</td>\n",
       "      <td>0.050000</td>\n",
       "      <td>-29.119565</td>\n",
       "      <td>178.708640</td>\n",
       "      <td>1242.142561</td>\n",
       "      <td>5455.374725</td>\n",
       "      <td>3.166667</td>\n",
       "      <td>3.500000</td>\n",
       "      <td>58.451369</td>\n",
       "      <td>105.000000</td>\n",
       "    </tr>\n",
       "    <tr>\n",
       "      <th>50%</th>\n",
       "      <td>26.300000</td>\n",
       "      <td>24.090000</td>\n",
       "      <td>3.906667</td>\n",
       "      <td>29.050000</td>\n",
       "      <td>35.720000</td>\n",
       "      <td>494.090000</td>\n",
       "      <td>14.793750</td>\n",
       "      <td>2.340000</td>\n",
       "      <td>0.390000</td>\n",
       "      <td>3.758421</td>\n",
       "      <td>...</td>\n",
       "      <td>1.460000</td>\n",
       "      <td>0.890000</td>\n",
       "      <td>-23.564013</td>\n",
       "      <td>443.359336</td>\n",
       "      <td>2900.730833</td>\n",
       "      <td>12765.268103</td>\n",
       "      <td>3.270834</td>\n",
       "      <td>3.500000</td>\n",
       "      <td>192.605738</td>\n",
       "      <td>112.000000</td>\n",
       "    </tr>\n",
       "    <tr>\n",
       "      <th>75%</th>\n",
       "      <td>34.533333</td>\n",
       "      <td>27.600000</td>\n",
       "      <td>4.403333</td>\n",
       "      <td>66.570000</td>\n",
       "      <td>66.630000</td>\n",
       "      <td>600.950000</td>\n",
       "      <td>38.140000</td>\n",
       "      <td>10.870000</td>\n",
       "      <td>3.330000</td>\n",
       "      <td>7.330000</td>\n",
       "      <td>...</td>\n",
       "      <td>8.900000</td>\n",
       "      <td>5.280000</td>\n",
       "      <td>-14.383122</td>\n",
       "      <td>1260.064024</td>\n",
       "      <td>10423.837438</td>\n",
       "      <td>33354.394508</td>\n",
       "      <td>3.666667</td>\n",
       "      <td>4.000000</td>\n",
       "      <td>559.129313</td>\n",
       "      <td>126.000000</td>\n",
       "    </tr>\n",
       "    <tr>\n",
       "      <th>max</th>\n",
       "      <td>67.600000</td>\n",
       "      <td>33.550000</td>\n",
       "      <td>6.470000</td>\n",
       "      <td>100.000000</td>\n",
       "      <td>100.000000</td>\n",
       "      <td>1112.660000</td>\n",
       "      <td>88.635000</td>\n",
       "      <td>50.210000</td>\n",
       "      <td>31.720000</td>\n",
       "      <td>12.570000</td>\n",
       "      <td>...</td>\n",
       "      <td>70.320000</td>\n",
       "      <td>31.070000</td>\n",
       "      <td>11.880435</td>\n",
       "      <td>38923.974673</td>\n",
       "      <td>254246.444535</td>\n",
       "      <td>895371.427729</td>\n",
       "      <td>4.333333</td>\n",
       "      <td>4.500000</td>\n",
       "      <td>4184.692313</td>\n",
       "      <td>250.000000</td>\n",
       "    </tr>\n",
       "  </tbody>\n",
       "</table>\n",
       "<p>8 rows × 26 columns</p>\n",
       "</div>"
      ],
      "text/plain": [
       "       adult_anemia_2016  adult_blood_pressure_2015  adult_sodium_2017  \\\n",
       "count         121.000000                 121.000000         121.000000   \n",
       "mean           29.586226                  23.907645           3.843802   \n",
       "std            11.440717                   4.803936           0.745961   \n",
       "min            12.066667                  10.980000           2.383333   \n",
       "25%            20.800000                  20.615000           3.346667   \n",
       "50%            26.300000                  24.090000           3.906667   \n",
       "75%            34.533333                  27.600000           4.403333   \n",
       "max            67.600000                  33.550000           6.470000   \n",
       "\n",
       "       basic_sanitation_2017  basic_water_2017  fruit_veg_availability_2013  \\\n",
       "count             121.000000        121.000000                   121.000000   \n",
       "mean               38.031736         39.711281                   487.213512   \n",
       "std                32.773722         37.551751                   220.502567   \n",
       "min                 0.000000          0.000000                    63.740000   \n",
       "25%                 8.590000          2.150000                   324.650000   \n",
       "50%                29.050000         35.720000                   494.090000   \n",
       "75%                66.570000         66.630000                   600.950000   \n",
       "max               100.000000        100.000000                  1112.660000   \n",
       "\n",
       "       government_revenue_2020  limited_sanitation_2017  limited_water_2017  \\\n",
       "count               121.000000               121.000000          121.000000   \n",
       "mean                 19.861570                 6.711653            3.201653   \n",
       "std                  18.063651                 8.729993            5.904722   \n",
       "min                   0.125000                 0.000000            0.000000   \n",
       "25%                   2.455000                 0.550000            0.000000   \n",
       "50%                  14.793750                 2.340000            0.390000   \n",
       "75%                  38.140000                10.870000            3.330000   \n",
       "max                  88.635000                50.210000           31.720000   \n",
       "\n",
       "       nurses_and_midwives_2016  ...  unimproved_sanitation_2017  \\\n",
       "count                121.000000  ...                  121.000000   \n",
       "mean                   4.715661  ...                    7.299628   \n",
       "std                    3.558705  ...                   12.854860   \n",
       "min                    0.310000  ...                    0.000000   \n",
       "25%                    1.800526  ...                    0.030000   \n",
       "50%                    3.758421  ...                    1.460000   \n",
       "75%                    7.330000  ...                    8.900000   \n",
       "max                   12.570000  ...                   70.320000   \n",
       "\n",
       "       unimproved_water_2017  workplaces_percent_change_from_baseline  \\\n",
       "count             121.000000                               121.000000   \n",
       "mean                4.349752                               -22.207021   \n",
       "std                 6.878651                                10.693224   \n",
       "min                 0.000000                               -51.948370   \n",
       "25%                 0.050000                               -29.119565   \n",
       "50%                 0.890000                               -23.564013   \n",
       "75%                 5.280000                               -14.383122   \n",
       "max                31.070000                                11.880435   \n",
       "\n",
       "       parkinson_disease_deaths  dementia_deaths  cancers_deaths  \\\n",
       "count                121.000000       121.000000      121.000000   \n",
       "mean                1981.135125     15074.318072    51244.042766   \n",
       "std                 4904.434775     35529.155460   116635.445531   \n",
       "min                   10.579920        61.878354      264.840294   \n",
       "25%                  178.708640      1242.142561     5455.374725   \n",
       "50%                  443.359336      2900.730833    12765.268103   \n",
       "75%                 1260.064024     10423.837438    33354.394508   \n",
       "max                38923.974673    254246.444535   895371.427729   \n",
       "\n",
       "       economic_rating  macroeconomic_rating  cases_per_cap  day_number  \n",
       "count       121.000000            121.000000     121.000000  121.000000  \n",
       "mean          3.385675              3.667355     432.662545  121.958678  \n",
       "std           0.399830              0.438573     629.792930   31.207477  \n",
       "min           1.833333              2.000000       0.848686   82.000000  \n",
       "25%           3.166667              3.500000      58.451369  105.000000  \n",
       "50%           3.270834              3.500000     192.605738  112.000000  \n",
       "75%           3.666667              4.000000     559.129313  126.000000  \n",
       "max           4.333333              4.500000    4184.692313  250.000000  \n",
       "\n",
       "[8 rows x 26 columns]"
      ]
     },
     "execution_count": 14,
     "metadata": {},
     "output_type": "execute_result"
    }
   ],
   "source": [
    "df.describe()"
   ]
  },
  {
   "cell_type": "markdown",
   "metadata": {},
   "source": [
    "Beyond seeing the scaling that we preformed earlier, `describe()` also lets us see that our counts are all 121 and thus there are no null values.  "
   ]
  },
  {
   "cell_type": "code",
   "execution_count": 227,
   "metadata": {},
   "outputs": [
    {
     "data": {
      "image/png": "[encoded data removed]",
      "text/plain": [
       "<Figure size 432x288 with 1 Axes>"
      ]
     },
     "metadata": {
      "needs_background": "light"
     },
     "output_type": "display_data"
    }
   ],
   "source": [
    "#cols = list(df.columns.drop('country'))\n",
    "df.boxplot(column=cols, grid = False, rot=45, fontsize=8)\n",
    "plt.show()"
   ]
  },
  {
   "cell_type": "markdown",
   "metadata": {},
   "source": [
    "Above we see we do indeed have outliers, but we have previously confirmed that the outliers are each important so we want to keep them."
   ]
  },
  {
   "cell_type": "code",
   "execution_count": 15,
   "metadata": {},
   "outputs": [
    {
     "data": {
      "text/plain": [
       "adult_anemia_2016                          0\n",
       "adult_blood_pressure_2015                  0\n",
       "adult_sodium_2017                          0\n",
       "basic_sanitation_2017                      0\n",
       "basic_water_2017                           0\n",
       "fruit_veg_availability_2013                0\n",
       "government_revenue_2020                    0\n",
       "limited_sanitation_2017                    0\n",
       "limited_water_2017                         0\n",
       "nurses_and_midwives_2016                   0\n",
       "open_defecation_2017                       0\n",
       "physicians_2016                            0\n",
       "safely_managed_sanitation_2017             0\n",
       "safely_managed_water_2017                  0\n",
       "surface_water_2017                         0\n",
       "undernourishment_prev_2017                 0\n",
       "unimproved_sanitation_2017                 0\n",
       "unimproved_water_2017                      0\n",
       "workplaces_percent_change_from_baseline    0\n",
       "parkinson_disease_deaths                   0\n",
       "dementia_deaths                            0\n",
       "cancers_deaths                             0\n",
       "economic_rating                            0\n",
       "macroeconomic_rating                       0\n",
       "cases_per_cap                              0\n",
       "day_number                                 0\n",
       "week_cat                                   0\n",
       "dtype: int64"
      ]
     },
     "execution_count": 15,
     "metadata": {},
     "output_type": "execute_result"
    }
   ],
   "source": [
    "df.isna().sum()\n",
    "#df[df.day_number.isna()]\n",
    "#df[df.week_cat.isna()]"
   ]
  },
  {
   "cell_type": "markdown",
   "metadata": {},
   "source": [
    "No null values are observed after scaling."
   ]
  },
  {
   "cell_type": "markdown",
   "metadata": {},
   "source": [
    "### 4.5.3 Predicted Variable Categorize<a id='4.5.3_Predicted_Variable_Categorize'></a>"
   ]
  },
  {
   "cell_type": "code",
   "execution_count": 16,
   "metadata": {},
   "outputs": [],
   "source": [
    "#df.drop('day_number', axis=1)"
   ]
  },
  {
   "cell_type": "code",
   "execution_count": 17,
   "metadata": {},
   "outputs": [
    {
     "data": {
      "text/plain": [
       "adult_anemia_2016                           float64\n",
       "adult_blood_pressure_2015                   float64\n",
       "adult_sodium_2017                           float64\n",
       "basic_sanitation_2017                       float64\n",
       "basic_water_2017                            float64\n",
       "fruit_veg_availability_2013                 float64\n",
       "government_revenue_2020                     float64\n",
       "limited_sanitation_2017                     float64\n",
       "limited_water_2017                          float64\n",
       "nurses_and_midwives_2016                    float64\n",
       "open_defecation_2017                        float64\n",
       "physicians_2016                             float64\n",
       "safely_managed_sanitation_2017              float64\n",
       "safely_managed_water_2017                   float64\n",
       "surface_water_2017                          float64\n",
       "undernourishment_prev_2017                  float64\n",
       "unimproved_sanitation_2017                  float64\n",
       "unimproved_water_2017                       float64\n",
       "workplaces_percent_change_from_baseline     float64\n",
       "parkinson_disease_deaths                    float64\n",
       "dementia_deaths                             float64\n",
       "cancers_deaths                              float64\n",
       "economic_rating                             float64\n",
       "macroeconomic_rating                        float64\n",
       "cases_per_cap                               float64\n",
       "day_number                                    int64\n",
       "week_cat                                   category\n",
       "dtype: object"
      ]
     },
     "execution_count": 17,
     "metadata": {},
     "output_type": "execute_result"
    }
   ],
   "source": [
    "# treat the week category as a categorical.  \n",
    "#df.week_cat = df.week_cat.astype('category')\n",
    "df.dtypes"
   ]
  },
  {
   "cell_type": "code",
   "execution_count": 18,
   "metadata": {},
   "outputs": [
    {
     "name": "stdout",
     "output_type": "stream",
     "text": [
      "multiclass\n"
     ]
    }
   ],
   "source": [
    "lab_enc = preprocessing.LabelEncoder()\n",
    "#df.week_cat = lab_enc.fit_transform(df.week_cat)\n",
    "print(utils.multiclass.type_of_target(df.week_cat))"
   ]
  },
  {
   "cell_type": "markdown",
   "metadata": {},
   "source": [
    "## 4.6 Data Training<a id='4.6_Data_Training'></a>"
   ]
  },
  {
   "cell_type": "markdown",
   "metadata": {},
   "source": [
    "### 4.6.1 Split Data and Initialize Model<a id='4.6.1_Split_Model'></a>\n",
    "\n",
    "This set of data does not have categorical features, so we will not require dummy variables, however, this is generally an important step to consider."
   ]
  },
  {
   "cell_type": "code",
   "execution_count": 19,
   "metadata": {},
   "outputs": [
    {
     "data": {
      "text/html": [
       "<div>\n",
       "<style scoped>\n",
       "    .dataframe tbody tr th:only-of-type {\n",
       "        vertical-align: middle;\n",
       "    }\n",
       "\n",
       "    .dataframe tbody tr th {\n",
       "        vertical-align: top;\n",
       "    }\n",
       "\n",
       "    .dataframe thead th {\n",
       "        text-align: right;\n",
       "    }\n",
       "</style>\n",
       "<table border=\"1\" class=\"dataframe\">\n",
       "  <thead>\n",
       "    <tr style=\"text-align: right;\">\n",
       "      <th></th>\n",
       "      <th>adult_anemia_2016</th>\n",
       "      <th>adult_blood_pressure_2015</th>\n",
       "      <th>adult_sodium_2017</th>\n",
       "      <th>basic_sanitation_2017</th>\n",
       "      <th>basic_water_2017</th>\n",
       "      <th>fruit_veg_availability_2013</th>\n",
       "      <th>government_revenue_2020</th>\n",
       "      <th>limited_sanitation_2017</th>\n",
       "      <th>limited_water_2017</th>\n",
       "      <th>nurses_and_midwives_2016</th>\n",
       "      <th>...</th>\n",
       "      <th>unimproved_water_2017</th>\n",
       "      <th>workplaces_percent_change_from_baseline</th>\n",
       "      <th>parkinson_disease_deaths</th>\n",
       "      <th>dementia_deaths</th>\n",
       "      <th>cancers_deaths</th>\n",
       "      <th>economic_rating</th>\n",
       "      <th>macroeconomic_rating</th>\n",
       "      <th>cases_per_cap</th>\n",
       "      <th>day_number</th>\n",
       "      <th>week_cat</th>\n",
       "    </tr>\n",
       "    <tr>\n",
       "      <th>country</th>\n",
       "      <th></th>\n",
       "      <th></th>\n",
       "      <th></th>\n",
       "      <th></th>\n",
       "      <th></th>\n",
       "      <th></th>\n",
       "      <th></th>\n",
       "      <th></th>\n",
       "      <th></th>\n",
       "      <th></th>\n",
       "      <th></th>\n",
       "      <th></th>\n",
       "      <th></th>\n",
       "      <th></th>\n",
       "      <th></th>\n",
       "      <th></th>\n",
       "      <th></th>\n",
       "      <th></th>\n",
       "      <th></th>\n",
       "      <th></th>\n",
       "      <th></th>\n",
       "    </tr>\n",
       "  </thead>\n",
       "  <tbody>\n",
       "    <tr>\n",
       "      <th>S. Korea</th>\n",
       "      <td>23.700000</td>\n",
       "      <td>10.980</td>\n",
       "      <td>5.203333</td>\n",
       "      <td>0.10</td>\n",
       "      <td>1.57</td>\n",
       "      <td>747.25</td>\n",
       "      <td>38.14</td>\n",
       "      <td>0.00</td>\n",
       "      <td>0.0</td>\n",
       "      <td>6.900000</td>\n",
       "      <td>...</td>\n",
       "      <td>0.21</td>\n",
       "      <td>-6.486413</td>\n",
       "      <td>3224.604757</td>\n",
       "      <td>29798.685258</td>\n",
       "      <td>89670.950054</td>\n",
       "      <td>3.166667</td>\n",
       "      <td>3.5</td>\n",
       "      <td>35.620943</td>\n",
       "      <td>82</td>\n",
       "      <td>3</td>\n",
       "    </tr>\n",
       "    <tr>\n",
       "      <th>Japan</th>\n",
       "      <td>25.600000</td>\n",
       "      <td>17.550</td>\n",
       "      <td>5.766667</td>\n",
       "      <td>1.13</td>\n",
       "      <td>0.56</td>\n",
       "      <td>425.05</td>\n",
       "      <td>38.14</td>\n",
       "      <td>0.00</td>\n",
       "      <td>0.0</td>\n",
       "      <td>6.310000</td>\n",
       "      <td>...</td>\n",
       "      <td>0.99</td>\n",
       "      <td>-13.006793</td>\n",
       "      <td>15161.514382</td>\n",
       "      <td>190560.882432</td>\n",
       "      <td>408392.273177</td>\n",
       "      <td>3.166667</td>\n",
       "      <td>3.5</td>\n",
       "      <td>49.931240</td>\n",
       "      <td>84</td>\n",
       "      <td>4</td>\n",
       "    </tr>\n",
       "    <tr>\n",
       "      <th>Italy</th>\n",
       "      <td>19.666667</td>\n",
       "      <td>21.170</td>\n",
       "      <td>4.050000</td>\n",
       "      <td>2.56</td>\n",
       "      <td>4.40</td>\n",
       "      <td>736.07</td>\n",
       "      <td>38.14</td>\n",
       "      <td>0.10</td>\n",
       "      <td>0.0</td>\n",
       "      <td>5.720000</td>\n",
       "      <td>...</td>\n",
       "      <td>0.56</td>\n",
       "      <td>-32.841150</td>\n",
       "      <td>7608.794566</td>\n",
       "      <td>72574.526515</td>\n",
       "      <td>182277.862996</td>\n",
       "      <td>3.166667</td>\n",
       "      <td>3.5</td>\n",
       "      <td>432.064137</td>\n",
       "      <td>86</td>\n",
       "      <td>4</td>\n",
       "    </tr>\n",
       "    <tr>\n",
       "      <th>Germany</th>\n",
       "      <td>18.566667</td>\n",
       "      <td>19.875</td>\n",
       "      <td>3.810000</td>\n",
       "      <td>1.99</td>\n",
       "      <td>0.20</td>\n",
       "      <td>496.91</td>\n",
       "      <td>38.14</td>\n",
       "      <td>0.77</td>\n",
       "      <td>0.0</td>\n",
       "      <td>6.186667</td>\n",
       "      <td>...</td>\n",
       "      <td>0.00</td>\n",
       "      <td>-21.465793</td>\n",
       "      <td>12619.472416</td>\n",
       "      <td>83603.200360</td>\n",
       "      <td>250892.527601</td>\n",
       "      <td>3.166667</td>\n",
       "      <td>3.5</td>\n",
       "      <td>283.413813</td>\n",
       "      <td>91</td>\n",
       "      <td>4</td>\n",
       "    </tr>\n",
       "    <tr>\n",
       "      <th>France</th>\n",
       "      <td>20.333333</td>\n",
       "      <td>22.050</td>\n",
       "      <td>3.813333</td>\n",
       "      <td>10.28</td>\n",
       "      <td>2.15</td>\n",
       "      <td>579.88</td>\n",
       "      <td>38.14</td>\n",
       "      <td>1.35</td>\n",
       "      <td>0.0</td>\n",
       "      <td>6.653333</td>\n",
       "      <td>...</td>\n",
       "      <td>0.00</td>\n",
       "      <td>-32.442342</td>\n",
       "      <td>7622.824664</td>\n",
       "      <td>68727.644036</td>\n",
       "      <td>180571.724245</td>\n",
       "      <td>3.166667</td>\n",
       "      <td>3.5</td>\n",
       "      <td>380.052114</td>\n",
       "      <td>91</td>\n",
       "      <td>4</td>\n",
       "    </tr>\n",
       "  </tbody>\n",
       "</table>\n",
       "<p>5 rows × 27 columns</p>\n",
       "</div>"
      ],
      "text/plain": [
       "          adult_anemia_2016  adult_blood_pressure_2015  adult_sodium_2017  \\\n",
       "country                                                                     \n",
       "S. Korea          23.700000                     10.980           5.203333   \n",
       "Japan             25.600000                     17.550           5.766667   \n",
       "Italy             19.666667                     21.170           4.050000   \n",
       "Germany           18.566667                     19.875           3.810000   \n",
       "France            20.333333                     22.050           3.813333   \n",
       "\n",
       "          basic_sanitation_2017  basic_water_2017  \\\n",
       "country                                             \n",
       "S. Korea                   0.10              1.57   \n",
       "Japan                      1.13              0.56   \n",
       "Italy                      2.56              4.40   \n",
       "Germany                    1.99              0.20   \n",
       "France                    10.28              2.15   \n",
       "\n",
       "          fruit_veg_availability_2013  government_revenue_2020  \\\n",
       "country                                                          \n",
       "S. Korea                       747.25                    38.14   \n",
       "Japan                          425.05                    38.14   \n",
       "Italy                          736.07                    38.14   \n",
       "Germany                        496.91                    38.14   \n",
       "France                         579.88                    38.14   \n",
       "\n",
       "          limited_sanitation_2017  limited_water_2017  \\\n",
       "country                                                 \n",
       "S. Korea                     0.00                 0.0   \n",
       "Japan                        0.00                 0.0   \n",
       "Italy                        0.10                 0.0   \n",
       "Germany                      0.77                 0.0   \n",
       "France                       1.35                 0.0   \n",
       "\n",
       "          nurses_and_midwives_2016  ...  unimproved_water_2017  \\\n",
       "country                             ...                          \n",
       "S. Korea                  6.900000  ...                   0.21   \n",
       "Japan                     6.310000  ...                   0.99   \n",
       "Italy                     5.720000  ...                   0.56   \n",
       "Germany                   6.186667  ...                   0.00   \n",
       "France                    6.653333  ...                   0.00   \n",
       "\n",
       "          workplaces_percent_change_from_baseline  parkinson_disease_deaths  \\\n",
       "country                                                                       \n",
       "S. Korea                                -6.486413               3224.604757   \n",
       "Japan                                  -13.006793              15161.514382   \n",
       "Italy                                  -32.841150               7608.794566   \n",
       "Germany                                -21.465793              12619.472416   \n",
       "France                                 -32.442342               7622.824664   \n",
       "\n",
       "          dementia_deaths  cancers_deaths  economic_rating  \\\n",
       "country                                                      \n",
       "S. Korea     29798.685258    89670.950054         3.166667   \n",
       "Japan       190560.882432   408392.273177         3.166667   \n",
       "Italy        72574.526515   182277.862996         3.166667   \n",
       "Germany      83603.200360   250892.527601         3.166667   \n",
       "France       68727.644036   180571.724245         3.166667   \n",
       "\n",
       "          macroeconomic_rating  cases_per_cap  day_number  week_cat  \n",
       "country                                                              \n",
       "S. Korea                   3.5      35.620943          82         3  \n",
       "Japan                      3.5      49.931240          84         4  \n",
       "Italy                      3.5     432.064137          86         4  \n",
       "Germany                    3.5     283.413813          91         4  \n",
       "France                     3.5     380.052114          91         4  \n",
       "\n",
       "[5 rows x 27 columns]"
      ]
     },
     "execution_count": 19,
     "metadata": {},
     "output_type": "execute_result"
    }
   ],
   "source": [
    "df.head()"
   ]
  },
  {
   "cell_type": "code",
   "execution_count": 20,
   "metadata": {},
   "outputs": [],
   "source": [
    "#reset the index to get countries out of the way.  \n",
    "#df = df.set_index('country')\n",
    "X_cols = list(df.columns.drop(['day_number', 'week_cat']))\n",
    "y_cols = list('day_number')\n",
    "y1_cols = list('week_cat')"
   ]
  },
  {
   "cell_type": "code",
   "execution_count": 43,
   "metadata": {},
   "outputs": [],
   "source": [
    "# remove target variable column from the dataframe, so only the predictor variables remain\n",
    "X = df.drop(['day_number', 'week_cat'], axis = 1)\n",
    "y = df.day_number\n",
    "y1 = df.week_cat"
   ]
  },
  {
   "cell_type": "code",
   "execution_count": 44,
   "metadata": {},
   "outputs": [
    {
     "data": {
      "text/plain": [
       "(LinearRegression(), LogisticRegression(random_state=0))"
      ]
     },
     "execution_count": 44,
     "metadata": {},
     "output_type": "execute_result"
    }
   ],
   "source": [
    "#split into test/train sets\n",
    "X_train, X_test, y_train, y_test = train_test_split(X, y, test_size=0.2, random_state = 0)\n",
    "X_train1, X_test1, y_train1, y_test1 = train_test_split(X, y1, test_size=0.2, random_state = 0)\n",
    "\n",
    "# attempt modeling without scaling\n",
    "#initialize the model for continuous y\n",
    "model1 = LinearRegression()\n",
    "\n",
    "# initialize the model for discrete y1\n",
    "model2 = LogisticRegression(random_state = 0)\n",
    "\n",
    "model1, model2"
   ]
  },
  {
   "cell_type": "markdown",
   "metadata": {},
   "source": [
    "Above, we prepared our data, split the data, and initialized the two regression methods we will use.  The Linear regression will be used in predicting day_number which is continuous and the Logistic regression will be used in predicting week_cat which is a discrete set of categores created from the day number.  "
   ]
  },
  {
   "cell_type": "markdown",
   "metadata": {},
   "source": [
    "### 4.6.2 Fit Model<a id='4.6.2_Fit_Model'></a>"
   ]
  },
  {
   "cell_type": "code",
   "execution_count": 45,
   "metadata": {},
   "outputs": [
    {
     "name": "stderr",
     "output_type": "stream",
     "text": [
      "C:\\Users\\Hailey\\anaconda3\\lib\\site-packages\\sklearn\\linear_model\\_logistic.py:764: ConvergenceWarning: lbfgs failed to converge (status=1):\n",
      "STOP: TOTAL NO. of ITERATIONS REACHED LIMIT.\n",
      "\n",
      "Increase the number of iterations (max_iter) or scale the data as shown in:\n",
      "    https://scikit-learn.org/stable/modules/preprocessing.html\n",
      "Please also refer to the documentation for alternative solver options:\n",
      "    https://scikit-learn.org/stable/modules/linear_model.html#logistic-regression\n",
      "  extra_warning_msg=_LOGISTIC_SOLVER_CONVERGENCE_MSG)\n"
     ]
    },
    {
     "data": {
      "text/plain": [
       "LogisticRegression(random_state=0)"
      ]
     },
     "execution_count": 45,
     "metadata": {},
     "output_type": "execute_result"
    }
   ],
   "source": [
    "# fit linear model\n",
    "#unscaled\n",
    "#linR = \n",
    "model1.fit(X_train, y_train)\n",
    "#logR = \n",
    "model2.fit(X_train1, y_train1)\n"
   ]
  },
  {
   "cell_type": "code",
   "execution_count": 46,
   "metadata": {},
   "outputs": [
    {
     "name": "stdout",
     "output_type": "stream",
     "text": [
      "Estimated intercept coefficient for linear regression: 254.44649986346553\n",
      "Number of coefficients for linear regression: 25\n",
      "Estimated intercept coefficient for logistic regression: [-4.83137857e-06 -2.47336828e-06  3.57492416e-06  2.78196533e-06\n",
      " -1.20299088e-07  8.03213020e-07  2.64943440e-07]\n",
      "Number of coefficients for logistic regression: 7\n"
     ]
    }
   ],
   "source": [
    "print('Estimated intercept coefficient for linear regression: {}'.format(model1.intercept_))\n",
    "print('Number of coefficients for linear regression: {}'.format(len(model1.coef_)))\n",
    "\n",
    "print('Estimated intercept coefficient for logistic regression: {}'.format(model2.intercept_))\n",
    "print('Number of coefficients for logistic regression: {}'.format(len(model2.coef_)))"
   ]
  },
  {
   "cell_type": "markdown",
   "metadata": {},
   "source": [
    "Above we modeled and fit the unscaled data, now, scale and repeat."
   ]
  },
  {
   "cell_type": "code",
   "execution_count": 47,
   "metadata": {},
   "outputs": [],
   "source": [
    "# the scaled models are not showing any difference, skip this for now.\n",
    "#apply the scaler\n",
    "#X_train = scaler.fit_transform(X_train)\n",
    "#X_test = scaler.transform(X_test)\n",
    "#X_train1 = scaler.fit_transform(X_train)\n",
    "#X_test1 = scaler.transform(X_test)"
   ]
  },
  {
   "cell_type": "code",
   "execution_count": 48,
   "metadata": {},
   "outputs": [],
   "source": [
    "# the scaled models are working the same as the un-scaled models.  \n",
    "#scaled\n",
    "#linR_scaled = model1.fit(X_train, y_train)\n",
    "#logR_scaled = model2.fit(X_train1, y_train1)\n"
   ]
  },
  {
   "cell_type": "markdown",
   "metadata": {},
   "source": [
    "### 4.6.3 Look at Preliminary Model<a id='4.6.3_Look_at_Preliminary_Model'></a>"
   ]
  },
  {
   "cell_type": "code",
   "execution_count": 27,
   "metadata": {
    "scrolled": true
   },
   "outputs": [
    {
     "data": {
      "image/png": "[encoded data removed]",
      "text/plain": [
       "<Figure size 1080x360 with 2 Axes>"
      ]
     },
     "metadata": {
      "needs_background": "light"
     },
     "output_type": "display_data"
    }
   ],
   "source": [
    "# Making subplots\n",
    "fig, (ax1,ax2) = plt.subplots(1,2,figsize=(15,5));\n",
    "\n",
    "# Plotting histograms of all the predicted days\n",
    "ax1.hist(model1.predict(X));\n",
    "\n",
    "# Labelling axis and title\n",
    "ax1.set_xlabel('Predicted Days')\n",
    "ax1.set_ylabel('Frequency')\n",
    "ax1.set_title('Histogram of Predicted Days')\n",
    "\n",
    "# Plotting predicted days vs true days\n",
    "ax2.scatter(x = df.day_number, y = model1.predict(X));\n",
    "\n",
    "# Labelling axis and title\n",
    "ax2.set_ylabel('Predicted Days')\n",
    "ax2.set_xlabel('True Days')\n",
    "ax2.set_title('Predicted Days vs True Days');\n"
   ]
  },
  {
   "cell_type": "code",
   "execution_count": 28,
   "metadata": {},
   "outputs": [
    {
     "data": {
      "image/png": "[encoded data removed]",
      "text/plain": [
       "<Figure size 1080x360 with 2 Axes>"
      ]
     },
     "metadata": {
      "needs_background": "light"
     },
     "output_type": "display_data"
    }
   ],
   "source": [
    "# Making subplots\n",
    "fig, (ax1,ax2) = plt.subplots(1,2,figsize=(15,5));\n",
    "\n",
    "# Plotting histograms of all the predicted days\n",
    "ax1.hist(model2.predict(X));\n",
    "\n",
    "# Labelling axis and title\n",
    "ax1.set_xlabel('Predicted Week')\n",
    "ax1.set_ylabel('Frequency')\n",
    "ax1.set_title('Histogram of Predicted Week')\n",
    "\n",
    "# Plotting predicted days vs true days\n",
    "ax2.scatter(x = df.week_cat, y = model2.predict(X));\n",
    "\n",
    "# Labelling axis and title\n",
    "ax2.set_ylabel('Scaled Predicted Days')\n",
    "ax2.set_xlabel('True Days')\n",
    "ax2.set_title('Scaled Predicted Days vs True Days');"
   ]
  },
  {
   "cell_type": "code",
   "execution_count": 29,
   "metadata": {},
   "outputs": [
    {
     "name": "stdout",
     "output_type": "stream",
     "text": [
      "Accuracy Score:  0.0\n"
     ]
    }
   ],
   "source": [
    "#Find the accuracy from the training data.\n",
    "acc_scr = accuracy_score(model2.predict(X_train), y_train) \n",
    "print('Accuracy Score: ', str(acc_scr))\n",
    "\n",
    "#acc_scr = accuracy_score(logR_scaled.predict(X_train), y_train) \n",
    "#print('Accuracy Score: ', str(acc_scr))"
   ]
  },
  {
   "cell_type": "code",
   "execution_count": 54,
   "metadata": {},
   "outputs": [
    {
     "name": "stdout",
     "output_type": "stream",
     "text": [
      "MAE for LinearRegression(): 9.114619149052118\n",
      "EVS for LinearRegression(): 0.7959342120363262\n",
      "MAE for LogisticRegression(random_state=0): 117.75\n",
      "EVS for LogisticRegression(random_state=0): -3711.879822616408\n"
     ]
    }
   ],
   "source": [
    "from sklearn.metrics import explained_variance_score, mean_absolute_error\n",
    "models = [model1, model2]\n",
    "#models_scaled = [linR_scaled, logR_scaled]\n",
    "\n",
    "for model in models:\n",
    "    print('MAE for {}: {}'.format(model, mean_absolute_error(model.predict(X_train), y_train) ))\n",
    "    print('EVS for {}: {}'.format(model, explained_variance_score(model.predict(X_train), y_train)))\n",
    "    "
   ]
  },
  {
   "cell_type": "markdown",
   "metadata": {},
   "source": [
    "## 4.7 Summary<a id='4.7_Summary'></a>"
   ]
  },
  {
   "cell_type": "markdown",
   "metadata": {},
   "source": [
    "Herein, we preprocessed the data, split the data, and created an initial model.  \n",
    "\n",
    "The initial accuracy score for categorizing day number was very low (only ~34%), but there wasa general trend during visualization of predicted vs true days.  It seems that the predicted days are predicted about 10 days too soon.  There is also a grouping of true days from around 50-60 that are predicted between 10-20 so these are being mis-predicted.  \n",
    "\n",
    "After categorizing days into week categories, we get much better results, including a better trend and accuracy score.\n",
    "\n",
    "Moving forward, we will improve the model to achieve better predictions.  In order to give ourselves a baseline for improvement of prediction, let's look at a dummy classification result.  "
   ]
  },
  {
   "cell_type": "code",
   "execution_count": 39,
   "metadata": {},
   "outputs": [
    {
     "name": "stdout",
     "output_type": "stream",
     "text": [
      "Regression Score:  0.0\n",
      "Classification Score:  0.0743801652892562\n"
     ]
    }
   ],
   "source": [
    "from sklearn.dummy import DummyRegressor, DummyClassifier\n",
    "\n",
    "dummyR = DummyRegressor(strategy = 'mean') \n",
    "dummyC = DummyClassifier(strategy='most_frequent')\n",
    "dummyR.fit(X, y)\n",
    "dummyC.fit(X,y)\n",
    "acc_scr = accuracy_score(dummyC.predict(X), y)\n",
    "print('Regression Score: ', str(dummyR.score(dummy.predict(X), y)))\n",
    "print('Classification Score: ', str(acc_scr))"
   ]
  },
  {
   "cell_type": "markdown",
   "metadata": {},
   "source": [
    "Based on the dummy score for day_number (~1%), we see that this model had a lot of work to do to classify accurately. After categorizing day number into week categories, the dummy score is up to 47%.  There is a good deal that a modeling can improve from here.  Finally, after creating the week category and checking the classifier dummy score, we create a dummy classifier to see what the dummy result would be.  This shows us that the linear regression model is performing already.  \n",
    "\n",
    "After making a first attempt and a linear regresion to find the day number, we see that the binning of the week_cat is terrible.  The only change from our previous model where we had ~91% accuracy in finding the week category is that we have removed the day_number from the predictive variables.  Clearly this set of bins is not good for our model (they were chosen rather arbirarily, so this isn't entirely unexpected!).  \n",
    "\n",
    "Below is the confusion matrix for week_cat to give us more information if we want to continue working with binning.  "
   ]
  },
  {
   "cell_type": "code",
   "execution_count": 155,
   "metadata": {},
   "outputs": [
    {
     "data": {
      "text/plain": [
       "array([[11,  4,  0,  0],\n",
       "       [ 3,  4,  2,  1],\n",
       "       [ 0,  0,  0,  0],\n",
       "       [ 0,  0,  0,  0]], dtype=int64)"
      ]
     },
     "execution_count": 155,
     "metadata": {},
     "output_type": "execute_result"
    }
   ],
   "source": [
    "from sklearn.metrics import confusion_matrix\n",
    "\n",
    "confusion_matrix(model2.predict(X_test1), y_test1)"
   ]
  },
  {
   "cell_type": "markdown",
   "metadata": {},
   "source": [
    "Our initial linear regression model is showing good results with a mean absolute error of 4.7 and an explained variance score of 0.96.  In the next steps, we will work to optimize this model and try out some alternative modeling methods."
   ]
  },
  {
   "cell_type": "code",
   "execution_count": 218,
   "metadata": {},
   "outputs": [
    {
     "data": {
      "text/html": [
       "<div>\n",
       "<style scoped>\n",
       "    .dataframe tbody tr th:only-of-type {\n",
       "        vertical-align: middle;\n",
       "    }\n",
       "\n",
       "    .dataframe tbody tr th {\n",
       "        vertical-align: top;\n",
       "    }\n",
       "\n",
       "    .dataframe thead th {\n",
       "        text-align: right;\n",
       "    }\n",
       "</style>\n",
       "<table border=\"1\" class=\"dataframe\">\n",
       "  <thead>\n",
       "    <tr style=\"text-align: right;\">\n",
       "      <th></th>\n",
       "      <th>adult_anemia_2016</th>\n",
       "      <th>adult_blood_pressure_2015</th>\n",
       "      <th>adult_sodium_2017</th>\n",
       "      <th>basic_sanitation_2017</th>\n",
       "      <th>basic_water_2017</th>\n",
       "      <th>fruit_veg_availability_2013</th>\n",
       "      <th>government_revenue_2020</th>\n",
       "      <th>limited_sanitation_2017</th>\n",
       "      <th>limited_water_2017</th>\n",
       "      <th>nurses_and_midwives_2016</th>\n",
       "      <th>...</th>\n",
       "      <th>workplaces_percent_change_from_baseline</th>\n",
       "      <th>parkinson_disease_deaths</th>\n",
       "      <th>dementia_deaths</th>\n",
       "      <th>cancers_deaths</th>\n",
       "      <th>economic_rating</th>\n",
       "      <th>macroeconomic_rating</th>\n",
       "      <th>cases_per_cap</th>\n",
       "      <th>day_number</th>\n",
       "      <th>week_cat</th>\n",
       "      <th>country</th>\n",
       "    </tr>\n",
       "    <tr>\n",
       "      <th>country</th>\n",
       "      <th></th>\n",
       "      <th></th>\n",
       "      <th></th>\n",
       "      <th></th>\n",
       "      <th></th>\n",
       "      <th></th>\n",
       "      <th></th>\n",
       "      <th></th>\n",
       "      <th></th>\n",
       "      <th></th>\n",
       "      <th></th>\n",
       "      <th></th>\n",
       "      <th></th>\n",
       "      <th></th>\n",
       "      <th></th>\n",
       "      <th></th>\n",
       "      <th></th>\n",
       "      <th></th>\n",
       "      <th></th>\n",
       "      <th></th>\n",
       "      <th></th>\n",
       "    </tr>\n",
       "  </thead>\n",
       "  <tbody>\n",
       "    <tr>\n",
       "      <th>S. Korea</th>\n",
       "      <td>23.700000</td>\n",
       "      <td>10.980</td>\n",
       "      <td>5.203333</td>\n",
       "      <td>0.10</td>\n",
       "      <td>1.57</td>\n",
       "      <td>747.25</td>\n",
       "      <td>38.14</td>\n",
       "      <td>0.00</td>\n",
       "      <td>0.0</td>\n",
       "      <td>6.900000</td>\n",
       "      <td>...</td>\n",
       "      <td>-6.486413</td>\n",
       "      <td>3224.604757</td>\n",
       "      <td>29798.685258</td>\n",
       "      <td>89670.950054</td>\n",
       "      <td>3.166667</td>\n",
       "      <td>3.5</td>\n",
       "      <td>35.620943</td>\n",
       "      <td>82</td>\n",
       "      <td>3</td>\n",
       "      <td>S. Korea</td>\n",
       "    </tr>\n",
       "    <tr>\n",
       "      <th>Japan</th>\n",
       "      <td>25.600000</td>\n",
       "      <td>17.550</td>\n",
       "      <td>5.766667</td>\n",
       "      <td>1.13</td>\n",
       "      <td>0.56</td>\n",
       "      <td>425.05</td>\n",
       "      <td>38.14</td>\n",
       "      <td>0.00</td>\n",
       "      <td>0.0</td>\n",
       "      <td>6.310000</td>\n",
       "      <td>...</td>\n",
       "      <td>-13.006793</td>\n",
       "      <td>15161.514382</td>\n",
       "      <td>190560.882432</td>\n",
       "      <td>408392.273177</td>\n",
       "      <td>3.166667</td>\n",
       "      <td>3.5</td>\n",
       "      <td>49.931240</td>\n",
       "      <td>84</td>\n",
       "      <td>4</td>\n",
       "      <td>Japan</td>\n",
       "    </tr>\n",
       "    <tr>\n",
       "      <th>Italy</th>\n",
       "      <td>19.666667</td>\n",
       "      <td>21.170</td>\n",
       "      <td>4.050000</td>\n",
       "      <td>2.56</td>\n",
       "      <td>4.40</td>\n",
       "      <td>736.07</td>\n",
       "      <td>38.14</td>\n",
       "      <td>0.10</td>\n",
       "      <td>0.0</td>\n",
       "      <td>5.720000</td>\n",
       "      <td>...</td>\n",
       "      <td>-32.841150</td>\n",
       "      <td>7608.794566</td>\n",
       "      <td>72574.526515</td>\n",
       "      <td>182277.862996</td>\n",
       "      <td>3.166667</td>\n",
       "      <td>3.5</td>\n",
       "      <td>432.064137</td>\n",
       "      <td>86</td>\n",
       "      <td>4</td>\n",
       "      <td>Italy</td>\n",
       "    </tr>\n",
       "    <tr>\n",
       "      <th>Germany</th>\n",
       "      <td>18.566667</td>\n",
       "      <td>19.875</td>\n",
       "      <td>3.810000</td>\n",
       "      <td>1.99</td>\n",
       "      <td>0.20</td>\n",
       "      <td>496.91</td>\n",
       "      <td>38.14</td>\n",
       "      <td>0.77</td>\n",
       "      <td>0.0</td>\n",
       "      <td>6.186667</td>\n",
       "      <td>...</td>\n",
       "      <td>-21.465793</td>\n",
       "      <td>12619.472416</td>\n",
       "      <td>83603.200360</td>\n",
       "      <td>250892.527601</td>\n",
       "      <td>3.166667</td>\n",
       "      <td>3.5</td>\n",
       "      <td>283.413813</td>\n",
       "      <td>91</td>\n",
       "      <td>4</td>\n",
       "      <td>Germany</td>\n",
       "    </tr>\n",
       "    <tr>\n",
       "      <th>France</th>\n",
       "      <td>20.333333</td>\n",
       "      <td>22.050</td>\n",
       "      <td>3.813333</td>\n",
       "      <td>10.28</td>\n",
       "      <td>2.15</td>\n",
       "      <td>579.88</td>\n",
       "      <td>38.14</td>\n",
       "      <td>1.35</td>\n",
       "      <td>0.0</td>\n",
       "      <td>6.653333</td>\n",
       "      <td>...</td>\n",
       "      <td>-32.442342</td>\n",
       "      <td>7622.824664</td>\n",
       "      <td>68727.644036</td>\n",
       "      <td>180571.724245</td>\n",
       "      <td>3.166667</td>\n",
       "      <td>3.5</td>\n",
       "      <td>380.052114</td>\n",
       "      <td>91</td>\n",
       "      <td>4</td>\n",
       "      <td>France</td>\n",
       "    </tr>\n",
       "  </tbody>\n",
       "</table>\n",
       "<p>5 rows × 28 columns</p>\n",
       "</div>"
      ],
      "text/plain": [
       "          adult_anemia_2016  adult_blood_pressure_2015  adult_sodium_2017  \\\n",
       "country                                                                     \n",
       "S. Korea          23.700000                     10.980           5.203333   \n",
       "Japan             25.600000                     17.550           5.766667   \n",
       "Italy             19.666667                     21.170           4.050000   \n",
       "Germany           18.566667                     19.875           3.810000   \n",
       "France            20.333333                     22.050           3.813333   \n",
       "\n",
       "          basic_sanitation_2017  basic_water_2017  \\\n",
       "country                                             \n",
       "S. Korea                   0.10              1.57   \n",
       "Japan                      1.13              0.56   \n",
       "Italy                      2.56              4.40   \n",
       "Germany                    1.99              0.20   \n",
       "France                    10.28              2.15   \n",
       "\n",
       "          fruit_veg_availability_2013  government_revenue_2020  \\\n",
       "country                                                          \n",
       "S. Korea                       747.25                    38.14   \n",
       "Japan                          425.05                    38.14   \n",
       "Italy                          736.07                    38.14   \n",
       "Germany                        496.91                    38.14   \n",
       "France                         579.88                    38.14   \n",
       "\n",
       "          limited_sanitation_2017  limited_water_2017  \\\n",
       "country                                                 \n",
       "S. Korea                     0.00                 0.0   \n",
       "Japan                        0.00                 0.0   \n",
       "Italy                        0.10                 0.0   \n",
       "Germany                      0.77                 0.0   \n",
       "France                       1.35                 0.0   \n",
       "\n",
       "          nurses_and_midwives_2016  ...  \\\n",
       "country                             ...   \n",
       "S. Korea                  6.900000  ...   \n",
       "Japan                     6.310000  ...   \n",
       "Italy                     5.720000  ...   \n",
       "Germany                   6.186667  ...   \n",
       "France                    6.653333  ...   \n",
       "\n",
       "          workplaces_percent_change_from_baseline  parkinson_disease_deaths  \\\n",
       "country                                                                       \n",
       "S. Korea                                -6.486413               3224.604757   \n",
       "Japan                                  -13.006793              15161.514382   \n",
       "Italy                                  -32.841150               7608.794566   \n",
       "Germany                                -21.465793              12619.472416   \n",
       "France                                 -32.442342               7622.824664   \n",
       "\n",
       "          dementia_deaths  cancers_deaths  economic_rating  \\\n",
       "country                                                      \n",
       "S. Korea     29798.685258    89670.950054         3.166667   \n",
       "Japan       190560.882432   408392.273177         3.166667   \n",
       "Italy        72574.526515   182277.862996         3.166667   \n",
       "Germany      83603.200360   250892.527601         3.166667   \n",
       "France       68727.644036   180571.724245         3.166667   \n",
       "\n",
       "          macroeconomic_rating  cases_per_cap  day_number  week_cat   country  \n",
       "country                                                                        \n",
       "S. Korea                   3.5      35.620943          82         3  S. Korea  \n",
       "Japan                      3.5      49.931240          84         4     Japan  \n",
       "Italy                      3.5     432.064137          86         4     Italy  \n",
       "Germany                    3.5     283.413813          91         4   Germany  \n",
       "France                     3.5     380.052114          91         4    France  \n",
       "\n",
       "[5 rows x 28 columns]"
      ]
     },
     "execution_count": 218,
     "metadata": {},
     "output_type": "execute_result"
    }
   ],
   "source": [
    "# save the DataFrame\n",
    "df['country'] = df.index\n",
    "df.head()"
   ]
  },
  {
   "cell_type": "code",
   "execution_count": 10,
   "metadata": {},
   "outputs": [],
   "source": [
    "datapath = '/Users/Hailey/Documents/GitHub/SBwork/Capstone2/Data'\n",
    "\n",
    "datapath_csv = os.path.join(datapath, 'data_Processing.csv')\n",
    "#if not os.path.exists(datapath_csv):\n",
    "df.to_csv(datapath_csv, index = False)"
   ]
  },
  {
   "cell_type": "code",
   "execution_count": null,
   "metadata": {},
   "outputs": [],
   "source": []
  }
 ],
 "metadata": {
  "kernelspec": {
   "display_name": "Python 3",
   "language": "python",
   "name": "python3"
  },
  "language_info": {
   "codemirror_mode": {
    "name": "ipython",
    "version": 3
   },
   "file_extension": ".py",
   "mimetype": "text/x-python",
   "name": "python",
   "nbconvert_exporter": "python",
   "pygments_lexer": "ipython3",
   "version": "3.8.3"
  }
 },
 "nbformat": 4,
 "nbformat_minor": 4
}
