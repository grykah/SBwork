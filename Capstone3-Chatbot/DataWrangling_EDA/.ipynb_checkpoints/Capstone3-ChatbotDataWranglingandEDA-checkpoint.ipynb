{
 "cells": [
  {
   "cell_type": "markdown",
   "metadata": {},
   "source": [
    "\n",
    "# Chatbot Data Wrangling and Exploratory Data Analysis (EDA)\n"
   ]
  },
  {
   "cell_type": "markdown",
   "metadata": {},
   "source": [
    "The intention of this project is to create a chatbot that will respond to my incoming hangouts messages.  In order to accomplish this, the bot will need some initial data to train on.  I will utilize past hangouts conversations as well as a more general question and answer dataset from kaggle. "
   ]
  },
  {
   "cell_type": "markdown",
   "metadata": {},
   "source": [
    "### Table of Contents\n",
    "\n",
    "1. Data Wrangling \n",
    "- import packages\n",
    "- load, view kaggle data, and add hangouts data\n",
    "\n",
    "2. Exploratory Data Analysis (EDA)\n",
    "- decision tree classifier\n",
    "- chatbot functionality\n",
    "\n",
    "3. Summary\n",
    "- findings\n",
    "- save dataset\n",
    "- notebook details"
   ]
  },
  {
   "cell_type": "markdown",
   "metadata": {},
   "source": [
    "### Data Wrangling\n",
    "#### Import Packages"
   ]
  },
  {
   "cell_type": "code",
   "execution_count": 1,
   "metadata": {},
   "outputs": [
    {
     "name": "stdout",
     "output_type": "stream",
     "text": [
      "C:\\Users\\Hailey\\Documents\\GitHub\\SBwork\\Capstone3-Chatbot\n"
     ]
    }
   ],
   "source": [
    "import numpy as np\n",
    "import pandas as pd\n",
    "\n",
    "import os\n",
    "import sys\n",
    "\n",
    "import string\n",
    "from nltk.corpus import stopwords\n",
    "from sklearn.feature_extraction.text import CountVectorizer\n",
    "from sklearn.tree import DecisionTreeClassifier\n",
    "from sklearn.feature_extraction.text import TfidfTransformer,TfidfVectorizer\n",
    "from sklearn.pipeline import Pipeline\n",
    "\n",
    "from sklearn.model_selection import train_test_split\n",
    "\n",
    "# use os to get path\n",
    "PROJ_ROOT = os.path.join(os.pardir)\n",
    "print(os.path.abspath(PROJ_ROOT))"
   ]
  },
  {
   "cell_type": "markdown",
   "metadata": {},
   "source": [
    "#### Load,  View Kaggle Data, and Add Hangouts Data\n",
    "The data for this project is my google hangouts history (accessed using the instructions below) with the addition of extra data from a [kaggle](https://www.kaggle.com/grafstor/simple-dialogs-for-chatbot) dataset.  To access my chat history, I enabled the chats label (within gmail) by going to settings > labels > click show next to chats.  Then I was able to navigate to the chats label and a list of chat history was available.  "
   ]
  },
  {
   "cell_type": "code",
   "execution_count": 2,
   "metadata": {},
   "outputs": [
    {
     "data": {
      "text/html": [
       "<div>\n",
       "<style scoped>\n",
       "    .dataframe tbody tr th:only-of-type {\n",
       "        vertical-align: middle;\n",
       "    }\n",
       "\n",
       "    .dataframe tbody tr th {\n",
       "        vertical-align: top;\n",
       "    }\n",
       "\n",
       "    .dataframe thead th {\n",
       "        text-align: right;\n",
       "    }\n",
       "</style>\n",
       "<table border=\"1\" class=\"dataframe\">\n",
       "  <thead>\n",
       "    <tr style=\"text-align: right;\">\n",
       "      <th></th>\n",
       "      <th>SenderText</th>\n",
       "      <th>BotText</th>\n",
       "    </tr>\n",
       "  </thead>\n",
       "  <tbody>\n",
       "    <tr>\n",
       "      <th>0</th>\n",
       "      <td>hi, how are you doing?</td>\n",
       "      <td>i'm fine. how about yourself?</td>\n",
       "    </tr>\n",
       "    <tr>\n",
       "      <th>1</th>\n",
       "      <td>i'm fine. how about yourself?</td>\n",
       "      <td>i'm pretty good. thanks for asking.</td>\n",
       "    </tr>\n",
       "    <tr>\n",
       "      <th>2</th>\n",
       "      <td>i'm pretty good. thanks for asking.</td>\n",
       "      <td>no problem. so how have you been?</td>\n",
       "    </tr>\n",
       "  </tbody>\n",
       "</table>\n",
       "</div>"
      ],
      "text/plain": [
       "                            SenderText                              BotText\n",
       "0               hi, how are you doing?        i'm fine. how about yourself?\n",
       "1        i'm fine. how about yourself?  i'm pretty good. thanks for asking.\n",
       "2  i'm pretty good. thanks for asking.    no problem. so how have you been?"
      ]
     },
     "execution_count": 2,
     "metadata": {},
     "output_type": "execute_result"
    }
   ],
   "source": [
    "# load and view kaggle data\n",
    "data_path = os.path.join(PROJ_ROOT,'Data', 'kaggle-dialogs-original.txt')\n",
    "\n",
    "data = pd.read_csv(data_path, sep='\\t', header=None)\n",
    "data.columns = ['SenderText', 'BotText']\n",
    "df = pd.DataFrame(data)\n",
    "df.head(3)"
   ]
  },
  {
   "cell_type": "code",
   "execution_count": 29,
   "metadata": {
    "code_folding": []
   },
   "outputs": [],
   "source": [
    "# create dict of my convos\n",
    "\n",
    "st = [\"hi\",\n",
    "      \"Can the dogs come?\",\n",
    "      \"meow\",\n",
    "      \"mrow\",\n",
    "      \"Bring the pups too\",\n",
    "      \"Bring all the doggos\",\n",
    "      \n",
    "      \"Bring Echo!\",\n",
    "      \"We would love to host you whenever you come down here!\",\n",
    "      \"Heard you guys are buying a condo!  Congrats!\",\n",
    "      \"hold please\",\n",
    "      #\"https://www.youtube.com\",\n",
    "      \"they better send mah money\",\n",
    "      \n",
    "      \"https://www.zillow.com\",\n",
    "      \"Have you heard from her?\",\n",
    "      \"I drank almost all of my tea\",\n",
    "      \"just out of curiosity, what's going on with that?\",\n",
    "      \"hiya\",\n",
    "      \"What do you want for dinner?\",\n",
    "      \n",
    "      \"What's for dinner?\",\n",
    "      \"Hope you are having a wonderful day!\",\n",
    "      \"frustrated...\",\n",
    "      \"You're hard to get ahold of!\",\n",
    "      \"Good morning\",\n",
    "      \"Sleep tight\",\n",
    "      \n",
    "      \"mlem\",\n",
    "      \"mlem\",\n",
    "      \"does this sound okay?\",\n",
    "      \"does this sound good enough?\",\n",
    "      \"Did the mail come?\",\n",
    "      \"I just got a notice from\",\n",
    "      \n",
    "      \"I just did that\",\n",
    "      \"my DL is being sent to that address\",\n",
    "      \"if USPS isn't doing mail forwarding, I wont get it\",\n",
    "      \"How are you doing today?\",\n",
    "      \"How are you doing?\",\n",
    "      \"will edit and translate\",\n",
    "      \n",
    "      \"Can you translate this?\",\n",
    "      \"the dog kinda looks over that.. haha\",\n",
    "      \"Foxy caught a rat\",\n",
    "      \"How are the doggos?\",\n",
    "      \"send pics\",\n",
    "      \"What did they think?\",\n",
    "      \n",
    "      \"I miss the doggos\",\n",
    "      \"wow!\",\n",
    "      \"Those ears though!\",\n",
    "      \"so cute\",\n",
    "      \"how's my wifey doing?\",\n",
    "      \"how is my wifey?\",\n",
    "      \n",
    "      \"How are you?\",\n",
    "      \"I'm feeling unmotivated\",\n",
    "      \"aww, yay\",\n",
    "      \"not feeling motivated\",\n",
    "      \"I'm not feeling motivated.\",\n",
    "      \"sitting here staring off into nothing\",\n",
    "      \n",
    "      \"it is through the allsate guy\",\n",
    "      \"I spoke to the insurance\",\n",
    "      \"the insurance is all set up\",\n",
    "      \"is that done yet?\"\n",
    "     ]\n",
    "\n",
    "bt = [\"hiya\", \n",
    "      \"Of course!  If they wont be trouble for you, I will absolutely bring them!\",\n",
    "      \"mrow\",\n",
    "      \"meow\",\n",
    "      \"They will love the trip\",\n",
    "      \"They would love to come\",\n",
    "      \n",
    "      \"She misses you!\",\n",
    "      \"So looking forward to it!\",\n",
    "      \"thank you!\",\n",
    "      \"will do\",\n",
    "      #\"can't watch the video rn\"\n",
    "      \"lolol\",\n",
    "      \n",
    "      \"what's your favorite part of that place?\",\n",
    "      \"Sent a text.\",\n",
    "      \"do you need some more?\",\n",
    "      \"well, let's discuss later in a call.\",\n",
    "      \"hi\",\n",
    "      \"How about Thai?\",\n",
    "      \n",
    "      \"Something yummy\",\n",
    "      \"Awh, thanks!  I hope your day is going well too!\",\n",
    "      \"what's up? can I help?\",\n",
    "      \"so sorry... super busy day :/\",\n",
    "      \"hiya! how are you today?\",\n",
    "      \"I'll only let the Foxy lox bite ;) haha\",\n",
    "      \n",
    "      \"that kinda day, huh?\",\n",
    "      \"thanks for the mlems\",\n",
    "      \"yeh, sounds great\",\n",
    "      \"yeh, you're a great writer, be you!\",\n",
    "      \"Lemme go check...\",\n",
    "      \"ooo, what about?\",\n",
    "      \n",
    "      \"you're a rockstar\",\n",
    "      \"ohhh, hmmm\",\n",
    "      \"yeh, I mean, it is all set up, but iunno\",\n",
    "      \"iunno... ok I guess, you?\",\n",
    "      \"I'm good, you?\",\n",
    "      \"Thanks, you are brilliant.\",\n",
    "      \n",
    "      \"I can try.  Will you proof it for me?\",\n",
    "      \"mwahahahaha\",\n",
    "      \"oh man, lil hunter!\",\n",
    "      \"Cute lil buggers\",\n",
    "      \"will do!\",\n",
    "      \"I think they liked it\",\n",
    "      \n",
    "      \"They miss you too!\",\n",
    "      \"indeed\",\n",
    "      \"cuteness\",\n",
    "      \":D\",\n",
    "      \"she's happy that she is your wifey!\",\n",
    "      \"She loves you <3\",\n",
    "      \n",
    "      \"procrastinating\",\n",
    "      \"I feel ya.  Can I help?\",\n",
    "      \":D\",\n",
    "      \"I feel that\",\n",
    "      \"try to knock something simple off your list!\",\n",
    "      \"You got this!  One step at a time.  Happy to help if I can.\",\n",
    "      \n",
    "      \"tytyty\",\n",
    "      \"thank you so much for handling that!\",\n",
    "      \"thanks for soing that.  I really appreciate it.\",\n",
    "      \"it will be today.\"\n",
    "     ]\n",
    "\n",
    "if len(st) == len(bt):\n",
    "    hangouts_responses = {}\n",
    "    hangouts_responses[\"SenderText\"] = st\n",
    "    hangouts_responses[\"BotText\"] = bt\n",
    "    hangouts_responses = pd.DataFrame(data = hangouts_responses, dtype=str, columns = ['SenderText', 'BotText'])    \n",
    "else: \n",
    "    print(\"The length of st is \" + str(len(st)) + \" but the length of bt is \" + str(len(bt)))\n",
    "\n",
    "#hangouts_responses"
   ]
  },
  {
   "cell_type": "code",
   "execution_count": 36,
   "metadata": {},
   "outputs": [
    {
     "data": {
      "text/html": [
       "<div>\n",
       "<style scoped>\n",
       "    .dataframe tbody tr th:only-of-type {\n",
       "        vertical-align: middle;\n",
       "    }\n",
       "\n",
       "    .dataframe tbody tr th {\n",
       "        vertical-align: top;\n",
       "    }\n",
       "\n",
       "    .dataframe thead th {\n",
       "        text-align: right;\n",
       "    }\n",
       "</style>\n",
       "<table border=\"1\" class=\"dataframe\">\n",
       "  <thead>\n",
       "    <tr style=\"text-align: right;\">\n",
       "      <th></th>\n",
       "      <th>index</th>\n",
       "      <th>SenderText</th>\n",
       "      <th>BotText</th>\n",
       "    </tr>\n",
       "  </thead>\n",
       "  <tbody>\n",
       "    <tr>\n",
       "      <th>3777</th>\n",
       "      <td>52</td>\n",
       "      <td>sitting here staring off into nothing</td>\n",
       "      <td>You got this!  One step at a time.  Happy to h...</td>\n",
       "    </tr>\n",
       "    <tr>\n",
       "      <th>3778</th>\n",
       "      <td>53</td>\n",
       "      <td>it is through the allsate guy</td>\n",
       "      <td>tytyty</td>\n",
       "    </tr>\n",
       "    <tr>\n",
       "      <th>3779</th>\n",
       "      <td>54</td>\n",
       "      <td>I spoke to the insurance</td>\n",
       "      <td>thank you so much for handling that!</td>\n",
       "    </tr>\n",
       "    <tr>\n",
       "      <th>3780</th>\n",
       "      <td>55</td>\n",
       "      <td>the insurance is all set up</td>\n",
       "      <td>thanks for soing that.  I really appreciate it.</td>\n",
       "    </tr>\n",
       "    <tr>\n",
       "      <th>3781</th>\n",
       "      <td>56</td>\n",
       "      <td>is that done yet?</td>\n",
       "      <td>it will be today.</td>\n",
       "    </tr>\n",
       "  </tbody>\n",
       "</table>\n",
       "</div>"
      ],
      "text/plain": [
       "      index                             SenderText  \\\n",
       "3777     52  sitting here staring off into nothing   \n",
       "3778     53          it is through the allsate guy   \n",
       "3779     54               I spoke to the insurance   \n",
       "3780     55            the insurance is all set up   \n",
       "3781     56                      is that done yet?   \n",
       "\n",
       "                                                BotText  \n",
       "3777  You got this!  One step at a time.  Happy to h...  \n",
       "3778                                             tytyty  \n",
       "3779               thank you so much for handling that!  \n",
       "3780    thanks for soing that.  I really appreciate it.  \n",
       "3781                                  it will be today.  "
      ]
     },
     "execution_count": 36,
     "metadata": {},
     "output_type": "execute_result"
    }
   ],
   "source": [
    "# add my convos to the previous data\n",
    "\n",
    "df_all_resp = pd.concat([df, hangouts_responses], axis =0).reset_index()\n",
    "df_all_resp.tail() #ensure the data was added"
   ]
  },
  {
   "cell_type": "code",
   "execution_count": 38,
   "metadata": {},
   "outputs": [
    {
     "data": {
      "text/plain": [
       "True"
      ]
     },
     "execution_count": 38,
     "metadata": {},
     "output_type": "execute_result"
    }
   ],
   "source": [
    "# make sure ALL the data was added to the df.  \n",
    "len(df.index) + len(hangouts_responses) == len(df_all_resp)"
   ]
  },
  {
   "cell_type": "markdown",
   "metadata": {},
   "source": [
    "### Exploratory Data Analysis (EDA)"
   ]
  },
  {
   "cell_type": "markdown",
   "metadata": {},
   "source": [
    "#### Decision Tree Classifier"
   ]
  },
  {
   "cell_type": "code",
   "execution_count": 39,
   "metadata": {},
   "outputs": [],
   "source": [
    "# define a specialized function for the CountVectorizer analyzer\n",
    "def text_cleaner(x):\n",
    "    return [a for a in (''.join([a for a in x if a not in string.punctuation])).lower().split()]"
   ]
  },
  {
   "cell_type": "code",
   "execution_count": 40,
   "metadata": {},
   "outputs": [],
   "source": [
    "# make a pipeline for classification\n",
    "pipe = Pipeline([\n",
    "    ('bow',CountVectorizer(analyzer=text_cleaner)),\n",
    "    ('tfidf',TfidfTransformer()),\n",
    "    ('classifier',DecisionTreeClassifier())\n",
    "])"
   ]
  },
  {
   "cell_type": "code",
   "execution_count": 41,
   "metadata": {},
   "outputs": [
    {
     "data": {
      "text/plain": [
       "Pipeline(steps=[('bow',\n",
       "                 CountVectorizer(analyzer=<function text_cleaner at 0x00000056618E8F78>)),\n",
       "                ('tfidf', TfidfTransformer()),\n",
       "                ('classifier', DecisionTreeClassifier())])"
      ]
     },
     "execution_count": 41,
     "metadata": {},
     "output_type": "execute_result"
    }
   ],
   "source": [
    "pipe.fit(df.SenderText, df.BotText)"
   ]
  },
  {
   "cell_type": "markdown",
   "metadata": {},
   "source": [
    "#### Chatbot Functionality\n",
    "\n",
    "Let's take a look at the responses the bot gives us after training on the examples"
   ]
  },
  {
   "cell_type": "code",
   "execution_count": 50,
   "metadata": {},
   "outputs": [
    {
     "name": "stdout",
     "output_type": "stream",
     "text": [
      "i'm fine. how about yourself?\n",
      "what's on tv?\n",
      "they said i need a new hard drive.\n"
     ]
    }
   ],
   "source": [
    "# testing with lines the bot knows\n",
    "\n",
    "print(pipe.predict(['Hi, how are you doing'])[0])\n",
    "print(pipe.predict([\"i'm pretty good.\"])[0])\n",
    "print(pipe.predict(['What did they say?'])[0])"
   ]
  },
  {
   "cell_type": "code",
   "execution_count": 53,
   "metadata": {},
   "outputs": [
    {
     "name": "stdout",
     "output_type": "stream",
     "text": [
      "i don't know. i think i'm average.\n",
      "what's on tv?\n",
      "what happened?\n"
     ]
    }
   ],
   "source": [
    "# testing with lines similar to what the bot knows\n",
    "print(pipe.predict(['Hi, how are you today'])[0]) #single word change\n",
    "print(pipe.predict([\"i'm good.\"])[0]) #single word excluded\n",
    "print(pipe.predict(['hat did they say?'])[0])  #testing a typo"
   ]
  },
  {
   "cell_type": "code",
   "execution_count": 56,
   "metadata": {},
   "outputs": [
    {
     "name": "stdout",
     "output_type": "stream",
     "text": [
      "yes, old people don't smell like fruit.\n",
      "save your money for school.\n",
      "i like to watch people.\n"
     ]
    }
   ],
   "source": [
    "# testing with lines unknown to the bot\n",
    "print(pipe.predict([\"where is the lizard?\"])[0])\n",
    "print(pipe.predict([\"what should we have for lunch?\"])[0])\n",
    "print(pipe.predict([\"what's your favorite food?\"])[0])"
   ]
  },
  {
   "cell_type": "markdown",
   "metadata": {},
   "source": [
    "Above, we can see the bot performs very well on lines it was trained on, so-so on lines similar to what it was trained on, and pretty poorly on lines not like anything it has seen, although these responses are pretty funny!"
   ]
  },
  {
   "cell_type": "markdown",
   "metadata": {},
   "source": [
    "### Summary"
   ]
  },
  {
   "cell_type": "markdown",
   "metadata": {},
   "source": [
    "Herein we prepared our dataset and a classifier for a simple bot to explore the data.  In the future, we will need to improve the pipeline in order to provide better prediction and learning since we saw that the bot only performed okay on lines that were similar to those the bot knew and did not perform well on unknown lines."
   ]
  },
  {
   "cell_type": "markdown",
   "metadata": {},
   "source": [
    "#### Save Dataset"
   ]
  },
  {
   "cell_type": "code",
   "execution_count": 54,
   "metadata": {},
   "outputs": [],
   "source": [
    "data_path_save = os.path.join(PROJ_ROOT,'Data', 'kaggle-dialogs-and-hangouts-dialogs.txt')\n",
    "df.to_csv(data_path_save)"
   ]
  },
  {
   "cell_type": "markdown",
   "metadata": {},
   "source": [
    "#### Notebook details"
   ]
  },
  {
   "cell_type": "code",
   "execution_count": 55,
   "metadata": {},
   "outputs": [
    {
     "name": "stdout",
     "output_type": "stream",
     "text": [
      "H.GRYK 2020-10-23 20:15:21 \n",
      "\n",
      "CPython 3.7.7\n",
      "IPython 7.18.1\n",
      "\n",
      "pandas 1.0.5\n",
      "numpy 1.19.1\n",
      "os unknown\n",
      "sys 3.7.7 (default, May  6 2020, 11:45:54) [MSC v.1916 64 bit (AMD64)]\n",
      "nltk 3.5\n",
      "sklearn 0.23.2\n",
      "tqdm 4.48.2\n"
     ]
    }
   ],
   "source": [
    "# use watermark in a notebook with the following call\n",
    "%load_ext watermark\n",
    "\n",
    "# %watermark? #<-- watermark documentation\n",
    "\n",
    "%watermark -a \"H.GRYK\" -d -t -v -p pandas\n",
    "%watermark -p numpy\n",
    "%watermark -p os\n",
    "%watermark -p sys\n",
    "%watermark -p nltk\n",
    "%watermark -p sklearn\n",
    "%watermark -p tqdm"
   ]
  },
  {
   "cell_type": "code",
   "execution_count": null,
   "metadata": {},
   "outputs": [],
   "source": []
  }
 ],
 "metadata": {
  "kernelspec": {
   "display_name": "Python 3",
   "language": "python",
   "name": "python3"
  },
  "language_info": {
   "codemirror_mode": {
    "name": "ipython",
    "version": 3
   },
   "file_extension": ".py",
   "mimetype": "text/x-python",
   "name": "python",
   "nbconvert_exporter": "python",
   "pygments_lexer": "ipython3",
   "version": "3.7.7"
  }
 },
 "nbformat": 4,
 "nbformat_minor": 4
}
