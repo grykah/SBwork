{
 "cells": [
  {
   "cell_type": "markdown",
   "metadata": {},
   "source": [
    "\n",
    "# Chatbot Data Wrangling and Exploratory Data Analysis (EDA)\n"
   ]
  },
  {
   "cell_type": "markdown",
   "metadata": {},
   "source": [
    "The intention of this project is to create a chatbot that will respond to my incoming hangouts messages.  In order to accomplish this, the bot will need some initial data to train on.  I will utilize past hangouts conversations as well as a more general question and answer dataset from kaggle. "
   ]
  },
  {
   "cell_type": "markdown",
   "metadata": {},
   "source": [
    "### Table of Contents\n",
    "\n",
    "1. Data Wrangling \n",
    "- import packages\n",
    "- load, view kaggle data, and add hangouts data\n",
    "\n",
    "2. Exploratory Data Analysis (EDA)\n",
    "- decision tree classifier\n",
    "- chatbot functionality\n",
    "\n",
    "3. Summary\n",
    "- findings\n",
    "- save dataset\n",
    "- notebook details"
   ]
  },
  {
   "cell_type": "markdown",
   "metadata": {},
   "source": [
    "### Data Wrangling\n",
    "#### Import Packages"
   ]
  },
  {
   "cell_type": "code",
   "execution_count": 156,
   "metadata": {},
   "outputs": [
    {
     "name": "stdout",
     "output_type": "stream",
     "text": [
      "C:\\Users\\Hailey\\Documents\\GitHub\\SBwork\\Capstone3-Chatbot\n"
     ]
    }
   ],
   "source": [
    "import numpy as np\n",
    "import pandas as pd\n",
    "\n",
    "import os\n",
    "import sys\n",
    "\n",
    "import string\n",
    "from nltk.corpus import stopwords\n",
    "from sklearn.feature_extraction.text import CountVectorizer\n",
    "from sklearn.tree import DecisionTreeClassifier\n",
    "from sklearn.feature_extraction.text import TfidfTransformer,TfidfVectorizer\n",
    "from sklearn.pipeline import Pipeline\n",
    "\n",
    "from sklearn.model_selection import train_test_split\n",
    "\n",
    "# use os to get path\n",
    "PROJ_ROOT = os.path.join(os.pardir)\n",
    "print(os.path.abspath(PROJ_ROOT))"
   ]
  },
  {
   "cell_type": "markdown",
   "metadata": {},
   "source": [
    "#### Load,  View Kaggle Data, and Add Hangouts Data\n",
    "The data for this project is my google hangouts history (accessed using the instructions below) with the addition of extra data from a [kaggle](https://www.kaggle.com/grafstor/simple-dialogs-for-chatbot) dataset.  To access my chat history, I enabled the chats label (within gmail) by going to settings > labels > click show next to chats.  Then I was able to navigate to the chats label and a list of chat history was available.  "
   ]
  },
  {
   "cell_type": "code",
   "execution_count": 189,
   "metadata": {},
   "outputs": [
    {
     "data": {
      "text/html": [
       "<div>\n",
       "<style scoped>\n",
       "    .dataframe tbody tr th:only-of-type {\n",
       "        vertical-align: middle;\n",
       "    }\n",
       "\n",
       "    .dataframe tbody tr th {\n",
       "        vertical-align: top;\n",
       "    }\n",
       "\n",
       "    .dataframe thead th {\n",
       "        text-align: right;\n",
       "    }\n",
       "</style>\n",
       "<table border=\"1\" class=\"dataframe\">\n",
       "  <thead>\n",
       "    <tr style=\"text-align: right;\">\n",
       "      <th></th>\n",
       "      <th>SenderText</th>\n",
       "      <th>BotText</th>\n",
       "    </tr>\n",
       "  </thead>\n",
       "  <tbody>\n",
       "    <tr>\n",
       "      <th>0</th>\n",
       "      <td>hi, how are you doing?</td>\n",
       "      <td>i'm fine. how about yourself?</td>\n",
       "    </tr>\n",
       "    <tr>\n",
       "      <th>1</th>\n",
       "      <td>i'm fine. how about yourself?</td>\n",
       "      <td>i'm pretty good. thanks for asking.</td>\n",
       "    </tr>\n",
       "    <tr>\n",
       "      <th>2</th>\n",
       "      <td>i'm pretty good. thanks for asking.</td>\n",
       "      <td>no problem. so how have you been?</td>\n",
       "    </tr>\n",
       "  </tbody>\n",
       "</table>\n",
       "</div>"
      ],
      "text/plain": [
       "                            SenderText                              BotText\n",
       "0               hi, how are you doing?        i'm fine. how about yourself?\n",
       "1        i'm fine. how about yourself?  i'm pretty good. thanks for asking.\n",
       "2  i'm pretty good. thanks for asking.    no problem. so how have you been?"
      ]
     },
     "execution_count": 189,
     "metadata": {},
     "output_type": "execute_result"
    }
   ],
   "source": [
    "# load and view kaggle data\n",
    "data_path = os.path.join(PROJ_ROOT,'Data', 'kaggle-dialogs-original.txt')\n",
    "\n",
    "data = pd.read_csv(data_path, sep='\\t', header=None)\n",
    "data.columns = ['SenderText', 'BotText']\n",
    "df = pd.DataFrame(data)\n",
    "df.head(3)"
   ]
  },
  {
   "cell_type": "code",
   "execution_count": 204,
   "metadata": {},
   "outputs": [
    {
     "data": {
      "text/html": [
       "<div>\n",
       "<style scoped>\n",
       "    .dataframe tbody tr th:only-of-type {\n",
       "        vertical-align: middle;\n",
       "    }\n",
       "\n",
       "    .dataframe tbody tr th {\n",
       "        vertical-align: top;\n",
       "    }\n",
       "\n",
       "    .dataframe thead th {\n",
       "        text-align: right;\n",
       "    }\n",
       "</style>\n",
       "<table border=\"1\" class=\"dataframe\">\n",
       "  <thead>\n",
       "    <tr style=\"text-align: right;\">\n",
       "      <th></th>\n",
       "      <th>SenderText</th>\n",
       "      <th>BotText</th>\n",
       "    </tr>\n",
       "  </thead>\n",
       "  <tbody>\n",
       "    <tr>\n",
       "      <th>0</th>\n",
       "      <td>tesst</td>\n",
       "      <td>kjf</td>\n",
       "    </tr>\n",
       "    <tr>\n",
       "      <th>1</th>\n",
       "      <td>hi</td>\n",
       "      <td>r3r</td>\n",
       "    </tr>\n",
       "    <tr>\n",
       "      <th>2</th>\n",
       "      <td>coo</td>\n",
       "      <td>tip</td>\n",
       "    </tr>\n",
       "  </tbody>\n",
       "</table>\n",
       "</div>"
      ],
      "text/plain": [
       "  SenderText BotText\n",
       "0      tesst     kjf\n",
       "1         hi     r3r\n",
       "2        coo     tip"
      ]
     },
     "execution_count": 204,
     "metadata": {},
     "output_type": "execute_result"
    }
   ],
   "source": [
    "# create dict of my convos\n",
    "new_responses = { 'SenderText':,\n",
    "                 'SenderText': 'hiya', 'BotText':'hi!',\n",
    "                 'SenderText': \"what's for dinner?\", 'BotText': 'something yummy',\n",
    "                 'SenderText':'Hope you are having a wonderful day!', 'BotText':'Thanks! Hope your day is going well too.',\n",
    "                 'SenderText': \"frustrated\", 'BotText': \"what's up, can I help?\",\n",
    "                 'SenderText': \"you're hard to get ahold of!\", 'BotText': \"so sorry... super busy day!\",\n",
    "                 'SenderText': \"Good morning\", 'BotText': \"hiya! how are you today?\",\n",
    "                 'SenderText': \"mlem\", 'BotText': \"that kinda day, huh?\",\n",
    "                 'SenderText': \"mlem\", 'BotText': \"thanks for the mlems\",\n",
    "                 'SenderText': \"does this sound okay?\", 'BotText': \"yeh, that's awesome\",\n",
    "                 'SenderText': \"Does this sound good enough?\", 'BotText': \"yeh, you're a great writer, be you!\",\n",
    "                 'SenderText': \"Did the mail come?\", 'BotText': \"Lemme go check...\",\n",
    "                 'SenderText': \"I just got a notice from\", 'BotText': \"ooo, about what?\",\n",
    "                 'SenderText': \"I just did that\", 'BotText': \"you're a rockstar\",\n",
    "                 'SenderText': \"my DL is being sent to that address\", 'BotText': \"ooohhh, hmmm...\",\n",
    "                 'SenderText': \"if USPS isn't doing mail forwarding, I wont get it\", 'BotText': \"yeh, I mean, it is all set up, but iunno.\",\n",
    "                 'SenderText': \"How are you doing today?\", 'BotText': \"iunno\",\n",
    "                 'SenderText': \"How are you doing?\", 'BotText': \"I'm good, you?\",\n",
    "                 'SenderText': \"will edit and translate\", 'BotText': \"thanks, you are brilliant\",\n",
    "                 'SenderText': \"can you translate this?\", 'BotText': \"I can try, you'll have to proof it for me ;)\",\n",
    "                 'SenderText': \"the dog kinda looks done with this\", 'BotText': \"mwahahahaha\",\n",
    "                 'SenderText': \"Foxy caught a rat\", 'BotText': \"oh man, lil hunter\",\n",
    "                 'SenderText': \"How are the doggos?\", 'BotText': \"Cute lil buggers\",\n",
    "                 'SenderText': \"What did they think?\", 'BotText': \"They liked it\",\n",
    "                 'SenderText': \"I miss the doggos\", 'BotText': \"They miss you too!\",\n",
    "                 'SenderText': \"wow!\", 'BotText': \"indeed\",\n",
    "                 'SenderText': \"Those ears though!\", 'BotText': \"cuteness\",\n",
    "                 'SenderText': \"so cute\", 'BotText': \":D\",\n",
    "                 'SenderText': \"how is my Wifey doing?\", 'BotText': \"she's happy to be your wife!\",\n",
    "                 'SenderText': \"how is my wifey?\", 'BotText': \"she loves you!\",\n",
    "                 'SenderText': \"how are you?\", 'BotText': \"procrastinating\",\n",
    "                 'SenderText': \"I'm feeling unmotivated\", 'BotText': \"I feel ya.  Can I help? \",\n",
    "                 'SenderText': \"aww, yay\", 'BotText': \":D\",\n",
    "                 'SenderText': \"not feeling motivated\", 'BotText': \"I feel that.\",\n",
    "                 'SenderText': \"I'm not feeling motivated\", 'BotText': \"try to knock on thing off your list\",\n",
    "                 'SenderText': \"sitting here staring at my talk\", 'BotText': \"You got this! One step at a time. Happy to help if I can.\",\n",
    "                 'SenderText': \"it is represented by the allstate guy\", 'BotText': \"gotcha. ty.\",\n",
    "                 'SenderText': \"i spoke to the insurance guy\", 'BotText': \"thank you so much for handling that!\",\n",
    "                 'SenderText': \"the insurance is all set up\", 'BotText': \"thanks for doing that. i really appreciate it.\",\n",
    "                 'SenderText': \"is that done yet?\", 'BotText': \"it will be today\",\n",
    "                }\n",
    "\n",
    "\n",
    "\n",
    "hangouts_responses = {'SenderText':['hi', \n",
    "                                    \"Can the dogs come?\",\n",
    "                                    \"meow\",\n",
    "                                    \"mrow\",\n",
    "                                    \"Bring the pups too\",\n",
    "                                    \"Bring all the doggos\",\n",
    "                                    \"Bring Echo!\",\n",
    "                                    \"We would love to host you whenever you come down here!\",\n",
    "                                    \"Heard you guys are buying a condo!  Congrats!\",\n",
    "                                    \"hold please\",\n",
    "                                    \"https://www.youtube.com\",\n",
    "                                    \"https://www.youtube.com\",\n",
    "                                    \"they better send mah money\",\n",
    "                                    \"https://www.zillow.com\",\n",
    "                                    \"Have you heard from her?\", \n",
    "                                    \"I drank almost all of my tea\",\n",
    "                                    \"just out of curiosity, what's going on with that\"\n",
    "                                   ], \n",
    "                     'BotText':['hiya', \n",
    "                               \"Of course!  If they wont be trouble for you, I will absolutely bring them!\",\n",
    "                                \"mrow\",\n",
    "                                \"meow\",\n",
    "                                \"They will love the trip\",\n",
    "                                \"They would love to come\",\n",
    "                                \"She misses you!\",\n",
    "                                \"So looking forward to it!\",\n",
    "                                \"thank you!\",\n",
    "                                \"will do\",\n",
    "                                \"cool, thanks\",\n",
    "                                \"can't watch the video rn\"\n",
    "                                \"lolol\",\n",
    "                                \"what's your favorite part of that place?\",\n",
    "                                \"Sent a text.\",\n",
    "                                \"do you need some more?\",\n",
    "                                \"well, let's discuss later in a call.\"\n",
    "                               ]}\n",
    "\n",
    "hangouts_responses = pd.DataFrame(data = hangouts_responses)\n",
    "hangouts_responses"
   ]
  },
  {
   "cell_type": "code",
   "execution_count": 194,
   "metadata": {},
   "outputs": [
    {
     "data": {
      "text/html": [
       "<div>\n",
       "<style scoped>\n",
       "    .dataframe tbody tr th:only-of-type {\n",
       "        vertical-align: middle;\n",
       "    }\n",
       "\n",
       "    .dataframe tbody tr th {\n",
       "        vertical-align: top;\n",
       "    }\n",
       "\n",
       "    .dataframe thead th {\n",
       "        text-align: right;\n",
       "    }\n",
       "</style>\n",
       "<table border=\"1\" class=\"dataframe\">\n",
       "  <thead>\n",
       "    <tr style=\"text-align: right;\">\n",
       "      <th></th>\n",
       "      <th>SenderText</th>\n",
       "      <th>BotText</th>\n",
       "    </tr>\n",
       "  </thead>\n",
       "  <tbody>\n",
       "    <tr>\n",
       "      <th>0</th>\n",
       "      <td>mrow</td>\n",
       "      <td>meow</td>\n",
       "    </tr>\n",
       "  </tbody>\n",
       "</table>\n",
       "</div>"
      ],
      "text/plain": [
       "  SenderText BotText\n",
       "0       mrow    meow"
      ]
     },
     "execution_count": 194,
     "metadata": {},
     "output_type": "execute_result"
    }
   ],
   "source": [
    "# add my convos to the data\n",
    "#df_all_resp = df.append(new_responses, ignore_index=True)\n",
    "#df_all_resp.tail(5)\n",
    "\n",
    "df_hangouts  = pd.DataFrame([new_responses])\n",
    "df_all_resp = pd.concat([df, df_hangouts], axis =0) .reset_index()\n",
    "df_hangouts.tail()\n",
    "#df_all_resp.tail()"
   ]
  },
  {
   "cell_type": "code",
   "execution_count": 187,
   "metadata": {},
   "outputs": [
    {
     "data": {
      "text/plain": [
       "False"
      ]
     },
     "execution_count": 187,
     "metadata": {},
     "output_type": "execute_result"
    }
   ],
   "source": [
    "len(df.index) + len(sender) == len(df_all_resp)\n"
   ]
  },
  {
   "cell_type": "markdown",
   "metadata": {},
   "source": [
    "### Exploratory Data Analysis (EDA)"
   ]
  },
  {
   "cell_type": "markdown",
   "metadata": {},
   "source": [
    "#### Decision Tree Classifier"
   ]
  },
  {
   "cell_type": "code",
   "execution_count": 145,
   "metadata": {},
   "outputs": [],
   "source": [
    "# define a specialized function for the CountVectorizer analyzer\n",
    "def text_cleaner(x):\n",
    "    return [a for a in (''.join([a for a in x if a not in string.punctuation])).lower().split()]"
   ]
  },
  {
   "cell_type": "code",
   "execution_count": 154,
   "metadata": {},
   "outputs": [],
   "source": [
    "# make a pipeline for classification\n",
    "pipe = Pipeline([\n",
    "    ('bow',CountVectorizer(analyzer=text_cleaner)),\n",
    "    ('tfidf',TfidfTransformer()),\n",
    "    ('classifier',DecisionTreeClassifier())\n",
    "])"
   ]
  },
  {
   "cell_type": "code",
   "execution_count": 155,
   "metadata": {},
   "outputs": [
    {
     "data": {
      "text/plain": [
       "Pipeline(steps=[('bow',\n",
       "                 CountVectorizer(analyzer=<function text_cleaner at 0x0000004EA01C4E58>)),\n",
       "                ('tfidf', TfidfTransformer()),\n",
       "                ('classifier', DecisionTreeClassifier())])"
      ]
     },
     "execution_count": 155,
     "metadata": {},
     "output_type": "execute_result"
    }
   ],
   "source": [
    "pipe.fit(df.SenderText, df.BotText)"
   ]
  },
  {
   "cell_type": "markdown",
   "metadata": {},
   "source": [
    "#### Chatbot Functionality\n",
    "\n",
    "Let's take a look at the responses the bot gives us after training on the examples"
   ]
  },
  {
   "cell_type": "code",
   "execution_count": 157,
   "metadata": {},
   "outputs": [
    {
     "name": "stdout",
     "output_type": "stream",
     "text": [
      "thank you.\n",
      "i'm fine. how about yourself?\n",
      "worried about what?\n"
     ]
    }
   ],
   "source": [
    "# testing with lines the bot knows\n",
    "print(pipe.predict(['Hello'])[0])\n",
    "print(pipe.predict(['Hi, how are you doing'])[0])\n",
    "print(pipe.predict([\"i'm pretty good.\"])[0])"
   ]
  },
  {
   "cell_type": "code",
   "execution_count": 158,
   "metadata": {},
   "outputs": [
    {
     "name": "stdout",
     "output_type": "stream",
     "text": [
      "thank you.\n",
      "i attended school today. did you?\n",
      "worried about what?\n"
     ]
    }
   ],
   "source": [
    "# testing with lines similar to what the bot knows\n",
    "print(pipe.predict(['helo'])[0])  #testing a typo\n",
    "print(pipe.predict(['Hi, how are you today'])[0]) #single word change\n",
    "print(pipe.predict([\"i'm good.\"])[0]) #single word excluded"
   ]
  },
  {
   "cell_type": "code",
   "execution_count": 159,
   "metadata": {},
   "outputs": [
    {
     "name": "stdout",
     "output_type": "stream",
     "text": [
      "i'd have to say babe ruth.\n",
      "i'm not voting for the mayor.\n",
      "my favorite movie is superbad.\n"
     ]
    }
   ],
   "source": [
    "# testing with lines unknown to the bot\n",
    "print(pipe.predict([\"where is the lizard?\"])[0])\n",
    "print(pipe.predict([\"what do you want for dinner?\"])[0])\n",
    "print(pipe.predict([\"what's your favorite food?\"])[0])"
   ]
  },
  {
   "cell_type": "markdown",
   "metadata": {},
   "source": [
    "Above, we can see the bot performs very well on lines it was trained on, so-so on lines similar to what it was trained on, and pretty poorly on lines not like anything it has seen, although these responses are pretty funny!"
   ]
  },
  {
   "cell_type": "markdown",
   "metadata": {},
   "source": [
    "### Summary"
   ]
  },
  {
   "cell_type": "markdown",
   "metadata": {},
   "source": []
  },
  {
   "cell_type": "markdown",
   "metadata": {},
   "source": [
    "#### Save Dataset"
   ]
  },
  {
   "cell_type": "code",
   "execution_count": 110,
   "metadata": {},
   "outputs": [],
   "source": [
    "data_path_save = os.path.join(PROJ_ROOT,'Data', 'kaggle-dialogs-and-hangouts-dialogs.txt')\n",
    "df.to_csv(data_path_save)"
   ]
  },
  {
   "cell_type": "markdown",
   "metadata": {},
   "source": [
    "#### Notebook details"
   ]
  },
  {
   "cell_type": "code",
   "execution_count": 14,
   "metadata": {},
   "outputs": [
    {
     "name": "stdout",
     "output_type": "stream",
     "text": [
      "The watermark extension is already loaded. To reload it, use:\n",
      "  %reload_ext watermark\n",
      "H.GRYK 2020-10-23 13:20:31 \n",
      "\n",
      "CPython 3.7.7\n",
      "IPython 7.18.1\n",
      "\n",
      "pandas 1.0.5\n",
      "numpy 1.19.1\n",
      "os unknown\n",
      "sys 3.7.7 (default, May  6 2020, 11:45:54) [MSC v.1916 64 bit (AMD64)]\n",
      "nltk 3.5\n",
      "sklearn 0.23.2\n",
      "tqdm 4.48.2\n"
     ]
    }
   ],
   "source": [
    "# use watermark in a notebook with the following call\n",
    "%load_ext watermark\n",
    "\n",
    "# %watermark? #<-- watermark documentation\n",
    "\n",
    "%watermark -a \"H.GRYK\" -d -t -v -p pandas\n",
    "%watermark -p numpy\n",
    "%watermark -p os\n",
    "%watermark -p sys\n",
    "%watermark -p nltk\n",
    "%watermark -p sklearn\n",
    "%watermark -p tqdm"
   ]
  },
  {
   "cell_type": "code",
   "execution_count": null,
   "metadata": {},
   "outputs": [],
   "source": []
  }
 ],
 "metadata": {
  "kernelspec": {
   "display_name": "Python 3",
   "language": "python",
   "name": "python3"
  },
  "language_info": {
   "codemirror_mode": {
    "name": "ipython",
    "version": 3
   },
   "file_extension": ".py",
   "mimetype": "text/x-python",
   "name": "python",
   "nbconvert_exporter": "python",
   "pygments_lexer": "ipython3",
   "version": "3.7.7"
  }
 },
 "nbformat": 4,
 "nbformat_minor": 4
}
